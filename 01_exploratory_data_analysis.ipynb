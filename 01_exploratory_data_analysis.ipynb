{
  "nbformat": 4,
  "nbformat_minor": 0,
  "metadata": {
    "colab": {
      "provenance": [],
      "include_colab_link": true
    },
    "kernelspec": {
      "name": "python3",
      "display_name": "Python 3"
    },
    "language_info": {
      "name": "python"
    }
  },
  "cells": [
    {
      "cell_type": "markdown",
      "metadata": {
        "id": "view-in-github",
        "colab_type": "text"
      },
      "source": [
        "<a href=\"https://colab.research.google.com/github/JeiGeek/ia1-LosPandas-prediccion_rendimiento_estudiantil/blob/main/01_exploratory_data_analysis.ipynb\" target=\"_parent\"><img src=\"https://colab.research.google.com/assets/colab-badge.svg\" alt=\"Open In Colab\"/></a>"
      ]
    },
    {
      "cell_type": "code",
      "source": [
        "# Librerias\n",
        "import pandas as pd\n",
        "import seaborn as sns\n",
        "import matplotlib.pyplot as plt\n"
      ],
      "metadata": {
        "id": "akbEVOjaXzeX"
      },
      "execution_count": null,
      "outputs": []
    },
    {
      "cell_type": "markdown",
      "source": [
        "<h1> <b> Carga del dataset"
      ],
      "metadata": {
        "id": "h7XILlmWXtzP"
      }
    },
    {
      "cell_type": "code",
      "source": [
        "# Carga desde github\n",
        "url = \"https://raw.githubusercontent.com/JeiGeek/ia1-LosPandas-prediccion_rendimiento_estudiantil/main/Dataset/StudentPerformanceFactors.csv\"\n",
        "df = pd.read_csv(url)"
      ],
      "metadata": {
        "id": "Nc10RsVXTeOo"
      },
      "execution_count": null,
      "outputs": []
    },
    {
      "cell_type": "code",
      "source": [
        "# Limpieza de nulos\n",
        "df = df.dropna()"
      ],
      "metadata": {
        "id": "ETVbwVTabpia"
      },
      "execution_count": null,
      "outputs": []
    },
    {
      "cell_type": "code",
      "source": [
        "# Información de las columnas\n",
        "df.info()"
      ],
      "metadata": {
        "id": "mVsALzEcb9VE",
        "outputId": "26866ff1-66e5-41ea-b493-db023604b83f",
        "colab": {
          "base_uri": "https://localhost:8080/"
        }
      },
      "execution_count": null,
      "outputs": [
        {
          "output_type": "stream",
          "name": "stdout",
          "text": [
            "<class 'pandas.core.frame.DataFrame'>\n",
            "Index: 6378 entries, 0 to 6606\n",
            "Data columns (total 20 columns):\n",
            " #   Column                      Non-Null Count  Dtype \n",
            "---  ------                      --------------  ----- \n",
            " 0   Hours_Studied               6378 non-null   int64 \n",
            " 1   Attendance                  6378 non-null   int64 \n",
            " 2   Parental_Involvement        6378 non-null   object\n",
            " 3   Access_to_Resources         6378 non-null   object\n",
            " 4   Extracurricular_Activities  6378 non-null   object\n",
            " 5   Sleep_Hours                 6378 non-null   int64 \n",
            " 6   Previous_Scores             6378 non-null   int64 \n",
            " 7   Motivation_Level            6378 non-null   object\n",
            " 8   Internet_Access             6378 non-null   object\n",
            " 9   Tutoring_Sessions           6378 non-null   int64 \n",
            " 10  Family_Income               6378 non-null   object\n",
            " 11  Teacher_Quality             6378 non-null   object\n",
            " 12  School_Type                 6378 non-null   object\n",
            " 13  Peer_Influence              6378 non-null   object\n",
            " 14  Physical_Activity           6378 non-null   int64 \n",
            " 15  Learning_Disabilities       6378 non-null   object\n",
            " 16  Parental_Education_Level    6378 non-null   object\n",
            " 17  Distance_from_Home          6378 non-null   object\n",
            " 18  Gender                      6378 non-null   object\n",
            " 19  Exam_Score                  6378 non-null   int64 \n",
            "dtypes: int64(7), object(13)\n",
            "memory usage: 1.0+ MB\n"
          ]
        }
      ]
    }
  ]
}