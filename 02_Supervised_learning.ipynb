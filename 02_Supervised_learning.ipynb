{
  "nbformat": 4,
  "nbformat_minor": 0,
  "metadata": {
    "colab": {
      "provenance": [],
      "include_colab_link": true
    },
    "kernelspec": {
      "name": "python3",
      "display_name": "Python 3"
    },
    "language_info": {
      "name": "python"
    }
  },
  "cells": [
    {
      "cell_type": "markdown",
      "metadata": {
        "id": "view-in-github",
        "colab_type": "text"
      },
      "source": [
        "<a href=\"https://colab.research.google.com/github/JeiGeek/ia1-LosPandas-prediccion_rendimiento_estudiantil/blob/main/02_Supervised_learning.ipynb\" target=\"_parent\"><img src=\"https://colab.research.google.com/assets/colab-badge.svg\" alt=\"Open In Colab\"/></a>"
      ]
    },
    {
      "cell_type": "code",
      "execution_count": null,
      "metadata": {
        "id": "zRfB-UJJIJg8"
      },
      "outputs": [],
      "source": [
        "# Librerias\n",
        "import numpy as np\n",
        "import pandas as pd\n",
        "import seaborn as sns\n",
        "import matplotlib.pyplot as plt\n",
        "\n",
        "# Partición de dataset\n",
        "from sklearn.model_selection import train_test_split\n",
        "\n",
        "# Particion de entrenamiento KFol y tunning\n",
        "from sklearn.model_selection import StratifiedKFold, cross_val_score, cross_validate, GridSearchCV\n",
        "\n",
        "# Librerias de modelos\n",
        "from sklearn.naive_bayes import GaussianNB\n",
        "from sklearn.tree import DecisionTreeClassifier\n",
        "\n",
        "# Librerias para reporte de metricas\n",
        "from sklearn.metrics import accuracy_score, precision_score, recall_score, f1_score, classification_report, balanced_accuracy_score, matthews_corrcoef, make_scorer"
      ]
    },
    {
      "cell_type": "markdown",
      "source": [
        "# **Carga y ajustes del dataset**"
      ],
      "metadata": {
        "id": "jh-zr5QpI02P"
      }
    },
    {
      "cell_type": "code",
      "source": [
        "# Carga desde github\n",
        "url = \"https://raw.githubusercontent.com/JeiGeek/ia1-LosPandas-prediccion_rendimiento_estudiantil/main/Dataset/StudentPerformanceFactors.csv\"\n",
        "df = pd.read_csv(url)"
      ],
      "metadata": {
        "id": "9ymqQNKaI4dB"
      },
      "execution_count": null,
      "outputs": []
    },
    {
      "cell_type": "code",
      "source": [
        "# Limpieza de nulos y valores fuera del margen\n",
        "df = df.dropna()\n",
        "df = df[df['Exam_Score'] <= 100]\n",
        "df.info()"
      ],
      "metadata": {
        "id": "HTt2QKSfcLzu",
        "outputId": "bd5a4a09-3090-490e-8fab-4915d81baf64",
        "colab": {
          "base_uri": "https://localhost:8080/"
        }
      },
      "execution_count": null,
      "outputs": [
        {
          "output_type": "stream",
          "name": "stdout",
          "text": [
            "<class 'pandas.core.frame.DataFrame'>\n",
            "Index: 6377 entries, 0 to 6606\n",
            "Data columns (total 20 columns):\n",
            " #   Column                      Non-Null Count  Dtype \n",
            "---  ------                      --------------  ----- \n",
            " 0   Hours_Studied               6377 non-null   int64 \n",
            " 1   Attendance                  6377 non-null   int64 \n",
            " 2   Parental_Involvement        6377 non-null   object\n",
            " 3   Access_to_Resources         6377 non-null   object\n",
            " 4   Extracurricular_Activities  6377 non-null   object\n",
            " 5   Sleep_Hours                 6377 non-null   int64 \n",
            " 6   Previous_Scores             6377 non-null   int64 \n",
            " 7   Motivation_Level            6377 non-null   object\n",
            " 8   Internet_Access             6377 non-null   object\n",
            " 9   Tutoring_Sessions           6377 non-null   int64 \n",
            " 10  Family_Income               6377 non-null   object\n",
            " 11  Teacher_Quality             6377 non-null   object\n",
            " 12  School_Type                 6377 non-null   object\n",
            " 13  Peer_Influence              6377 non-null   object\n",
            " 14  Physical_Activity           6377 non-null   int64 \n",
            " 15  Learning_Disabilities       6377 non-null   object\n",
            " 16  Parental_Education_Level    6377 non-null   object\n",
            " 17  Distance_from_Home          6377 non-null   object\n",
            " 18  Gender                      6377 non-null   object\n",
            " 19  Exam_Score                  6377 non-null   int64 \n",
            "dtypes: int64(7), object(13)\n",
            "memory usage: 1.0+ MB\n"
          ]
        }
      ]
    },
    {
      "cell_type": "code",
      "source": [
        "# Hay 13 variables de tipo categoricas, se convierten en tipo numericas (se le da un valor ya sea 0 y 1, o 1,2,3)\n",
        "\n",
        "df_encoded = df.copy()\n",
        "\n",
        "# Categorizacion binaria para categorias que son solo 2 dos tipos\n",
        "\n",
        "# get_dummies - Convierte tablas categoricas en binarios\n",
        "# drop_first - quita la columna redudante que se genera\n",
        "df_encoded = pd.get_dummies(df_encoded, columns=[\"Extracurricular_Activities\", \"Internet_Access\", \"School_Type\", \"Learning_Disabilities\", \"Gender\"], drop_first=True)\n",
        "\n",
        "# Categorizacion por categorias que son de 3 tipos\n",
        "\n",
        "# para categorias bajo - medio - alto\n",
        "mapping = {\"Low\":1, \"Medium\":2, \"High\":3}\n",
        "columnas = [\"Parental_Involvement\", \"Access_to_Resources\", \"Motivation_Level\", \"Family_Income\", \"Teacher_Quality\"]\n",
        "\n",
        "for columna in columnas:\n",
        "    df_encoded[columna] = df_encoded[columna].map(mapping)\n",
        "\n",
        "# para categoria negativo - positivo - neutral\n",
        "mapping = {\"Negative\":-1, \"Positive\":1, \"Neutral\":0}\n",
        "df_encoded[\"Peer_Influence\"] = df_encoded[\"Peer_Influence\"].map(mapping)\n",
        "\n",
        "# para categoria High School - College - Postgraduate\n",
        "mapping = {\"High School\":1, \"College\":2, \"Postgraduate\":3}\n",
        "df_encoded[\"Parental_Education_Level\"] = df_encoded[\"Parental_Education_Level\"].map(mapping)\n",
        "\n",
        "# para categoria Near - Moderate - Far\n",
        "mapping = {\"Near\":1, \"Moderate\":2, \"Far\":3}\n",
        "df_encoded[\"Distance_from_Home\"] = df_encoded[\"Distance_from_Home\"].map(mapping)\n",
        "\n",
        "\n",
        "# Convertir las columnas booleanas resultantes en 0 y 1\n",
        "bool_cols = df_encoded.select_dtypes(include=[\"bool\"]).columns # Se seleccionan las columnas solamente las columnas booleanas\n",
        "df_encoded[bool_cols] = df_encoded[bool_cols].astype(int) # Se convierten en 0 y 1"
      ],
      "metadata": {
        "id": "Tj52X9lccerb"
      },
      "execution_count": null,
      "outputs": []
    },
    {
      "cell_type": "code",
      "source": [
        "df_encoded"
      ],
      "metadata": {
        "id": "ogOB2BHychz-",
        "outputId": "b4b0b9b4-b0b3-49c5-becf-53cb358bf8b8",
        "colab": {
          "base_uri": "https://localhost:8080/",
          "height": 444
        }
      },
      "execution_count": null,
      "outputs": [
        {
          "output_type": "execute_result",
          "data": {
            "text/plain": [
              "      Hours_Studied  Attendance  Parental_Involvement  Access_to_Resources  \\\n",
              "0                23          84                     1                    3   \n",
              "1                19          64                     1                    2   \n",
              "2                24          98                     2                    2   \n",
              "3                29          89                     1                    2   \n",
              "4                19          92                     2                    2   \n",
              "...             ...         ...                   ...                  ...   \n",
              "6602             25          69                     3                    2   \n",
              "6603             23          76                     3                    2   \n",
              "6604             20          90                     2                    1   \n",
              "6605             10          86                     3                    3   \n",
              "6606             15          67                     2                    1   \n",
              "\n",
              "      Sleep_Hours  Previous_Scores  Motivation_Level  Tutoring_Sessions  \\\n",
              "0               7               73                 1                  0   \n",
              "1               8               59                 1                  2   \n",
              "2               7               91                 2                  2   \n",
              "3               8               98                 2                  1   \n",
              "4               6               65                 2                  3   \n",
              "...           ...              ...               ...                ...   \n",
              "6602            7               76                 2                  1   \n",
              "6603            8               81                 2                  3   \n",
              "6604            6               65                 1                  3   \n",
              "6605            6               91                 3                  2   \n",
              "6606            9               94                 2                  0   \n",
              "\n",
              "      Family_Income  Teacher_Quality  Peer_Influence  Physical_Activity  \\\n",
              "0                 1                2               1                  3   \n",
              "1                 2                2              -1                  4   \n",
              "2                 2                2               0                  4   \n",
              "3                 2                2              -1                  4   \n",
              "4                 2                3               0                  4   \n",
              "...             ...              ...             ...                ...   \n",
              "6602              3                2               1                  2   \n",
              "6603              1                3               1                  2   \n",
              "6604              1                2              -1                  2   \n",
              "6605              1                2               1                  3   \n",
              "6606              2                2               1                  4   \n",
              "\n",
              "      Parental_Education_Level  Distance_from_Home  Exam_Score  \\\n",
              "0                            1                   1          67   \n",
              "1                            2                   2          61   \n",
              "2                            3                   1          74   \n",
              "3                            1                   2          71   \n",
              "4                            2                   1          70   \n",
              "...                        ...                 ...         ...   \n",
              "6602                         1                   1          68   \n",
              "6603                         1                   1          69   \n",
              "6604                         3                   1          68   \n",
              "6605                         1                   3          68   \n",
              "6606                         3                   1          64   \n",
              "\n",
              "      Extracurricular_Activities_Yes  Internet_Access_Yes  School_Type_Public  \\\n",
              "0                                  0                    1                   1   \n",
              "1                                  0                    1                   1   \n",
              "2                                  1                    1                   1   \n",
              "3                                  1                    1                   1   \n",
              "4                                  1                    1                   1   \n",
              "...                              ...                  ...                 ...   \n",
              "6602                               0                    1                   1   \n",
              "6603                               0                    1                   1   \n",
              "6604                               1                    1                   1   \n",
              "6605                               1                    1                   0   \n",
              "6606                               1                    1                   1   \n",
              "\n",
              "      Learning_Disabilities_Yes  Gender_Male  \n",
              "0                             0            1  \n",
              "1                             0            0  \n",
              "2                             0            1  \n",
              "3                             0            1  \n",
              "4                             0            0  \n",
              "...                         ...          ...  \n",
              "6602                          0            0  \n",
              "6603                          0            0  \n",
              "6604                          0            0  \n",
              "6605                          0            0  \n",
              "6606                          0            1  \n",
              "\n",
              "[6377 rows x 20 columns]"
            ],
            "text/html": [
              "\n",
              "  <div id=\"df-cf10fa04-2201-40cf-b9c0-48d0ce674872\" class=\"colab-df-container\">\n",
              "    <div>\n",
              "<style scoped>\n",
              "    .dataframe tbody tr th:only-of-type {\n",
              "        vertical-align: middle;\n",
              "    }\n",
              "\n",
              "    .dataframe tbody tr th {\n",
              "        vertical-align: top;\n",
              "    }\n",
              "\n",
              "    .dataframe thead th {\n",
              "        text-align: right;\n",
              "    }\n",
              "</style>\n",
              "<table border=\"1\" class=\"dataframe\">\n",
              "  <thead>\n",
              "    <tr style=\"text-align: right;\">\n",
              "      <th></th>\n",
              "      <th>Hours_Studied</th>\n",
              "      <th>Attendance</th>\n",
              "      <th>Parental_Involvement</th>\n",
              "      <th>Access_to_Resources</th>\n",
              "      <th>Sleep_Hours</th>\n",
              "      <th>Previous_Scores</th>\n",
              "      <th>Motivation_Level</th>\n",
              "      <th>Tutoring_Sessions</th>\n",
              "      <th>Family_Income</th>\n",
              "      <th>Teacher_Quality</th>\n",
              "      <th>Peer_Influence</th>\n",
              "      <th>Physical_Activity</th>\n",
              "      <th>Parental_Education_Level</th>\n",
              "      <th>Distance_from_Home</th>\n",
              "      <th>Exam_Score</th>\n",
              "      <th>Extracurricular_Activities_Yes</th>\n",
              "      <th>Internet_Access_Yes</th>\n",
              "      <th>School_Type_Public</th>\n",
              "      <th>Learning_Disabilities_Yes</th>\n",
              "      <th>Gender_Male</th>\n",
              "    </tr>\n",
              "  </thead>\n",
              "  <tbody>\n",
              "    <tr>\n",
              "      <th>0</th>\n",
              "      <td>23</td>\n",
              "      <td>84</td>\n",
              "      <td>1</td>\n",
              "      <td>3</td>\n",
              "      <td>7</td>\n",
              "      <td>73</td>\n",
              "      <td>1</td>\n",
              "      <td>0</td>\n",
              "      <td>1</td>\n",
              "      <td>2</td>\n",
              "      <td>1</td>\n",
              "      <td>3</td>\n",
              "      <td>1</td>\n",
              "      <td>1</td>\n",
              "      <td>67</td>\n",
              "      <td>0</td>\n",
              "      <td>1</td>\n",
              "      <td>1</td>\n",
              "      <td>0</td>\n",
              "      <td>1</td>\n",
              "    </tr>\n",
              "    <tr>\n",
              "      <th>1</th>\n",
              "      <td>19</td>\n",
              "      <td>64</td>\n",
              "      <td>1</td>\n",
              "      <td>2</td>\n",
              "      <td>8</td>\n",
              "      <td>59</td>\n",
              "      <td>1</td>\n",
              "      <td>2</td>\n",
              "      <td>2</td>\n",
              "      <td>2</td>\n",
              "      <td>-1</td>\n",
              "      <td>4</td>\n",
              "      <td>2</td>\n",
              "      <td>2</td>\n",
              "      <td>61</td>\n",
              "      <td>0</td>\n",
              "      <td>1</td>\n",
              "      <td>1</td>\n",
              "      <td>0</td>\n",
              "      <td>0</td>\n",
              "    </tr>\n",
              "    <tr>\n",
              "      <th>2</th>\n",
              "      <td>24</td>\n",
              "      <td>98</td>\n",
              "      <td>2</td>\n",
              "      <td>2</td>\n",
              "      <td>7</td>\n",
              "      <td>91</td>\n",
              "      <td>2</td>\n",
              "      <td>2</td>\n",
              "      <td>2</td>\n",
              "      <td>2</td>\n",
              "      <td>0</td>\n",
              "      <td>4</td>\n",
              "      <td>3</td>\n",
              "      <td>1</td>\n",
              "      <td>74</td>\n",
              "      <td>1</td>\n",
              "      <td>1</td>\n",
              "      <td>1</td>\n",
              "      <td>0</td>\n",
              "      <td>1</td>\n",
              "    </tr>\n",
              "    <tr>\n",
              "      <th>3</th>\n",
              "      <td>29</td>\n",
              "      <td>89</td>\n",
              "      <td>1</td>\n",
              "      <td>2</td>\n",
              "      <td>8</td>\n",
              "      <td>98</td>\n",
              "      <td>2</td>\n",
              "      <td>1</td>\n",
              "      <td>2</td>\n",
              "      <td>2</td>\n",
              "      <td>-1</td>\n",
              "      <td>4</td>\n",
              "      <td>1</td>\n",
              "      <td>2</td>\n",
              "      <td>71</td>\n",
              "      <td>1</td>\n",
              "      <td>1</td>\n",
              "      <td>1</td>\n",
              "      <td>0</td>\n",
              "      <td>1</td>\n",
              "    </tr>\n",
              "    <tr>\n",
              "      <th>4</th>\n",
              "      <td>19</td>\n",
              "      <td>92</td>\n",
              "      <td>2</td>\n",
              "      <td>2</td>\n",
              "      <td>6</td>\n",
              "      <td>65</td>\n",
              "      <td>2</td>\n",
              "      <td>3</td>\n",
              "      <td>2</td>\n",
              "      <td>3</td>\n",
              "      <td>0</td>\n",
              "      <td>4</td>\n",
              "      <td>2</td>\n",
              "      <td>1</td>\n",
              "      <td>70</td>\n",
              "      <td>1</td>\n",
              "      <td>1</td>\n",
              "      <td>1</td>\n",
              "      <td>0</td>\n",
              "      <td>0</td>\n",
              "    </tr>\n",
              "    <tr>\n",
              "      <th>...</th>\n",
              "      <td>...</td>\n",
              "      <td>...</td>\n",
              "      <td>...</td>\n",
              "      <td>...</td>\n",
              "      <td>...</td>\n",
              "      <td>...</td>\n",
              "      <td>...</td>\n",
              "      <td>...</td>\n",
              "      <td>...</td>\n",
              "      <td>...</td>\n",
              "      <td>...</td>\n",
              "      <td>...</td>\n",
              "      <td>...</td>\n",
              "      <td>...</td>\n",
              "      <td>...</td>\n",
              "      <td>...</td>\n",
              "      <td>...</td>\n",
              "      <td>...</td>\n",
              "      <td>...</td>\n",
              "      <td>...</td>\n",
              "    </tr>\n",
              "    <tr>\n",
              "      <th>6602</th>\n",
              "      <td>25</td>\n",
              "      <td>69</td>\n",
              "      <td>3</td>\n",
              "      <td>2</td>\n",
              "      <td>7</td>\n",
              "      <td>76</td>\n",
              "      <td>2</td>\n",
              "      <td>1</td>\n",
              "      <td>3</td>\n",
              "      <td>2</td>\n",
              "      <td>1</td>\n",
              "      <td>2</td>\n",
              "      <td>1</td>\n",
              "      <td>1</td>\n",
              "      <td>68</td>\n",
              "      <td>0</td>\n",
              "      <td>1</td>\n",
              "      <td>1</td>\n",
              "      <td>0</td>\n",
              "      <td>0</td>\n",
              "    </tr>\n",
              "    <tr>\n",
              "      <th>6603</th>\n",
              "      <td>23</td>\n",
              "      <td>76</td>\n",
              "      <td>3</td>\n",
              "      <td>2</td>\n",
              "      <td>8</td>\n",
              "      <td>81</td>\n",
              "      <td>2</td>\n",
              "      <td>3</td>\n",
              "      <td>1</td>\n",
              "      <td>3</td>\n",
              "      <td>1</td>\n",
              "      <td>2</td>\n",
              "      <td>1</td>\n",
              "      <td>1</td>\n",
              "      <td>69</td>\n",
              "      <td>0</td>\n",
              "      <td>1</td>\n",
              "      <td>1</td>\n",
              "      <td>0</td>\n",
              "      <td>0</td>\n",
              "    </tr>\n",
              "    <tr>\n",
              "      <th>6604</th>\n",
              "      <td>20</td>\n",
              "      <td>90</td>\n",
              "      <td>2</td>\n",
              "      <td>1</td>\n",
              "      <td>6</td>\n",
              "      <td>65</td>\n",
              "      <td>1</td>\n",
              "      <td>3</td>\n",
              "      <td>1</td>\n",
              "      <td>2</td>\n",
              "      <td>-1</td>\n",
              "      <td>2</td>\n",
              "      <td>3</td>\n",
              "      <td>1</td>\n",
              "      <td>68</td>\n",
              "      <td>1</td>\n",
              "      <td>1</td>\n",
              "      <td>1</td>\n",
              "      <td>0</td>\n",
              "      <td>0</td>\n",
              "    </tr>\n",
              "    <tr>\n",
              "      <th>6605</th>\n",
              "      <td>10</td>\n",
              "      <td>86</td>\n",
              "      <td>3</td>\n",
              "      <td>3</td>\n",
              "      <td>6</td>\n",
              "      <td>91</td>\n",
              "      <td>3</td>\n",
              "      <td>2</td>\n",
              "      <td>1</td>\n",
              "      <td>2</td>\n",
              "      <td>1</td>\n",
              "      <td>3</td>\n",
              "      <td>1</td>\n",
              "      <td>3</td>\n",
              "      <td>68</td>\n",
              "      <td>1</td>\n",
              "      <td>1</td>\n",
              "      <td>0</td>\n",
              "      <td>0</td>\n",
              "      <td>0</td>\n",
              "    </tr>\n",
              "    <tr>\n",
              "      <th>6606</th>\n",
              "      <td>15</td>\n",
              "      <td>67</td>\n",
              "      <td>2</td>\n",
              "      <td>1</td>\n",
              "      <td>9</td>\n",
              "      <td>94</td>\n",
              "      <td>2</td>\n",
              "      <td>0</td>\n",
              "      <td>2</td>\n",
              "      <td>2</td>\n",
              "      <td>1</td>\n",
              "      <td>4</td>\n",
              "      <td>3</td>\n",
              "      <td>1</td>\n",
              "      <td>64</td>\n",
              "      <td>1</td>\n",
              "      <td>1</td>\n",
              "      <td>1</td>\n",
              "      <td>0</td>\n",
              "      <td>1</td>\n",
              "    </tr>\n",
              "  </tbody>\n",
              "</table>\n",
              "<p>6377 rows × 20 columns</p>\n",
              "</div>\n",
              "    <div class=\"colab-df-buttons\">\n",
              "\n",
              "  <div class=\"colab-df-container\">\n",
              "    <button class=\"colab-df-convert\" onclick=\"convertToInteractive('df-cf10fa04-2201-40cf-b9c0-48d0ce674872')\"\n",
              "            title=\"Convert this dataframe to an interactive table.\"\n",
              "            style=\"display:none;\">\n",
              "\n",
              "  <svg xmlns=\"http://www.w3.org/2000/svg\" height=\"24px\" viewBox=\"0 -960 960 960\">\n",
              "    <path d=\"M120-120v-720h720v720H120Zm60-500h600v-160H180v160Zm220 220h160v-160H400v160Zm0 220h160v-160H400v160ZM180-400h160v-160H180v160Zm440 0h160v-160H620v160ZM180-180h160v-160H180v160Zm440 0h160v-160H620v160Z\"/>\n",
              "  </svg>\n",
              "    </button>\n",
              "\n",
              "  <style>\n",
              "    .colab-df-container {\n",
              "      display:flex;\n",
              "      gap: 12px;\n",
              "    }\n",
              "\n",
              "    .colab-df-convert {\n",
              "      background-color: #E8F0FE;\n",
              "      border: none;\n",
              "      border-radius: 50%;\n",
              "      cursor: pointer;\n",
              "      display: none;\n",
              "      fill: #1967D2;\n",
              "      height: 32px;\n",
              "      padding: 0 0 0 0;\n",
              "      width: 32px;\n",
              "    }\n",
              "\n",
              "    .colab-df-convert:hover {\n",
              "      background-color: #E2EBFA;\n",
              "      box-shadow: 0px 1px 2px rgba(60, 64, 67, 0.3), 0px 1px 3px 1px rgba(60, 64, 67, 0.15);\n",
              "      fill: #174EA6;\n",
              "    }\n",
              "\n",
              "    .colab-df-buttons div {\n",
              "      margin-bottom: 4px;\n",
              "    }\n",
              "\n",
              "    [theme=dark] .colab-df-convert {\n",
              "      background-color: #3B4455;\n",
              "      fill: #D2E3FC;\n",
              "    }\n",
              "\n",
              "    [theme=dark] .colab-df-convert:hover {\n",
              "      background-color: #434B5C;\n",
              "      box-shadow: 0px 1px 3px 1px rgba(0, 0, 0, 0.15);\n",
              "      filter: drop-shadow(0px 1px 2px rgba(0, 0, 0, 0.3));\n",
              "      fill: #FFFFFF;\n",
              "    }\n",
              "  </style>\n",
              "\n",
              "    <script>\n",
              "      const buttonEl =\n",
              "        document.querySelector('#df-cf10fa04-2201-40cf-b9c0-48d0ce674872 button.colab-df-convert');\n",
              "      buttonEl.style.display =\n",
              "        google.colab.kernel.accessAllowed ? 'block' : 'none';\n",
              "\n",
              "      async function convertToInteractive(key) {\n",
              "        const element = document.querySelector('#df-cf10fa04-2201-40cf-b9c0-48d0ce674872');\n",
              "        const dataTable =\n",
              "          await google.colab.kernel.invokeFunction('convertToInteractive',\n",
              "                                                    [key], {});\n",
              "        if (!dataTable) return;\n",
              "\n",
              "        const docLinkHtml = 'Like what you see? Visit the ' +\n",
              "          '<a target=\"_blank\" href=https://colab.research.google.com/notebooks/data_table.ipynb>data table notebook</a>'\n",
              "          + ' to learn more about interactive tables.';\n",
              "        element.innerHTML = '';\n",
              "        dataTable['output_type'] = 'display_data';\n",
              "        await google.colab.output.renderOutput(dataTable, element);\n",
              "        const docLink = document.createElement('div');\n",
              "        docLink.innerHTML = docLinkHtml;\n",
              "        element.appendChild(docLink);\n",
              "      }\n",
              "    </script>\n",
              "  </div>\n",
              "\n",
              "\n",
              "    <div id=\"df-5e822881-9cc8-4d7d-ba77-fb62f17afbb1\">\n",
              "      <button class=\"colab-df-quickchart\" onclick=\"quickchart('df-5e822881-9cc8-4d7d-ba77-fb62f17afbb1')\"\n",
              "                title=\"Suggest charts\"\n",
              "                style=\"display:none;\">\n",
              "\n",
              "<svg xmlns=\"http://www.w3.org/2000/svg\" height=\"24px\"viewBox=\"0 0 24 24\"\n",
              "     width=\"24px\">\n",
              "    <g>\n",
              "        <path d=\"M19 3H5c-1.1 0-2 .9-2 2v14c0 1.1.9 2 2 2h14c1.1 0 2-.9 2-2V5c0-1.1-.9-2-2-2zM9 17H7v-7h2v7zm4 0h-2V7h2v10zm4 0h-2v-4h2v4z\"/>\n",
              "    </g>\n",
              "</svg>\n",
              "      </button>\n",
              "\n",
              "<style>\n",
              "  .colab-df-quickchart {\n",
              "      --bg-color: #E8F0FE;\n",
              "      --fill-color: #1967D2;\n",
              "      --hover-bg-color: #E2EBFA;\n",
              "      --hover-fill-color: #174EA6;\n",
              "      --disabled-fill-color: #AAA;\n",
              "      --disabled-bg-color: #DDD;\n",
              "  }\n",
              "\n",
              "  [theme=dark] .colab-df-quickchart {\n",
              "      --bg-color: #3B4455;\n",
              "      --fill-color: #D2E3FC;\n",
              "      --hover-bg-color: #434B5C;\n",
              "      --hover-fill-color: #FFFFFF;\n",
              "      --disabled-bg-color: #3B4455;\n",
              "      --disabled-fill-color: #666;\n",
              "  }\n",
              "\n",
              "  .colab-df-quickchart {\n",
              "    background-color: var(--bg-color);\n",
              "    border: none;\n",
              "    border-radius: 50%;\n",
              "    cursor: pointer;\n",
              "    display: none;\n",
              "    fill: var(--fill-color);\n",
              "    height: 32px;\n",
              "    padding: 0;\n",
              "    width: 32px;\n",
              "  }\n",
              "\n",
              "  .colab-df-quickchart:hover {\n",
              "    background-color: var(--hover-bg-color);\n",
              "    box-shadow: 0 1px 2px rgba(60, 64, 67, 0.3), 0 1px 3px 1px rgba(60, 64, 67, 0.15);\n",
              "    fill: var(--button-hover-fill-color);\n",
              "  }\n",
              "\n",
              "  .colab-df-quickchart-complete:disabled,\n",
              "  .colab-df-quickchart-complete:disabled:hover {\n",
              "    background-color: var(--disabled-bg-color);\n",
              "    fill: var(--disabled-fill-color);\n",
              "    box-shadow: none;\n",
              "  }\n",
              "\n",
              "  .colab-df-spinner {\n",
              "    border: 2px solid var(--fill-color);\n",
              "    border-color: transparent;\n",
              "    border-bottom-color: var(--fill-color);\n",
              "    animation:\n",
              "      spin 1s steps(1) infinite;\n",
              "  }\n",
              "\n",
              "  @keyframes spin {\n",
              "    0% {\n",
              "      border-color: transparent;\n",
              "      border-bottom-color: var(--fill-color);\n",
              "      border-left-color: var(--fill-color);\n",
              "    }\n",
              "    20% {\n",
              "      border-color: transparent;\n",
              "      border-left-color: var(--fill-color);\n",
              "      border-top-color: var(--fill-color);\n",
              "    }\n",
              "    30% {\n",
              "      border-color: transparent;\n",
              "      border-left-color: var(--fill-color);\n",
              "      border-top-color: var(--fill-color);\n",
              "      border-right-color: var(--fill-color);\n",
              "    }\n",
              "    40% {\n",
              "      border-color: transparent;\n",
              "      border-right-color: var(--fill-color);\n",
              "      border-top-color: var(--fill-color);\n",
              "    }\n",
              "    60% {\n",
              "      border-color: transparent;\n",
              "      border-right-color: var(--fill-color);\n",
              "    }\n",
              "    80% {\n",
              "      border-color: transparent;\n",
              "      border-right-color: var(--fill-color);\n",
              "      border-bottom-color: var(--fill-color);\n",
              "    }\n",
              "    90% {\n",
              "      border-color: transparent;\n",
              "      border-bottom-color: var(--fill-color);\n",
              "    }\n",
              "  }\n",
              "</style>\n",
              "\n",
              "      <script>\n",
              "        async function quickchart(key) {\n",
              "          const quickchartButtonEl =\n",
              "            document.querySelector('#' + key + ' button');\n",
              "          quickchartButtonEl.disabled = true;  // To prevent multiple clicks.\n",
              "          quickchartButtonEl.classList.add('colab-df-spinner');\n",
              "          try {\n",
              "            const charts = await google.colab.kernel.invokeFunction(\n",
              "                'suggestCharts', [key], {});\n",
              "          } catch (error) {\n",
              "            console.error('Error during call to suggestCharts:', error);\n",
              "          }\n",
              "          quickchartButtonEl.classList.remove('colab-df-spinner');\n",
              "          quickchartButtonEl.classList.add('colab-df-quickchart-complete');\n",
              "        }\n",
              "        (() => {\n",
              "          let quickchartButtonEl =\n",
              "            document.querySelector('#df-5e822881-9cc8-4d7d-ba77-fb62f17afbb1 button');\n",
              "          quickchartButtonEl.style.display =\n",
              "            google.colab.kernel.accessAllowed ? 'block' : 'none';\n",
              "        })();\n",
              "      </script>\n",
              "    </div>\n",
              "\n",
              "  <div id=\"id_f32fe637-9f0c-43c7-97ec-21e397bb5483\">\n",
              "    <style>\n",
              "      .colab-df-generate {\n",
              "        background-color: #E8F0FE;\n",
              "        border: none;\n",
              "        border-radius: 50%;\n",
              "        cursor: pointer;\n",
              "        display: none;\n",
              "        fill: #1967D2;\n",
              "        height: 32px;\n",
              "        padding: 0 0 0 0;\n",
              "        width: 32px;\n",
              "      }\n",
              "\n",
              "      .colab-df-generate:hover {\n",
              "        background-color: #E2EBFA;\n",
              "        box-shadow: 0px 1px 2px rgba(60, 64, 67, 0.3), 0px 1px 3px 1px rgba(60, 64, 67, 0.15);\n",
              "        fill: #174EA6;\n",
              "      }\n",
              "\n",
              "      [theme=dark] .colab-df-generate {\n",
              "        background-color: #3B4455;\n",
              "        fill: #D2E3FC;\n",
              "      }\n",
              "\n",
              "      [theme=dark] .colab-df-generate:hover {\n",
              "        background-color: #434B5C;\n",
              "        box-shadow: 0px 1px 3px 1px rgba(0, 0, 0, 0.15);\n",
              "        filter: drop-shadow(0px 1px 2px rgba(0, 0, 0, 0.3));\n",
              "        fill: #FFFFFF;\n",
              "      }\n",
              "    </style>\n",
              "    <button class=\"colab-df-generate\" onclick=\"generateWithVariable('df_encoded')\"\n",
              "            title=\"Generate code using this dataframe.\"\n",
              "            style=\"display:none;\">\n",
              "\n",
              "  <svg xmlns=\"http://www.w3.org/2000/svg\" height=\"24px\"viewBox=\"0 0 24 24\"\n",
              "       width=\"24px\">\n",
              "    <path d=\"M7,19H8.4L18.45,9,17,7.55,7,17.6ZM5,21V16.75L18.45,3.32a2,2,0,0,1,2.83,0l1.4,1.43a1.91,1.91,0,0,1,.58,1.4,1.91,1.91,0,0,1-.58,1.4L9.25,21ZM18.45,9,17,7.55Zm-12,3A5.31,5.31,0,0,0,4.9,8.1,5.31,5.31,0,0,0,1,6.5,5.31,5.31,0,0,0,4.9,4.9,5.31,5.31,0,0,0,6.5,1,5.31,5.31,0,0,0,8.1,4.9,5.31,5.31,0,0,0,12,6.5,5.46,5.46,0,0,0,6.5,12Z\"/>\n",
              "  </svg>\n",
              "    </button>\n",
              "    <script>\n",
              "      (() => {\n",
              "      const buttonEl =\n",
              "        document.querySelector('#id_f32fe637-9f0c-43c7-97ec-21e397bb5483 button.colab-df-generate');\n",
              "      buttonEl.style.display =\n",
              "        google.colab.kernel.accessAllowed ? 'block' : 'none';\n",
              "\n",
              "      buttonEl.onclick = () => {\n",
              "        google.colab.notebook.generateWithVariable('df_encoded');\n",
              "      }\n",
              "      })();\n",
              "    </script>\n",
              "  </div>\n",
              "\n",
              "    </div>\n",
              "  </div>\n"
            ],
            "application/vnd.google.colaboratory.intrinsic+json": {
              "type": "dataframe",
              "variable_name": "df_encoded",
              "summary": "{\n  \"name\": \"df_encoded\",\n  \"rows\": 6377,\n  \"fields\": [\n    {\n      \"column\": \"Hours_Studied\",\n      \"properties\": {\n        \"dtype\": \"number\",\n        \"std\": 5,\n        \"min\": 1,\n        \"max\": 44,\n        \"num_unique_values\": 41,\n        \"samples\": [\n          27,\n          20,\n          10\n        ],\n        \"semantic_type\": \"\",\n        \"description\": \"\"\n      }\n    },\n    {\n      \"column\": \"Attendance\",\n      \"properties\": {\n        \"dtype\": \"number\",\n        \"std\": 11,\n        \"min\": 60,\n        \"max\": 100,\n        \"num_unique_values\": 41,\n        \"samples\": [\n          72,\n          60,\n          80\n        ],\n        \"semantic_type\": \"\",\n        \"description\": \"\"\n      }\n    },\n    {\n      \"column\": \"Parental_Involvement\",\n      \"properties\": {\n        \"dtype\": \"number\",\n        \"std\": 0,\n        \"min\": 1,\n        \"max\": 3,\n        \"num_unique_values\": 3,\n        \"samples\": [\n          1,\n          2,\n          3\n        ],\n        \"semantic_type\": \"\",\n        \"description\": \"\"\n      }\n    },\n    {\n      \"column\": \"Access_to_Resources\",\n      \"properties\": {\n        \"dtype\": \"number\",\n        \"std\": 0,\n        \"min\": 1,\n        \"max\": 3,\n        \"num_unique_values\": 3,\n        \"samples\": [\n          3,\n          2,\n          1\n        ],\n        \"semantic_type\": \"\",\n        \"description\": \"\"\n      }\n    },\n    {\n      \"column\": \"Sleep_Hours\",\n      \"properties\": {\n        \"dtype\": \"number\",\n        \"std\": 1,\n        \"min\": 4,\n        \"max\": 10,\n        \"num_unique_values\": 7,\n        \"samples\": [\n          7,\n          8,\n          5\n        ],\n        \"semantic_type\": \"\",\n        \"description\": \"\"\n      }\n    },\n    {\n      \"column\": \"Previous_Scores\",\n      \"properties\": {\n        \"dtype\": \"number\",\n        \"std\": 14,\n        \"min\": 50,\n        \"max\": 100,\n        \"num_unique_values\": 51,\n        \"samples\": [\n          64,\n          62,\n          86\n        ],\n        \"semantic_type\": \"\",\n        \"description\": \"\"\n      }\n    },\n    {\n      \"column\": \"Motivation_Level\",\n      \"properties\": {\n        \"dtype\": \"number\",\n        \"std\": 0,\n        \"min\": 1,\n        \"max\": 3,\n        \"num_unique_values\": 3,\n        \"samples\": [\n          1,\n          2,\n          3\n        ],\n        \"semantic_type\": \"\",\n        \"description\": \"\"\n      }\n    },\n    {\n      \"column\": \"Tutoring_Sessions\",\n      \"properties\": {\n        \"dtype\": \"number\",\n        \"std\": 1,\n        \"min\": 0,\n        \"max\": 8,\n        \"num_unique_values\": 9,\n        \"samples\": [\n          7,\n          2,\n          5\n        ],\n        \"semantic_type\": \"\",\n        \"description\": \"\"\n      }\n    },\n    {\n      \"column\": \"Family_Income\",\n      \"properties\": {\n        \"dtype\": \"number\",\n        \"std\": 0,\n        \"min\": 1,\n        \"max\": 3,\n        \"num_unique_values\": 3,\n        \"samples\": [\n          1,\n          2,\n          3\n        ],\n        \"semantic_type\": \"\",\n        \"description\": \"\"\n      }\n    },\n    {\n      \"column\": \"Teacher_Quality\",\n      \"properties\": {\n        \"dtype\": \"number\",\n        \"std\": 0,\n        \"min\": 1,\n        \"max\": 3,\n        \"num_unique_values\": 3,\n        \"samples\": [\n          2,\n          3,\n          1\n        ],\n        \"semantic_type\": \"\",\n        \"description\": \"\"\n      }\n    },\n    {\n      \"column\": \"Peer_Influence\",\n      \"properties\": {\n        \"dtype\": \"number\",\n        \"std\": 0,\n        \"min\": -1,\n        \"max\": 1,\n        \"num_unique_values\": 3,\n        \"samples\": [\n          1,\n          -1,\n          0\n        ],\n        \"semantic_type\": \"\",\n        \"description\": \"\"\n      }\n    },\n    {\n      \"column\": \"Physical_Activity\",\n      \"properties\": {\n        \"dtype\": \"number\",\n        \"std\": 1,\n        \"min\": 0,\n        \"max\": 6,\n        \"num_unique_values\": 7,\n        \"samples\": [\n          3,\n          4,\n          0\n        ],\n        \"semantic_type\": \"\",\n        \"description\": \"\"\n      }\n    },\n    {\n      \"column\": \"Parental_Education_Level\",\n      \"properties\": {\n        \"dtype\": \"number\",\n        \"std\": 0,\n        \"min\": 1,\n        \"max\": 3,\n        \"num_unique_values\": 3,\n        \"samples\": [\n          1,\n          2,\n          3\n        ],\n        \"semantic_type\": \"\",\n        \"description\": \"\"\n      }\n    },\n    {\n      \"column\": \"Distance_from_Home\",\n      \"properties\": {\n        \"dtype\": \"number\",\n        \"std\": 0,\n        \"min\": 1,\n        \"max\": 3,\n        \"num_unique_values\": 3,\n        \"samples\": [\n          1,\n          2,\n          3\n        ],\n        \"semantic_type\": \"\",\n        \"description\": \"\"\n      }\n    },\n    {\n      \"column\": \"Exam_Score\",\n      \"properties\": {\n        \"dtype\": \"number\",\n        \"std\": 3,\n        \"min\": 55,\n        \"max\": 100,\n        \"num_unique_values\": 44,\n        \"samples\": [\n          57,\n          83,\n          84\n        ],\n        \"semantic_type\": \"\",\n        \"description\": \"\"\n      }\n    },\n    {\n      \"column\": \"Extracurricular_Activities_Yes\",\n      \"properties\": {\n        \"dtype\": \"number\",\n        \"std\": 0,\n        \"min\": 0,\n        \"max\": 1,\n        \"num_unique_values\": 2,\n        \"samples\": [\n          1,\n          0\n        ],\n        \"semantic_type\": \"\",\n        \"description\": \"\"\n      }\n    },\n    {\n      \"column\": \"Internet_Access_Yes\",\n      \"properties\": {\n        \"dtype\": \"number\",\n        \"std\": 0,\n        \"min\": 0,\n        \"max\": 1,\n        \"num_unique_values\": 2,\n        \"samples\": [\n          0,\n          1\n        ],\n        \"semantic_type\": \"\",\n        \"description\": \"\"\n      }\n    },\n    {\n      \"column\": \"School_Type_Public\",\n      \"properties\": {\n        \"dtype\": \"number\",\n        \"std\": 0,\n        \"min\": 0,\n        \"max\": 1,\n        \"num_unique_values\": 2,\n        \"samples\": [\n          0,\n          1\n        ],\n        \"semantic_type\": \"\",\n        \"description\": \"\"\n      }\n    },\n    {\n      \"column\": \"Learning_Disabilities_Yes\",\n      \"properties\": {\n        \"dtype\": \"number\",\n        \"std\": 0,\n        \"min\": 0,\n        \"max\": 1,\n        \"num_unique_values\": 2,\n        \"samples\": [\n          1,\n          0\n        ],\n        \"semantic_type\": \"\",\n        \"description\": \"\"\n      }\n    },\n    {\n      \"column\": \"Gender_Male\",\n      \"properties\": {\n        \"dtype\": \"number\",\n        \"std\": 0,\n        \"min\": 0,\n        \"max\": 1,\n        \"num_unique_values\": 2,\n        \"samples\": [\n          0,\n          1\n        ],\n        \"semantic_type\": \"\",\n        \"description\": \"\"\n      }\n    }\n  ]\n}"
            }
          },
          "metadata": {},
          "execution_count": 18
        }
      ]
    },
    {
      "cell_type": "markdown",
      "source": [
        "# **Umbral de aprobados por puntaje mayor igual a *60***\n",
        "\n",
        "\n",
        "---\n",
        "\n"
      ],
      "metadata": {
        "id": "anNP7HSgG7z2"
      }
    },
    {
      "cell_type": "code",
      "source": [
        "# Preparacion de del dataset\n",
        "\n",
        "# copia del DataFrame\n",
        "df_60 = df_encoded.copy()\n",
        "\n",
        "# Agregar la columna booleana de aprobados si tiene valor mayor igual a 60\n",
        "df_60['Aprobados'] = df_60['Exam_Score'] >= 60"
      ],
      "metadata": {
        "id": "bws1dvVaJogH"
      },
      "execution_count": null,
      "outputs": []
    },
    {
      "cell_type": "code",
      "source": [
        "# @title Visualización de datos por categoría\n",
        "\n",
        "# Frecuencias por categoría\n",
        "categorias = df_60['Aprobados'].value_counts()\n",
        "\n",
        "# Colores para True y False\n",
        "colores = ['green' if valor else 'red' for valor in categorias.index]\n",
        "\n",
        "etiquetas = ['Aprobados' if valor else 'No Aprobados' for valor in categorias.index]\n",
        "plt.bar(etiquetas, categorias.values, color=colores)\n",
        "\n",
        "# Añadir los valores encima de cada barra\n",
        "for i, v in enumerate(categorias.values):\n",
        "    plt.text(i, v + 50, str(v), ha='center', fontweight='bold')  # el +50 es para que no se superponga\n",
        "\n",
        "# Títulos y etiquetas\n",
        "plt.title('Frecuencia de Aprobados y No Aprobados con un Umbral = 60 ')\n",
        "plt.xlabel('Aprobados_Reprobados')\n",
        "plt.ylabel('Frecuencia')\n",
        "\n",
        "plt.show()"
      ],
      "metadata": {
        "colab": {
          "base_uri": "https://localhost:8080/",
          "height": 472
        },
        "id": "ao0f1eeVJzf4",
        "outputId": "c08709f7-c40b-4735-c642-a8aa46e3fa16"
      },
      "execution_count": null,
      "outputs": [
        {
          "output_type": "display_data",
          "data": {
            "text/plain": [
              "<Figure size 640x480 with 1 Axes>"
            ],
            "image/png": "[encoded data removed]"
          },
          "metadata": {}
        }
      ]
    },
    {
      "cell_type": "code",
      "source": [
        "############################### COMENTAR #######################################"
      ],
      "metadata": {
        "id": "8iFOVNrlEHbH"
      },
      "execution_count": null,
      "outputs": []
    },
    {
      "cell_type": "code",
      "source": [
        "############################### COMENTAR #######################################"
      ],
      "metadata": {
        "id": "b9BwvqBJGx3e"
      },
      "execution_count": null,
      "outputs": []
    },
    {
      "cell_type": "code",
      "source": [
        "#@title Primera partición de dataset para evaluar y evitar sobre entrenamiento\n",
        "X = df_60.drop(['Exam_Score','Aprobados'], axis=1)\n",
        "y = df_60['Aprobados']\n",
        "\n",
        "# Partición inicial Train/Test\n",
        "X_train, X_test, y_train, y_test = train_test_split(\n",
        "    X, y,\n",
        "    test_size=0.2,       # 80 train - 20 test\n",
        "    stratify=y,          # mantiene proporciones del desbalance\n",
        "    random_state=42\n",
        ")"
      ],
      "metadata": {
        "id": "31KNNFRpOiPF"
      },
      "execution_count": null,
      "outputs": []
    },
    {
      "cell_type": "code",
      "source": [
        "############################### COMENTAR #######################################"
      ],
      "metadata": {
        "id": "ued_oeveEXtx"
      },
      "execution_count": null,
      "outputs": []
    },
    {
      "cell_type": "markdown",
      "source": [
        "## **Gaussian Bayes**"
      ],
      "metadata": {
        "id": "WxbuzhPj6dOS"
      }
    },
    {
      "cell_type": "code",
      "source": [
        "# Modelo base\n",
        "model = GaussianNB()\n",
        "\n",
        "# Validación cruzada con StratifiedKFold SOLO CON ENTRENAMIENTOS\n",
        "# Con 5 splits de organizacion\n",
        "cv = StratifiedKFold(n_splits=5, shuffle=True, random_state=42)\n",
        "\n",
        "# Obtencion de los resultados de la validación cruzada con metricas puntuales\n",
        "cv_results = cross_validate(\n",
        "    model,\n",
        "    X_train,\n",
        "    y_train,\n",
        "    cv=cv,\n",
        "    scoring=['accuracy', 'precision', 'recall', 'f1'],\n",
        "    return_estimator=True\n",
        ")"
      ],
      "metadata": {
        "id": "6Qi5duZDkc5m"
      },
      "execution_count": null,
      "outputs": []
    },
    {
      "cell_type": "code",
      "source": [
        "# Se obtienen los modelos entrenados\n",
        "estimadores = cv_results['estimator']"
      ],
      "metadata": {
        "id": "H-Sf8XFfkzX3"
      },
      "execution_count": null,
      "outputs": []
    },
    {
      "cell_type": "code",
      "source": [
        "# Se evalua cada modelo con el conjunto X_test, y_test\n",
        "\n",
        "# Listas para almacenar métricas\n",
        "balanced_accs = []\n",
        "mccs = []\n",
        "\n",
        "for i, est in enumerate(estimadores, start=1):\n",
        "\n",
        "    # Predición con X_test a partir del modelo entrenado del kfold\n",
        "    y_pred = est.predict(X_test)\n",
        "\n",
        "    # Reporte de clasificación detallado\n",
        "    print(f\"\\nReporte de clasificación kfold {i}:\")\n",
        "    print(classification_report(y_test, y_pred, zero_division=0))\n",
        "\n",
        "    # Metricas de desbalance\n",
        "    balanced_acc = balanced_accuracy_score(y_test, y_pred)\n",
        "    mcc = matthews_corrcoef(y_test, y_pred)\n",
        "    print(f\"Balanced Accuracy: {balanced_acc:.3f}\")\n",
        "    print(f\"Matthews CorrCoef: {mcc:.3f}\")\n",
        "\n",
        "    # Guardamos las métricas\n",
        "    balanced_accs.append(balanced_acc)\n",
        "    mccs.append(mcc)\n",
        "\n",
        "    print(\"-\" * 60)"
      ],
      "metadata": {
        "id": "8uwgqpQElFdY",
        "outputId": "ee9b49ff-d3e0-4e61-c208-0a35ba39f9f8",
        "colab": {
          "base_uri": "https://localhost:8080/"
        }
      },
      "execution_count": null,
      "outputs": [
        {
          "output_type": "stream",
          "name": "stdout",
          "text": [
            "\n",
            "Reporte de clasificación kfold 1:\n",
            "              precision    recall  f1-score   support\n",
            "\n",
            "       False       0.67      0.46      0.55        13\n",
            "        True       0.99      1.00      1.00      1263\n",
            "\n",
            "    accuracy                           0.99      1276\n",
            "   macro avg       0.83      0.73      0.77      1276\n",
            "weighted avg       0.99      0.99      0.99      1276\n",
            "\n",
            "Balanced Accuracy: 0.730\n",
            "Matthews CorrCoef: 0.551\n",
            "------------------------------------------------------------\n",
            "\n",
            "Reporte de clasificación kfold 2:\n",
            "              precision    recall  f1-score   support\n",
            "\n",
            "       False       0.71      0.38      0.50        13\n",
            "        True       0.99      1.00      1.00      1263\n",
            "\n",
            "    accuracy                           0.99      1276\n",
            "   macro avg       0.85      0.69      0.75      1276\n",
            "weighted avg       0.99      0.99      0.99      1276\n",
            "\n",
            "Balanced Accuracy: 0.692\n",
            "Matthews CorrCoef: 0.521\n",
            "------------------------------------------------------------\n",
            "\n",
            "Reporte de clasificación kfold 3:\n",
            "              precision    recall  f1-score   support\n",
            "\n",
            "       False       0.67      0.46      0.55        13\n",
            "        True       0.99      1.00      1.00      1263\n",
            "\n",
            "    accuracy                           0.99      1276\n",
            "   macro avg       0.83      0.73      0.77      1276\n",
            "weighted avg       0.99      0.99      0.99      1276\n",
            "\n",
            "Balanced Accuracy: 0.730\n",
            "Matthews CorrCoef: 0.551\n",
            "------------------------------------------------------------\n",
            "\n",
            "Reporte de clasificación kfold 4:\n",
            "              precision    recall  f1-score   support\n",
            "\n",
            "       False       0.70      0.54      0.61        13\n",
            "        True       1.00      1.00      1.00      1263\n",
            "\n",
            "    accuracy                           0.99      1276\n",
            "   macro avg       0.85      0.77      0.80      1276\n",
            "weighted avg       0.99      0.99      0.99      1276\n",
            "\n",
            "Balanced Accuracy: 0.768\n",
            "Matthews CorrCoef: 0.611\n",
            "------------------------------------------------------------\n",
            "\n",
            "Reporte de clasificación kfold 5:\n",
            "              precision    recall  f1-score   support\n",
            "\n",
            "       False       0.86      0.46      0.60        13\n",
            "        True       0.99      1.00      1.00      1263\n",
            "\n",
            "    accuracy                           0.99      1276\n",
            "   macro avg       0.93      0.73      0.80      1276\n",
            "weighted avg       0.99      0.99      0.99      1276\n",
            "\n",
            "Balanced Accuracy: 0.730\n",
            "Matthews CorrCoef: 0.626\n",
            "------------------------------------------------------------\n"
          ]
        }
      ]
    },
    {
      "cell_type": "code",
      "source": [
        "# Promedios finales\n",
        "print(\"\\n===== PROMEDIO GLOBAL ENTRE KFOLDS =====\")\n",
        "print(f\"Balanced Accuracy promedio: {np.mean(balanced_accs):.3f}\")\n",
        "print(f\"Matthews CorrCoef promedio: {np.mean(mccs):.3f}\")\n",
        "print(\"=========================================\")"
      ],
      "metadata": {
        "id": "svz8v65irn4h",
        "outputId": "03a0388d-13c1-45df-888d-d4d8e2ea03ed",
        "colab": {
          "base_uri": "https://localhost:8080/"
        }
      },
      "execution_count": null,
      "outputs": [
        {
          "output_type": "stream",
          "name": "stdout",
          "text": [
            "\n",
            "===== PROMEDIO GLOBAL ENTRE KFOLDS =====\n",
            "Balanced Accuracy promedio: 0.730\n",
            "Matthews CorrCoef promedio: 0.572\n",
            "=========================================\n"
          ]
        }
      ]
    },
    {
      "cell_type": "markdown",
      "source": [
        "## **Decision Tree**"
      ],
      "metadata": {
        "id": "F1ZaqEfq5On2"
      }
    },
    {
      "cell_type": "code",
      "source": [
        "# Modelo base\n",
        "tree = DecisionTreeClassifier(random_state=42)\n",
        "\n",
        "# Espacio de hiperparámetros para el tuning\n",
        "param_grid = {\n",
        "    'max_depth': [1, 2, 3, 5, 7, 10, 20, 30, 50, 100, None]\n",
        "}\n",
        "\n",
        "# Validación cruzada\n",
        "cv = StratifiedKFold(n_splits=5, shuffle=True, random_state=42)\n",
        "\n",
        "# Tuning con grid_search\n",
        "grid_search = GridSearchCV(\n",
        "    estimator=tree,\n",
        "    param_grid=param_grid,\n",
        "    cv=cv,\n",
        "    scoring='balanced_accuracy',\n",
        "    n_jobs=-1,\n",
        "    verbose=2\n",
        ")"
      ],
      "metadata": {
        "id": "g_UfwZfKsM3Y"
      },
      "execution_count": null,
      "outputs": []
    },
    {
      "cell_type": "code",
      "source": [
        "############################### COMENTAR #######################################"
      ],
      "metadata": {
        "id": "8oKwBzYLH5NJ"
      },
      "execution_count": null,
      "outputs": []
    },
    {
      "cell_type": "code",
      "source": [
        "# Entrenamiento del GridSearch\n",
        "grid_search.fit(X_train, y_train)\n",
        "\n",
        "# Resultados\n",
        "print(\"\\n Mejor parámetro encontrado:\")\n",
        "print(grid_search.best_params_)\n",
        "\n",
        "print(\"\\n Balanced Accuracy promedio (validación cruzada):\")\n",
        "print(grid_search.best_score_)"
      ],
      "metadata": {
        "id": "R2_Nj1cBwksV",
        "outputId": "ef1db68e-bf6a-4732-f6b4-2a966d7a31de",
        "colab": {
          "base_uri": "https://localhost:8080/"
        }
      },
      "execution_count": null,
      "outputs": [
        {
          "output_type": "stream",
          "name": "stdout",
          "text": [
            "Fitting 5 folds for each of 11 candidates, totalling 55 fits\n",
            "\n",
            " Mejor parámetro encontrado:\n",
            "{'max_depth': 20}\n",
            "\n",
            " Balanced Accuracy promedio (validación cruzada):\n",
            "0.733923018664602\n"
          ]
        }
      ]
    },
    {
      "cell_type": "code",
      "source": [
        "# Gráfica\n",
        "results = grid_search.cv_results_\n",
        "depths = [d if d is not None else 0 for d in param_grid['max_depth']]\n",
        "scores = results['mean_test_score']\n",
        "\n",
        "plt.bar(depths, scores, color='red', width= 0.6)\n",
        "plt.xlabel('Max Depth (None = 0)')\n",
        "plt.ylabel('Balanced Accuracy promedio (CV)')\n",
        "plt.show()"
      ],
      "metadata": {
        "id": "oKqvEIRd8hxm",
        "outputId": "31be1168-8260-4899-c0c9-26dc38689aa3",
        "colab": {
          "base_uri": "https://localhost:8080/",
          "height": 449
        }
      },
      "execution_count": null,
      "outputs": [
        {
          "output_type": "display_data",
          "data": {
            "text/plain": [
              "<Figure size 640x480 with 1 Axes>"
            ],
            "image/png": "[encoded data removed]"
          },
          "metadata": {}
        }
      ]
    },
    {
      "cell_type": "code",
      "source": [
        "# Obtención de los mejores parametros (Aunque en este caso es solo uno)\n",
        "best_params = grid_search.best_params_\n",
        "print(best_params)"
      ],
      "metadata": {
        "id": "BhJEStoHV10B",
        "outputId": "909063fc-3408-4d4e-8c23-892c760c5e4a",
        "colab": {
          "base_uri": "https://localhost:8080/"
        }
      },
      "execution_count": null,
      "outputs": [
        {
          "output_type": "stream",
          "name": "stdout",
          "text": [
            "{'max_depth': 20}\n"
          ]
        }
      ]
    },
    {
      "cell_type": "code",
      "source": [
        "best_tree = DecisionTreeClassifier(\n",
        "    max_depth=best_params['max_depth'],\n",
        "    random_state=42\n",
        ")"
      ],
      "metadata": {
        "id": "B-t3dX7CV61O"
      },
      "execution_count": null,
      "outputs": []
    },
    {
      "cell_type": "code",
      "source": [
        "# Obtencion de los resultados de la validación cruzada con metricas puntuales\n",
        "cv_results2 = cross_validate(\n",
        "    best_tree,\n",
        "    X_train,\n",
        "    y_train,\n",
        "    cv=cv,\n",
        "    scoring=['accuracy', 'precision', 'recall', 'f1'],\n",
        "    return_estimator=True\n",
        ")"
      ],
      "metadata": {
        "id": "ItnY0Ff6Wmo6"
      },
      "execution_count": null,
      "outputs": []
    },
    {
      "cell_type": "code",
      "source": [
        "# Se obtienen los modelos entrenados\n",
        "estimadores = cv_results2['estimator']"
      ],
      "metadata": {
        "id": "BxBFk-IGW3wl"
      },
      "execution_count": null,
      "outputs": []
    },
    {
      "cell_type": "code",
      "source": [
        "# Se evalua cada model con el conjunto X_test, y_test\n",
        "\n",
        "# Listas para almacenar métricas\n",
        "balanced_accs = []\n",
        "mccs = []\n",
        "\n",
        "for i, est in enumerate(estimadores, start=1):\n",
        "\n",
        "    # Predición con X_test a partir del modelo entrenado del kfold\n",
        "    y_pred = est.predict(X_test)\n",
        "\n",
        "    # Reporte de clasificación detallado\n",
        "    print(f\"\\nReporte de clasificación kfold {i}:\")\n",
        "    print(classification_report(y_test, y_pred, zero_division=0))\n",
        "\n",
        "    # Metricas de desbalance\n",
        "    balanced_acc = balanced_accuracy_score(y_test, y_pred)\n",
        "    mcc = matthews_corrcoef(y_test, y_pred)\n",
        "    print(f\"Balanced Accuracy: {balanced_acc:.3f}\")\n",
        "    print(f\"Matthews CorrCoef: {mcc:.3f}\")\n",
        "\n",
        "    # Guardamos las métricas\n",
        "    balanced_accs.append(balanced_acc)\n",
        "    mccs.append(mcc)\n",
        "\n",
        "    print(\"-\" * 60)"
      ],
      "metadata": {
        "id": "GP4ETTWnXNRn",
        "outputId": "b6cae9eb-7a80-425e-a111-ef5c4435c7b8",
        "colab": {
          "base_uri": "https://localhost:8080/"
        }
      },
      "execution_count": null,
      "outputs": [
        {
          "output_type": "stream",
          "name": "stdout",
          "text": [
            "\n",
            "Reporte de clasificación kfold 1:\n",
            "              precision    recall  f1-score   support\n",
            "\n",
            "       False       0.25      0.38      0.30        13\n",
            "        True       0.99      0.99      0.99      1263\n",
            "\n",
            "    accuracy                           0.98      1276\n",
            "   macro avg       0.62      0.69      0.65      1276\n",
            "weighted avg       0.99      0.98      0.98      1276\n",
            "\n",
            "Balanced Accuracy: 0.686\n",
            "Matthews CorrCoef: 0.301\n",
            "------------------------------------------------------------\n",
            "\n",
            "Reporte de clasificación kfold 2:\n",
            "              precision    recall  f1-score   support\n",
            "\n",
            "       False       0.15      0.15      0.15        13\n",
            "        True       0.99      0.99      0.99      1263\n",
            "\n",
            "    accuracy                           0.98      1276\n",
            "   macro avg       0.57      0.57      0.57      1276\n",
            "weighted avg       0.98      0.98      0.98      1276\n",
            "\n",
            "Balanced Accuracy: 0.573\n",
            "Matthews CorrCoef: 0.145\n",
            "------------------------------------------------------------\n",
            "\n",
            "Reporte de clasificación kfold 3:\n",
            "              precision    recall  f1-score   support\n",
            "\n",
            "       False       0.23      0.23      0.23        13\n",
            "        True       0.99      0.99      0.99      1263\n",
            "\n",
            "    accuracy                           0.98      1276\n",
            "   macro avg       0.61      0.61      0.61      1276\n",
            "weighted avg       0.98      0.98      0.98      1276\n",
            "\n",
            "Balanced Accuracy: 0.611\n",
            "Matthews CorrCoef: 0.223\n",
            "------------------------------------------------------------\n",
            "\n",
            "Reporte de clasificación kfold 4:\n",
            "              precision    recall  f1-score   support\n",
            "\n",
            "       False       0.40      0.46      0.43        13\n",
            "        True       0.99      0.99      0.99      1263\n",
            "\n",
            "    accuracy                           0.99      1276\n",
            "   macro avg       0.70      0.73      0.71      1276\n",
            "weighted avg       0.99      0.99      0.99      1276\n",
            "\n",
            "Balanced Accuracy: 0.727\n",
            "Matthews CorrCoef: 0.423\n",
            "------------------------------------------------------------\n",
            "\n",
            "Reporte de clasificación kfold 5:\n",
            "              precision    recall  f1-score   support\n",
            "\n",
            "       False       0.33      0.38      0.36        13\n",
            "        True       0.99      0.99      0.99      1263\n",
            "\n",
            "    accuracy                           0.99      1276\n",
            "   macro avg       0.66      0.69      0.68      1276\n",
            "weighted avg       0.99      0.99      0.99      1276\n",
            "\n",
            "Balanced Accuracy: 0.688\n",
            "Matthews CorrCoef: 0.351\n",
            "------------------------------------------------------------\n"
          ]
        }
      ]
    },
    {
      "cell_type": "code",
      "source": [
        "# Evaluación final en el conjunto de prueba\n",
        "#best_model = grid_search.best_estimator_\n",
        "#y_pred = best_model.predict(X_test)\n",
        "#final_score = balanced_accuracy_score(y_test, y_pred)\n",
        "#print(f\"\\n Balanced Accuracy en test: {final_score:.3f}\\n\\n\")"
      ],
      "metadata": {
        "id": "iJ7cJ77DwoKa"
      },
      "execution_count": null,
      "outputs": []
    },
    {
      "cell_type": "code",
      "source": [
        "# Resultados detallados por fold\n",
        "#cv_results = pd.DataFrame(grid_search.cv_results_)\n",
        "\n",
        "# Identificar el índice del mejor modelo\n",
        "#best_idx = grid_search.best_index_\n",
        "\n",
        "# Columnas de los 5 folds\n",
        "#split_cols = [col for col in cv_results.columns if col.startswith(\"split\") and \"test_score\" in col]\n",
        "\n",
        "#print(\"\\n Balanced Accuracy por fold (solo mejor modelo):\\n\")\n",
        "\n",
        "#for j, col in enumerate(split_cols, start=1):\n",
        "#    print(f\"Fold {j}: {cv_results.loc[best_idx, col]:.4f}\")"
      ],
      "metadata": {
        "id": "2s_KGpdM8F6W"
      },
      "execution_count": null,
      "outputs": []
    },
    {
      "cell_type": "markdown",
      "source": [
        "## **Random Forest**"
      ],
      "metadata": {
        "id": "HaCwNrfn6DQi"
      }
    },
    {
      "cell_type": "markdown",
      "source": [
        "## **Support Vector Machine**"
      ],
      "metadata": {
        "id": "e274OXcj6Ptj"
      }
    },
    {
      "cell_type": "markdown",
      "source": [
        "# **Umbral de aprobados por puntaje mayor igual a *67***\n",
        "\n",
        "\n",
        "---\n"
      ],
      "metadata": {
        "id": "TZdV7QdBHmuC"
      }
    },
    {
      "cell_type": "code",
      "source": [
        "# Preparacion de del dataset\n",
        "\n",
        "# copia del DataFrame\n",
        "df_60 = df_encoded.copy()\n",
        "\n",
        "# Agregar la columna booleana de aprobados si tiene valor mayor igual a 70\n",
        "df_60['Aprobados'] = df_60['Exam_Score'] >= 67"
      ],
      "metadata": {
        "id": "ILDjKKKE7Dl1"
      },
      "execution_count": null,
      "outputs": []
    },
    {
      "cell_type": "code",
      "source": [
        "# @title Visualización de datos por categoría\n",
        "\n",
        "# Frecuencias por categoría\n",
        "categorias = df_60['Aprobados'].value_counts()\n",
        "\n",
        "# Colores para True y False\n",
        "colores = ['green' if valor else 'red' for valor in categorias.index]\n",
        "\n",
        "etiquetas = ['Aprobados' if valor else 'No Aprobados' for valor in categorias.index]\n",
        "plt.bar(etiquetas, categorias.values, color=colores)\n",
        "\n",
        "# Añadir los valores encima de cada barra\n",
        "for i, v in enumerate(categorias.values):\n",
        "    plt.text(i, v + 50, str(v), ha='center', fontweight='bold')  # el +50 es para que no se superponga\n",
        "\n",
        "# Títulos y etiquetas\n",
        "plt.title('Frecuencia de Aprobados y No Aprobados con un Umbral = 67 ')\n",
        "plt.xlabel('Aprobados_Reprobados')\n",
        "plt.ylabel('Frecuencia')\n",
        "\n",
        "plt.show()"
      ],
      "metadata": {
        "id": "XJP5yhEz7Fia",
        "outputId": "74610ee8-7140-4983-b08c-a9b878ca9bfa",
        "colab": {
          "base_uri": "https://localhost:8080/",
          "height": 472
        }
      },
      "execution_count": null,
      "outputs": [
        {
          "output_type": "display_data",
          "data": {
            "text/plain": [
              "<Figure size 640x480 with 1 Axes>"
            ],
            "image/png": "[encoded data removed]"
          },
          "metadata": {}
        }
      ]
    },
    {
      "cell_type": "markdown",
      "source": [
        "## **Gaussian Bayes**"
      ],
      "metadata": {
        "id": "9VpdhZARIOZA"
      }
    },
    {
      "cell_type": "markdown",
      "source": [
        "## **Decision Tree**"
      ],
      "metadata": {
        "id": "jh3RFM0mISxN"
      }
    },
    {
      "cell_type": "markdown",
      "source": [
        "## **Random Forest**"
      ],
      "metadata": {
        "id": "Wgkso7tLIUZJ"
      }
    },
    {
      "cell_type": "markdown",
      "source": [
        "## **Support Vector Machine**"
      ],
      "metadata": {
        "id": "PylOdAyaIYp4"
      }
    },
    {
      "cell_type": "markdown",
      "source": [
        "# **Umbral de aprobados por puntaje mayor igual a *70***\n",
        "\n",
        "---"
      ],
      "metadata": {
        "id": "mm5xMJJAHpRj"
      }
    },
    {
      "cell_type": "code",
      "source": [
        "# Preparacion de del dataset\n",
        "\n",
        "# copia del DataFrame\n",
        "df_60 = df_encoded.copy()\n",
        "\n",
        "# Agregar la columna booleana de aprobados si tiene valor mayor igual a 70\n",
        "df_60['Aprobados'] = df_60['Exam_Score'] >= 70"
      ],
      "metadata": {
        "id": "YND8jWYR65D6"
      },
      "execution_count": null,
      "outputs": []
    },
    {
      "cell_type": "code",
      "source": [
        "# @title Visualización de datos por categoría\n",
        "\n",
        "# Frecuencias por categoría\n",
        "categorias = df_60['Aprobados'].value_counts()\n",
        "\n",
        "# Colores para True y False\n",
        "colores = ['green' if valor else 'red' for valor in categorias.index]\n",
        "\n",
        "etiquetas = ['Aprobados' if valor else 'No Aprobados' for valor in categorias.index]\n",
        "plt.bar(etiquetas, categorias.values, color=colores)\n",
        "\n",
        "# Añadir los valores encima de cada barra\n",
        "for i, v in enumerate(categorias.values):\n",
        "    plt.text(i, v + 50, str(v), ha='center', fontweight='bold')  # el +50 es para que no se superponga\n",
        "\n",
        "# Títulos y etiquetas\n",
        "plt.title('Frecuencia de Aprobados y No Aprobados con un Umbral = 70 ')\n",
        "plt.xlabel('Aprobados_Reprobados')\n",
        "plt.ylabel('Frecuencia')\n",
        "\n",
        "plt.show()"
      ],
      "metadata": {
        "id": "oAxT0H3k6-wT",
        "outputId": "3edad70b-2731-4b05-c0a0-c23623149f61",
        "colab": {
          "base_uri": "https://localhost:8080/",
          "height": 472
        },
        "cellView": "form"
      },
      "execution_count": null,
      "outputs": [
        {
          "output_type": "display_data",
          "data": {
            "text/plain": [
              "<Figure size 640x480 with 1 Axes>"
            ],
            "image/png": "[encoded data removed]"
          },
          "metadata": {}
        }
      ]
    },
    {
      "cell_type": "markdown",
      "source": [
        "## **Gaussian Bayes**"
      ],
      "metadata": {
        "id": "BTW-yy4YIO4C"
      }
    },
    {
      "cell_type": "markdown",
      "source": [
        "## **Decision Tree**"
      ],
      "metadata": {
        "id": "V_7OpvkSITDA"
      }
    },
    {
      "cell_type": "markdown",
      "source": [
        "## **Random Forest**"
      ],
      "metadata": {
        "id": "aCrTQVBkIawA"
      }
    },
    {
      "cell_type": "markdown",
      "source": [
        "## **Support Vector Machine**"
      ],
      "metadata": {
        "id": "nZteMwX7IY97"
      }
    }
  ]
}