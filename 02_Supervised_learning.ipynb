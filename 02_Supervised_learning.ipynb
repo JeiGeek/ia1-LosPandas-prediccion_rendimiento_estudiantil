{
  "nbformat": 4,
  "nbformat_minor": 0,
  "metadata": {
    "colab": {
      "provenance": [],
      "include_colab_link": true
    },
    "kernelspec": {
      "name": "python3",
      "display_name": "Python 3"
    },
    "language_info": {
      "name": "python"
    }
  },
  "cells": [
    {
      "cell_type": "markdown",
      "metadata": {
        "id": "view-in-github",
        "colab_type": "text"
      },
      "source": [
        "<a href=\"https://colab.research.google.com/github/JeiGeek/ia1-LosPandas-prediccion_rendimiento_estudiantil/blob/main/02_Supervised_learning.ipynb\" target=\"_parent\"><img src=\"https://colab.research.google.com/assets/colab-badge.svg\" alt=\"Open In Colab\"/></a>"
      ]
    },
    {
      "cell_type": "code",
      "execution_count": 1,
      "metadata": {
        "id": "zRfB-UJJIJg8"
      },
      "outputs": [],
      "source": [
        "# @title **Librerias**\n",
        "import numpy as np\n",
        "import pandas as pd\n",
        "import seaborn as sns\n",
        "import matplotlib.pyplot as plt\n",
        "\n",
        "# Partición de dataset\n",
        "from sklearn.model_selection import train_test_split\n",
        "\n",
        "# Particion de entrenamiento KFol y tunning\n",
        "from sklearn.model_selection import StratifiedKFold, cross_val_score, cross_validate, GridSearchCV, KFold\n",
        "\n",
        "# Librerias de modelos\n",
        "from sklearn.naive_bayes import GaussianNB\n",
        "from sklearn.tree import DecisionTreeClassifier\n",
        "from sklearn.ensemble import RandomForestClassifier\n",
        "from sklearn.svm import SVC\n",
        "from sklearn.tree import DecisionTreeRegressor\n",
        "from sklearn.ensemble import RandomForestRegressor\n",
        "from sklearn.svm import SVR\n",
        "\n",
        "\n",
        "# Librerias para reporte de metricas\n",
        "from sklearn.metrics import accuracy_score, precision_score, recall_score, f1_score, classification_report, balanced_accuracy_score, matthews_corrcoef, make_scorer, confusion_matrix, confusion_matrix, ConfusionMatrixDisplay\n",
        "from sklearn.metrics import make_scorer, mean_absolute_error, mean_squared_error"
      ]
    },
    {
      "cell_type": "markdown",
      "source": [
        "# **Carga y ajustes del dataset**"
      ],
      "metadata": {
        "id": "jh-zr5QpI02P"
      }
    },
    {
      "cell_type": "code",
      "source": [
        "# Carga desde github\n",
        "url = \"https://raw.githubusercontent.com/JeiGeek/ia1-LosPandas-prediccion_rendimiento_estudiantil/main/Dataset/StudentPerformanceFactors.csv\"\n",
        "df = pd.read_csv(url)"
      ],
      "metadata": {
        "id": "9ymqQNKaI4dB"
      },
      "execution_count": 2,
      "outputs": []
    },
    {
      "cell_type": "code",
      "source": [
        "# Limpieza de nulos y valores fuera del margen\n",
        "df = df.dropna()\n",
        "df = df[df['Exam_Score'] <= 100]\n",
        "df.info()"
      ],
      "metadata": {
        "id": "HTt2QKSfcLzu",
        "outputId": "960917ac-f8e0-4a7e-9160-fd12b04ed048",
        "colab": {
          "base_uri": "https://localhost:8080/"
        }
      },
      "execution_count": 3,
      "outputs": [
        {
          "output_type": "stream",
          "name": "stdout",
          "text": [
            "<class 'pandas.core.frame.DataFrame'>\n",
            "Index: 6377 entries, 0 to 6606\n",
            "Data columns (total 20 columns):\n",
            " #   Column                      Non-Null Count  Dtype \n",
            "---  ------                      --------------  ----- \n",
            " 0   Hours_Studied               6377 non-null   int64 \n",
            " 1   Attendance                  6377 non-null   int64 \n",
            " 2   Parental_Involvement        6377 non-null   object\n",
            " 3   Access_to_Resources         6377 non-null   object\n",
            " 4   Extracurricular_Activities  6377 non-null   object\n",
            " 5   Sleep_Hours                 6377 non-null   int64 \n",
            " 6   Previous_Scores             6377 non-null   int64 \n",
            " 7   Motivation_Level            6377 non-null   object\n",
            " 8   Internet_Access             6377 non-null   object\n",
            " 9   Tutoring_Sessions           6377 non-null   int64 \n",
            " 10  Family_Income               6377 non-null   object\n",
            " 11  Teacher_Quality             6377 non-null   object\n",
            " 12  School_Type                 6377 non-null   object\n",
            " 13  Peer_Influence              6377 non-null   object\n",
            " 14  Physical_Activity           6377 non-null   int64 \n",
            " 15  Learning_Disabilities       6377 non-null   object\n",
            " 16  Parental_Education_Level    6377 non-null   object\n",
            " 17  Distance_from_Home          6377 non-null   object\n",
            " 18  Gender                      6377 non-null   object\n",
            " 19  Exam_Score                  6377 non-null   int64 \n",
            "dtypes: int64(7), object(13)\n",
            "memory usage: 1.0+ MB\n"
          ]
        }
      ]
    },
    {
      "cell_type": "code",
      "source": [
        "# Hay 13 variables de tipo categoricas, se convierten en tipo numericas (se le da un valor ya sea 0 y 1, o 1,2,3)\n",
        "\n",
        "df_encoded = df.copy()\n",
        "\n",
        "# Categorizacion binaria para categorias que son solo 2 dos tipos\n",
        "\n",
        "# get_dummies - Convierte tablas categoricas en binarios\n",
        "# drop_first - quita la columna redudante que se genera\n",
        "df_encoded = pd.get_dummies(df_encoded, columns=[\"Extracurricular_Activities\", \"Internet_Access\", \"School_Type\", \"Learning_Disabilities\", \"Gender\"], drop_first=True)\n",
        "\n",
        "# Categorizacion por categorias que son de 3 tipos\n",
        "\n",
        "# para categorias bajo - medio - alto\n",
        "mapping = {\"Low\":1, \"Medium\":2, \"High\":3}\n",
        "columnas = [\"Parental_Involvement\", \"Access_to_Resources\", \"Motivation_Level\", \"Family_Income\", \"Teacher_Quality\"]\n",
        "\n",
        "for columna in columnas:\n",
        "    df_encoded[columna] = df_encoded[columna].map(mapping)\n",
        "\n",
        "# para categoria negativo - positivo - neutral\n",
        "mapping = {\"Negative\":-1, \"Positive\":1, \"Neutral\":0}\n",
        "df_encoded[\"Peer_Influence\"] = df_encoded[\"Peer_Influence\"].map(mapping)\n",
        "\n",
        "# para categoria High School - College - Postgraduate\n",
        "mapping = {\"High School\":1, \"College\":2, \"Postgraduate\":3}\n",
        "df_encoded[\"Parental_Education_Level\"] = df_encoded[\"Parental_Education_Level\"].map(mapping)\n",
        "\n",
        "# para categoria Near - Moderate - Far\n",
        "mapping = {\"Near\":1, \"Moderate\":2, \"Far\":3}\n",
        "df_encoded[\"Distance_from_Home\"] = df_encoded[\"Distance_from_Home\"].map(mapping)\n",
        "\n",
        "\n",
        "# Convertir las columnas booleanas resultantes en 0 y 1\n",
        "bool_cols = df_encoded.select_dtypes(include=[\"bool\"]).columns # Se seleccionan las columnas solamente las columnas booleanas\n",
        "df_encoded[bool_cols] = df_encoded[bool_cols].astype(int) # Se convierten en 0 y 1"
      ],
      "metadata": {
        "id": "Tj52X9lccerb"
      },
      "execution_count": 4,
      "outputs": []
    },
    {
      "cell_type": "code",
      "source": [
        "# PCA"
      ],
      "metadata": {
        "id": "V6aJykS5VAfs"
      },
      "execution_count": null,
      "outputs": []
    },
    {
      "cell_type": "markdown",
      "source": [
        "# **Umbral de aprobados por puntaje mayor igual a *60***\n",
        "\n",
        "\n",
        "---\n",
        "\n"
      ],
      "metadata": {
        "id": "anNP7HSgG7z2"
      }
    },
    {
      "cell_type": "markdown",
      "source": [
        "Para evaluar el desempeño del modelo se emplean las métricas Balanced Accuracy, Matthews Correlation Coefficient (MCC) y el Classification Report, que incluye precision, recall y F1-score. Estas métricas permiten medir no solo la precisión global, sino también el equilibrio y la calidad de las predicciones en un dataset desbalanceado.\n",
        "\n",
        "\n",
        "\n",
        "`1.   Balanced Accuracy (Exactitud Balanceada):`\n",
        "\n",
        "Mide el promedio entre la sensibilidad (recall) de la clase positiva y la clase negativa. Es útil cuando las clases están desbalanceadas, ya que da igual peso a ambas.\n",
        "\n",
        "**Interpretación:**\n",
        "\n",
        "Un valor cercano a 1 indica que el modelo predice bien ambas clases; valores cercanos a 0.5 reflejan un desempeño similar al azar.\n",
        "\n",
        "\n",
        "\n",
        "`2.   Matthews Correlation Coefficient (MCC)`\n",
        "\n",
        "Evalúa la correlación entre las predicciones y los valores reales, considerando todas las categorías de la matriz de confusión (TP, TN, FP, FN). Es una métrica robusta para datasets desbalanceados.\n",
        "\n",
        "Interpretación:\n",
        "\n",
        "\n",
        "\n",
        "*   1: predicciones perfectas.\n",
        "*   0: predicciones aleatorias.\n",
        "*   −1: predicciones totalmente erróneas.\n",
        "\n",
        "`3.  Classification Report (Precision, Recall y F1-score)`\n",
        "\n",
        "Proporciona una visión detallada del rendimiento por clase:\n",
        "\n",
        "* Precisíon (Precisíon): Mide la proporción de verdaderos positivos entre todas las predicciones positivas. `(Indica qué tan confiables son las predicciones positivas del modelo.)`\n",
        "\n",
        "* Exhaustividad (Recall o Sensibilidad): Mide la proporción de verdaderos positivos identificados correctamente `(Evalúa la capacidad del modelo para detectar todos los casos reales positivos)`\n",
        "\n",
        "* F1-score:\n",
        "Es la media armónica entre precisión y recall, equilibrando ambas métricas `(Es útil cuando hay desbalance de clases.)`"
      ],
      "metadata": {
        "id": "nsGX7rjtsuwM"
      }
    },
    {
      "cell_type": "code",
      "source": [
        "# Preparacion de del dataset\n",
        "\n",
        "# copia del DataFrame\n",
        "df_60 = df_encoded.copy()\n",
        "\n",
        "# Agregar la columna booleana de aprobados si tiene valor mayor igual a 60\n",
        "df_60['Aprobados'] = df_60['Exam_Score'] >= 60"
      ],
      "metadata": {
        "id": "bws1dvVaJogH"
      },
      "execution_count": null,
      "outputs": []
    },
    {
      "cell_type": "code",
      "source": [
        "# @title Visualización de datos por categoría\n",
        "\n",
        "# Frecuencias por categoría\n",
        "categorias = df_60['Aprobados'].value_counts()\n",
        "\n",
        "# Colores para True y False\n",
        "colores = ['green' if valor else 'red' for valor in categorias.index]\n",
        "\n",
        "etiquetas = ['Aprobados' if valor else 'No Aprobados' for valor in categorias.index]\n",
        "plt.bar(etiquetas, categorias.values, color=colores)\n",
        "\n",
        "# Añadir los valores encima de cada barra\n",
        "for i, v in enumerate(categorias.values):\n",
        "    plt.text(i, v + 50, str(v), ha='center', fontweight='bold')  # el +50 es para que no se superponga\n",
        "\n",
        "# Títulos y etiquetas\n",
        "plt.title('Frecuencia de Aprobados y No Aprobados con un Umbral = 60 ')\n",
        "plt.xlabel('Aprobados_Reprobados')\n",
        "plt.ylabel('Frecuencia')\n",
        "\n",
        "plt.show()"
      ],
      "metadata": {
        "colab": {
          "base_uri": "https://localhost:8080/",
          "height": 472
        },
        "id": "ao0f1eeVJzf4",
        "outputId": "1f9dd0f6-43a9-4e4c-93ec-02b7cf3c8fed"
      },
      "execution_count": null,
      "outputs": [
        {
          "output_type": "display_data",
          "data": {
            "text/plain": [
              "<Figure size 640x480 with 1 Axes>"
            ],
            "image/png": "[encoded data removed]"
          },
          "metadata": {}
        }
      ]
    },
    {
      "cell_type": "markdown",
      "source": [
        "El umbral de 60 genera un dataset muy desequilibrado, con una gran diferencia entre la cantidad de aprobados (6311) y no aprobados (66). Este desequilibrio provoca que el modelo se vuelva sesgado, ya que al existir muchos más casos de aprobados, tenderá a predecir casi siempre esta categoría para obtener una alta precisión. Sin embargo, aunque la exactitud (accuracy) pueda resultar con valores muy buenos, el modelo no será realmente capaz de identificar correctamente a los estudiantes no aprobados, generando resultados engañosos. Además, este desbalance dificulta el proceso de aprendizaje, ya que el modelo dispone de muy poca información sobre los casos minoritarios, lo que limita su capacidad para distinguir entre ambas clases. Es por eso que el desequilibrio generado por el umbral de 60 afecta negativamente el rendimiento del modelo y puede producir sesgos hacia la clase mayoritaria.\n"
      ],
      "metadata": {
        "id": "WdiKQVA-cZC3"
      }
    },
    {
      "cell_type": "code",
      "source": [
        "# @title Función de clasificación\n",
        "def flujo_clasificacion(modelo, param_grid, X_train, X_test, y_train, y_test):\n",
        "\n",
        "  # Validación cruzada\n",
        "  cv = StratifiedKFold(n_splits=5, shuffle=True, random_state=42)\n",
        "\n",
        "  # Tuning con grid_search\n",
        "  grid = GridSearchCV(\n",
        "      estimator=modelo,\n",
        "      param_grid=param_grid,\n",
        "      cv=cv,\n",
        "      scoring='balanced_accuracy',\n",
        "      n_jobs=-1,\n",
        "      return_train_score=True\n",
        "  )\n",
        "\n",
        "  # Entrenamiento del GridSearch\n",
        "  grid.fit(X_train, y_train)\n",
        "\n",
        "  # Obtención del mejor modelo\n",
        "  mejor_modelo = grid.best_estimator_\n",
        "\n",
        "  # Metricas de cada fold del mejor modelo\n",
        "  scores_folds = cross_val_score(\n",
        "      mejor_modelo, X_train, y_train,\n",
        "      cv=cv,\n",
        "      scoring=make_scorer(balanced_accuracy_score)\n",
        "  )\n",
        "\n",
        "  # Entrenamiento del modelo fina con todo el x_train y evaluar con el test\n",
        "  mejor_modelo.fit(X_train, y_train)\n",
        "  y_pred = mejor_modelo.predict(X_test)\n",
        "\n",
        "  balanced_acc_final = balanced_accuracy_score(y_test, y_pred)\n",
        "  mcc_final = matthews_corrcoef(y_test, y_pred)\n",
        "\n",
        "  # Importancia de columnas\n",
        "  try: # manejo de error para el SVC\n",
        "    importantes = pd.DataFrame({\n",
        "        'Columna': X_train.columns,\n",
        "        'Importancia': mejor_modelo.feature_importances_\n",
        "    })\n",
        "  except AttributeError:\n",
        "    importantes = None\n",
        "    print(\"El modelo no tiene un atributo 'feature_importances_'.\")\n",
        "\n",
        "  # Calcular matriz de confusión\n",
        "  cm = confusion_matrix(y_test, y_pred)\n",
        "\n",
        "  return grid, scores_folds, balanced_acc_final, mcc_final, classification_report(y_test, y_pred, zero_division=0), cm, importantes"
      ],
      "metadata": {
        "id": "2BR2OYcKfD9b",
        "cellView": "form"
      },
      "execution_count": null,
      "outputs": []
    },
    {
      "cell_type": "code",
      "source": [
        "#@title Primera partición de dataset para evaluar y evitar sobre entrenamiento\n",
        "X = df_60.drop(['Exam_Score','Aprobados'], axis=1)\n",
        "y = df_60['Aprobados']\n",
        "\n",
        "# Partición inicial Train/Test\n",
        "X_train, X_test, y_train, y_test = train_test_split(\n",
        "    X, y,\n",
        "    test_size=0.2,       # 80 train - 20 test\n",
        "    stratify=y,          # mantiene proporciones del desbalance\n",
        "    random_state=42\n",
        ")"
      ],
      "metadata": {
        "id": "31KNNFRpOiPF"
      },
      "execution_count": null,
      "outputs": []
    },
    {
      "cell_type": "markdown",
      "source": [
        "Se realiza una partición del dataset en un 80% para entrenamiento (Train) y un 20% para prueba (Test) con el objetivo de evaluar correctamente el rendimiento del modelo y evitar el sobreajuste. El conjunto de entrenamiento se utiliza para que el modelo aprenda los patrones de los datos, mientras que el conjunto de prueba sirve para comprobar su capacidad de generalización con información que no ha visto antes. Además, se aplica la opción stratify para mantener las proporciones de aprobados y no aprobados, garantizando una representación equilibrada de las clases en ambas particiones."
      ],
      "metadata": {
        "id": "NyNuStlPdlQF"
      }
    },
    {
      "cell_type": "markdown",
      "source": [
        "## **Gaussian Bayes**"
      ],
      "metadata": {
        "id": "WxbuzhPj6dOS"
      }
    },
    {
      "cell_type": "code",
      "source": [
        "# Modelo base\n",
        "model = GaussianNB()\n",
        "\n",
        "# Validación cruzada con StratifiedKFold SOLO CON ENTRENAMIENTOS\n",
        "# Con 5 splits de organizacion\n",
        "cv = StratifiedKFold(n_splits=5, shuffle=True, random_state=42)\n",
        "\n",
        "# Obtencion de los resultados de la validación cruzada con metricas puntuales\n",
        "scores_folds = cross_val_score(\n",
        "    model, X_train, y_train,\n",
        "    cv=cv,\n",
        "    scoring=make_scorer(balanced_accuracy_score)\n",
        ")\n",
        "\n",
        "# Balanced accuracy de cada fold del mejor modelo encontrado\n",
        "print(\"Balanced Accuracy en cada fold del modelo:\")\n",
        "for i, score in enumerate(scores_folds, start=1):\n",
        "    print(f\"Fold {i}: {score:.4f}\")\n",
        "\n",
        "print(\"\\nPromedio:\", scores_folds.mean().round(4), \"| Desviación estándar:\", scores_folds.std().round(4))"
      ],
      "metadata": {
        "id": "6Qi5duZDkc5m",
        "colab": {
          "base_uri": "https://localhost:8080/"
        },
        "outputId": "58c51a0a-fa59-4abd-bf11-358c46b76429"
      },
      "execution_count": null,
      "outputs": [
        {
          "output_type": "stream",
          "name": "stdout",
          "text": [
            "Balanced Accuracy en cada fold del modelo:\n",
            "Fold 1: 0.7248\n",
            "Fold 2: 0.5990\n",
            "Fold 3: 0.6480\n",
            "Fold 4: 0.8167\n",
            "Fold 5: 0.7258\n",
            "\n",
            "Promedio: 0.7029 | Desviación estándar: 0.0745\n"
          ]
        }
      ]
    },
    {
      "cell_type": "code",
      "source": [
        "# Entrenamiento del modelo fina con todo el x_train y evaluar con el test\n",
        "model.fit(X_train, y_train)\n",
        "y_pred = model.predict(X_test)\n",
        "\n",
        "balanced_acc_final = balanced_accuracy_score(y_test, y_pred)\n",
        "mcc_final = matthews_corrcoef(y_test, y_pred)\n",
        "\n",
        "# Evaluacion final\n",
        "print(\"Evaluación final:\")\n",
        "print(\"Balanced Accuracy:\", round(balanced_acc_final, 4))\n",
        "print(\"Matthews Corrcoef:\", round(mcc_final, 4))\n",
        "print(\"\\nClassification Report:\")\n",
        "print(classification_report(y_test, y_pred))"
      ],
      "metadata": {
        "id": "H-Sf8XFfkzX3",
        "colab": {
          "base_uri": "https://localhost:8080/"
        },
        "outputId": "0eba7023-857f-4b40-c868-b69773a5c02a"
      },
      "execution_count": null,
      "outputs": [
        {
          "output_type": "stream",
          "name": "stdout",
          "text": [
            "Evaluación final:\n",
            "Balanced Accuracy: 0.73\n",
            "Matthews Corrcoef: 0.5852\n",
            "\n",
            "Classification Report:\n",
            "              precision    recall  f1-score   support\n",
            "\n",
            "       False       0.75      0.46      0.57        13\n",
            "        True       0.99      1.00      1.00      1263\n",
            "\n",
            "    accuracy                           0.99      1276\n",
            "   macro avg       0.87      0.73      0.78      1276\n",
            "weighted avg       0.99      0.99      0.99      1276\n",
            "\n"
          ]
        }
      ]
    },
    {
      "cell_type": "code",
      "source": [
        "# Creacion de la matriz de confusión\n",
        "\n",
        "# Calcular matriz de confusión\n",
        "cm = confusion_matrix(y_test, y_pred)\n",
        "\n",
        "disp = ConfusionMatrixDisplay(\n",
        "    confusion_matrix=cm,\n",
        "    display_labels=[\"(0)\", \"(1)\"]\n",
        ")\n",
        "\n",
        "# Graficar\n",
        "fig, ax = plt.subplots(figsize=(5, 5))\n",
        "disp.plot(\n",
        "    cmap=\"Reds\",\n",
        "    values_format=\"d\",\n",
        "    ax=ax\n",
        ")\n",
        "plt.title(\"Matriz de Confusión - Modelo Final\")\n",
        "plt.show()"
      ],
      "metadata": {
        "colab": {
          "base_uri": "https://localhost:8080/",
          "height": 427
        },
        "id": "BL4NmeehT5Hl",
        "outputId": "497acfd5-b038-4157-9656-b1044e2d55e9"
      },
      "execution_count": null,
      "outputs": [
        {
          "output_type": "display_data",
          "data": {
            "text/plain": [
              "<Figure size 500x500 with 2 Axes>"
            ],
            "image/png": "[encoded data removed]"
          },
          "metadata": {}
        }
      ]
    },
    {
      "cell_type": "markdown",
      "source": [
        "## **Decision Tree**"
      ],
      "metadata": {
        "id": "F1ZaqEfq5On2"
      }
    },
    {
      "cell_type": "code",
      "source": [
        "# Modelo base\n",
        "tree = DecisionTreeClassifier(random_state=42)\n",
        "\n",
        "# Espacio de hiperparámetros para el tuning\n",
        "param_grid = {\n",
        "    'max_depth': [1, 2, 3, 5, 7, 10, 20, 30, 50, 100, None]\n",
        "}"
      ],
      "metadata": {
        "id": "3WQAflS6hoR9"
      },
      "execution_count": null,
      "outputs": []
    },
    {
      "cell_type": "code",
      "source": [
        "# Llamado de la función\n",
        "grid, scores_folds, balanced_acc_final, mcc_final, report, cm, importantes = flujo_clasificacion(tree, param_grid, X_train, X_test, y_train, y_test)"
      ],
      "metadata": {
        "id": "9iQjmCvdhdn4"
      },
      "execution_count": null,
      "outputs": []
    },
    {
      "cell_type": "code",
      "source": [
        "# Mejores hiperparametros\n",
        "print(\"Mejores hiperparámetros:\", grid.best_params_)\n",
        "print(\"Mejor balanced accuracy promedio:\", grid.best_score_)"
      ],
      "metadata": {
        "colab": {
          "base_uri": "https://localhost:8080/"
        },
        "id": "Vvt64ZICh1uL",
        "outputId": "4a281b87-1890-4e76-a002-7690be815f0e"
      },
      "execution_count": null,
      "outputs": [
        {
          "output_type": "stream",
          "name": "stdout",
          "text": [
            "Mejores hiperparámetros: {'max_depth': 20}\n",
            "Mejor balanced accuracy promedio: 0.733923018664602\n"
          ]
        }
      ]
    },
    {
      "cell_type": "code",
      "source": [
        "# Gráfica de los hiperparametros\n",
        "results = grid.cv_results_\n",
        "depths = [str(d) if d is not None else \"None\" for d in param_grid['max_depth']]\n",
        "scores = results['mean_test_score']\n",
        "\n",
        "plt.bar(depths, scores, color='red', width= 0.6)\n",
        "plt.xlabel('Max Depth')\n",
        "plt.ylabel('Balanced Accuracy promedio (CV)')\n",
        "plt.show()"
      ],
      "metadata": {
        "colab": {
          "base_uri": "https://localhost:8080/",
          "height": 449
        },
        "id": "5T0X6exti6LB",
        "outputId": "c9b2edbf-16fc-47e5-e2ce-dd049e768f31"
      },
      "execution_count": null,
      "outputs": [
        {
          "output_type": "display_data",
          "data": {
            "text/plain": [
              "<Figure size 640x480 with 1 Axes>"
            ],
            "image/png": "[encoded data removed]"
          },
          "metadata": {}
        }
      ]
    },
    {
      "cell_type": "code",
      "source": [
        "# Balanced accuracy de cada fold del mejor modelo encontrado\n",
        "print(\"Balanced Accuracy en cada fold del mejor modelo:\")\n",
        "for i, score in enumerate(scores_folds, start=1):\n",
        "    print(f\"Fold {i}: {score:.4f}\")\n",
        "\n",
        "print(\"\\nPromedio:\", scores_folds.mean().round(4), \"| Desviación estándar:\", scores_folds.std().round(4))"
      ],
      "metadata": {
        "colab": {
          "base_uri": "https://localhost:8080/"
        },
        "id": "CLifBCA_jXvf",
        "outputId": "e6b77d10-f7f0-4f11-c624-536ab3dce859"
      },
      "execution_count": null,
      "outputs": [
        {
          "output_type": "stream",
          "name": "stdout",
          "text": [
            "Balanced Accuracy en cada fold del mejor modelo:\n",
            "Fold 1: 0.7678\n",
            "Fold 2: 0.6955\n",
            "Fold 3: 0.8950\n",
            "Fold 4: 0.6769\n",
            "Fold 5: 0.6344\n",
            "\n",
            "Promedio: 0.7339 | Desviación estándar: 0.0914\n"
          ]
        }
      ]
    },
    {
      "cell_type": "code",
      "source": [
        "# Evaluacion final del mejor modelo\n",
        "print(\"Evaluación final:\")\n",
        "print(\"Balanced Accuracy:\", round(balanced_acc_final, 4))\n",
        "print(\"Matthews Corrcoef:\", round(mcc_final, 4))\n",
        "print(\"\\nClassification Report:\")\n",
        "print(report)"
      ],
      "metadata": {
        "colab": {
          "base_uri": "https://localhost:8080/"
        },
        "id": "MVhEirzDjr1b",
        "outputId": "8481e1c8-66f1-4bb0-f39a-c7538531079e"
      },
      "execution_count": null,
      "outputs": [
        {
          "output_type": "stream",
          "name": "stdout",
          "text": [
            "Evaluación final:\n",
            "Balanced Accuracy: 0.613\n",
            "Matthews Corrcoef: 0.2712\n",
            "\n",
            "Classification Report:\n",
            "              precision    recall  f1-score   support\n",
            "\n",
            "       False       0.33      0.23      0.27        13\n",
            "        True       0.99      1.00      0.99      1263\n",
            "\n",
            "    accuracy                           0.99      1276\n",
            "   macro avg       0.66      0.61      0.63      1276\n",
            "weighted avg       0.99      0.99      0.99      1276\n",
            "\n"
          ]
        }
      ]
    },
    {
      "cell_type": "code",
      "source": [
        "# Creacion de la matriz de confusión\n",
        "disp = ConfusionMatrixDisplay(\n",
        "    confusion_matrix=cm,\n",
        "    display_labels=[\"(0)\", \"(1)\"]\n",
        ")\n",
        "\n",
        "# Graficar\n",
        "fig, ax = plt.subplots(figsize=(5, 5))\n",
        "disp.plot(\n",
        "    cmap=\"Reds\",\n",
        "    values_format=\"d\",\n",
        "    ax=ax\n",
        ")\n",
        "plt.title(\"Matriz de Confusión - Modelo Final\")\n",
        "plt.show()"
      ],
      "metadata": {
        "colab": {
          "base_uri": "https://localhost:8080/",
          "height": 427
        },
        "id": "OG5FhcDtj4oB",
        "outputId": "8be6244e-d511-4463-beb2-15608e449115"
      },
      "execution_count": null,
      "outputs": [
        {
          "output_type": "display_data",
          "data": {
            "text/plain": [
              "<Figure size 500x500 with 2 Axes>"
            ],
            "image/png": "[encoded data removed]"
          },
          "metadata": {}
        }
      ]
    },
    {
      "cell_type": "markdown",
      "source": [
        "###**¿Todas mis columnas son importantes?**"
      ],
      "metadata": {
        "id": "MQVGqSnNnOzV"
      }
    },
    {
      "cell_type": "code",
      "source": [
        "display(importantes.sort_values(by='Importancia', ascending=False))"
      ],
      "metadata": {
        "id": "kLHDrso7mpDn",
        "outputId": "13d1b9bf-b041-4535-9305-be43c5351f80",
        "colab": {
          "base_uri": "https://localhost:8080/",
          "height": 645
        }
      },
      "execution_count": null,
      "outputs": [
        {
          "output_type": "display_data",
          "data": {
            "text/plain": [
              "                           Columna  Importancia\n",
              "0                    Hours_Studied     0.203607\n",
              "1                       Attendance     0.193117\n",
              "4                      Sleep_Hours     0.084442\n",
              "3              Access_to_Resources     0.072671\n",
              "7                Tutoring_Sessions     0.063447\n",
              "5                  Previous_Scores     0.056633\n",
              "9                  Teacher_Quality     0.054974\n",
              "11               Physical_Activity     0.054903\n",
              "17       Learning_Disabilities_Yes     0.044634\n",
              "6                 Motivation_Level     0.041976\n",
              "2             Parental_Involvement     0.035130\n",
              "12        Parental_Education_Level     0.032912\n",
              "13              Distance_from_Home     0.029672\n",
              "8                    Family_Income     0.014300\n",
              "16              School_Type_Public     0.010169\n",
              "15             Internet_Access_Yes     0.007415\n",
              "10                  Peer_Influence     0.000000\n",
              "14  Extracurricular_Activities_Yes     0.000000\n",
              "18                     Gender_Male     0.000000"
            ],
            "text/html": [
              "\n",
              "  <div id=\"df-c3e15c9e-8d51-4015-93a0-e46c4b4542e9\" class=\"colab-df-container\">\n",
              "    <div>\n",
              "<style scoped>\n",
              "    .dataframe tbody tr th:only-of-type {\n",
              "        vertical-align: middle;\n",
              "    }\n",
              "\n",
              "    .dataframe tbody tr th {\n",
              "        vertical-align: top;\n",
              "    }\n",
              "\n",
              "    .dataframe thead th {\n",
              "        text-align: right;\n",
              "    }\n",
              "</style>\n",
              "<table border=\"1\" class=\"dataframe\">\n",
              "  <thead>\n",
              "    <tr style=\"text-align: right;\">\n",
              "      <th></th>\n",
              "      <th>Columna</th>\n",
              "      <th>Importancia</th>\n",
              "    </tr>\n",
              "  </thead>\n",
              "  <tbody>\n",
              "    <tr>\n",
              "      <th>0</th>\n",
              "      <td>Hours_Studied</td>\n",
              "      <td>0.203607</td>\n",
              "    </tr>\n",
              "    <tr>\n",
              "      <th>1</th>\n",
              "      <td>Attendance</td>\n",
              "      <td>0.193117</td>\n",
              "    </tr>\n",
              "    <tr>\n",
              "      <th>4</th>\n",
              "      <td>Sleep_Hours</td>\n",
              "      <td>0.084442</td>\n",
              "    </tr>\n",
              "    <tr>\n",
              "      <th>3</th>\n",
              "      <td>Access_to_Resources</td>\n",
              "      <td>0.072671</td>\n",
              "    </tr>\n",
              "    <tr>\n",
              "      <th>7</th>\n",
              "      <td>Tutoring_Sessions</td>\n",
              "      <td>0.063447</td>\n",
              "    </tr>\n",
              "    <tr>\n",
              "      <th>5</th>\n",
              "      <td>Previous_Scores</td>\n",
              "      <td>0.056633</td>\n",
              "    </tr>\n",
              "    <tr>\n",
              "      <th>9</th>\n",
              "      <td>Teacher_Quality</td>\n",
              "      <td>0.054974</td>\n",
              "    </tr>\n",
              "    <tr>\n",
              "      <th>11</th>\n",
              "      <td>Physical_Activity</td>\n",
              "      <td>0.054903</td>\n",
              "    </tr>\n",
              "    <tr>\n",
              "      <th>17</th>\n",
              "      <td>Learning_Disabilities_Yes</td>\n",
              "      <td>0.044634</td>\n",
              "    </tr>\n",
              "    <tr>\n",
              "      <th>6</th>\n",
              "      <td>Motivation_Level</td>\n",
              "      <td>0.041976</td>\n",
              "    </tr>\n",
              "    <tr>\n",
              "      <th>2</th>\n",
              "      <td>Parental_Involvement</td>\n",
              "      <td>0.035130</td>\n",
              "    </tr>\n",
              "    <tr>\n",
              "      <th>12</th>\n",
              "      <td>Parental_Education_Level</td>\n",
              "      <td>0.032912</td>\n",
              "    </tr>\n",
              "    <tr>\n",
              "      <th>13</th>\n",
              "      <td>Distance_from_Home</td>\n",
              "      <td>0.029672</td>\n",
              "    </tr>\n",
              "    <tr>\n",
              "      <th>8</th>\n",
              "      <td>Family_Income</td>\n",
              "      <td>0.014300</td>\n",
              "    </tr>\n",
              "    <tr>\n",
              "      <th>16</th>\n",
              "      <td>School_Type_Public</td>\n",
              "      <td>0.010169</td>\n",
              "    </tr>\n",
              "    <tr>\n",
              "      <th>15</th>\n",
              "      <td>Internet_Access_Yes</td>\n",
              "      <td>0.007415</td>\n",
              "    </tr>\n",
              "    <tr>\n",
              "      <th>10</th>\n",
              "      <td>Peer_Influence</td>\n",
              "      <td>0.000000</td>\n",
              "    </tr>\n",
              "    <tr>\n",
              "      <th>14</th>\n",
              "      <td>Extracurricular_Activities_Yes</td>\n",
              "      <td>0.000000</td>\n",
              "    </tr>\n",
              "    <tr>\n",
              "      <th>18</th>\n",
              "      <td>Gender_Male</td>\n",
              "      <td>0.000000</td>\n",
              "    </tr>\n",
              "  </tbody>\n",
              "</table>\n",
              "</div>\n",
              "    <div class=\"colab-df-buttons\">\n",
              "\n",
              "  <div class=\"colab-df-container\">\n",
              "    <button class=\"colab-df-convert\" onclick=\"convertToInteractive('df-c3e15c9e-8d51-4015-93a0-e46c4b4542e9')\"\n",
              "            title=\"Convert this dataframe to an interactive table.\"\n",
              "            style=\"display:none;\">\n",
              "\n",
              "  <svg xmlns=\"http://www.w3.org/2000/svg\" height=\"24px\" viewBox=\"0 -960 960 960\">\n",
              "    <path d=\"M120-120v-720h720v720H120Zm60-500h600v-160H180v160Zm220 220h160v-160H400v160Zm0 220h160v-160H400v160ZM180-400h160v-160H180v160Zm440 0h160v-160H620v160ZM180-180h160v-160H180v160Zm440 0h160v-160H620v160Z\"/>\n",
              "  </svg>\n",
              "    </button>\n",
              "\n",
              "  <style>\n",
              "    .colab-df-container {\n",
              "      display:flex;\n",
              "      gap: 12px;\n",
              "    }\n",
              "\n",
              "    .colab-df-convert {\n",
              "      background-color: #E8F0FE;\n",
              "      border: none;\n",
              "      border-radius: 50%;\n",
              "      cursor: pointer;\n",
              "      display: none;\n",
              "      fill: #1967D2;\n",
              "      height: 32px;\n",
              "      padding: 0 0 0 0;\n",
              "      width: 32px;\n",
              "    }\n",
              "\n",
              "    .colab-df-convert:hover {\n",
              "      background-color: #E2EBFA;\n",
              "      box-shadow: 0px 1px 2px rgba(60, 64, 67, 0.3), 0px 1px 3px 1px rgba(60, 64, 67, 0.15);\n",
              "      fill: #174EA6;\n",
              "    }\n",
              "\n",
              "    .colab-df-buttons div {\n",
              "      margin-bottom: 4px;\n",
              "    }\n",
              "\n",
              "    [theme=dark] .colab-df-convert {\n",
              "      background-color: #3B4455;\n",
              "      fill: #D2E3FC;\n",
              "    }\n",
              "\n",
              "    [theme=dark] .colab-df-convert:hover {\n",
              "      background-color: #434B5C;\n",
              "      box-shadow: 0px 1px 3px 1px rgba(0, 0, 0, 0.15);\n",
              "      filter: drop-shadow(0px 1px 2px rgba(0, 0, 0, 0.3));\n",
              "      fill: #FFFFFF;\n",
              "    }\n",
              "  </style>\n",
              "\n",
              "    <script>\n",
              "      const buttonEl =\n",
              "        document.querySelector('#df-c3e15c9e-8d51-4015-93a0-e46c4b4542e9 button.colab-df-convert');\n",
              "      buttonEl.style.display =\n",
              "        google.colab.kernel.accessAllowed ? 'block' : 'none';\n",
              "\n",
              "      async function convertToInteractive(key) {\n",
              "        const element = document.querySelector('#df-c3e15c9e-8d51-4015-93a0-e46c4b4542e9');\n",
              "        const dataTable =\n",
              "          await google.colab.kernel.invokeFunction('convertToInteractive',\n",
              "                                                    [key], {});\n",
              "        if (!dataTable) return;\n",
              "\n",
              "        const docLinkHtml = 'Like what you see? Visit the ' +\n",
              "          '<a target=\"_blank\" href=https://colab.research.google.com/notebooks/data_table.ipynb>data table notebook</a>'\n",
              "          + ' to learn more about interactive tables.';\n",
              "        element.innerHTML = '';\n",
              "        dataTable['output_type'] = 'display_data';\n",
              "        await google.colab.output.renderOutput(dataTable, element);\n",
              "        const docLink = document.createElement('div');\n",
              "        docLink.innerHTML = docLinkHtml;\n",
              "        element.appendChild(docLink);\n",
              "      }\n",
              "    </script>\n",
              "  </div>\n",
              "\n",
              "\n",
              "    <div id=\"df-297bffde-8a22-4f0f-9f44-e6a59965709a\">\n",
              "      <button class=\"colab-df-quickchart\" onclick=\"quickchart('df-297bffde-8a22-4f0f-9f44-e6a59965709a')\"\n",
              "                title=\"Suggest charts\"\n",
              "                style=\"display:none;\">\n",
              "\n",
              "<svg xmlns=\"http://www.w3.org/2000/svg\" height=\"24px\"viewBox=\"0 0 24 24\"\n",
              "     width=\"24px\">\n",
              "    <g>\n",
              "        <path d=\"M19 3H5c-1.1 0-2 .9-2 2v14c0 1.1.9 2 2 2h14c1.1 0 2-.9 2-2V5c0-1.1-.9-2-2-2zM9 17H7v-7h2v7zm4 0h-2V7h2v10zm4 0h-2v-4h2v4z\"/>\n",
              "    </g>\n",
              "</svg>\n",
              "      </button>\n",
              "\n",
              "<style>\n",
              "  .colab-df-quickchart {\n",
              "      --bg-color: #E8F0FE;\n",
              "      --fill-color: #1967D2;\n",
              "      --hover-bg-color: #E2EBFA;\n",
              "      --hover-fill-color: #174EA6;\n",
              "      --disabled-fill-color: #AAA;\n",
              "      --disabled-bg-color: #DDD;\n",
              "  }\n",
              "\n",
              "  [theme=dark] .colab-df-quickchart {\n",
              "      --bg-color: #3B4455;\n",
              "      --fill-color: #D2E3FC;\n",
              "      --hover-bg-color: #434B5C;\n",
              "      --hover-fill-color: #FFFFFF;\n",
              "      --disabled-bg-color: #3B4455;\n",
              "      --disabled-fill-color: #666;\n",
              "  }\n",
              "\n",
              "  .colab-df-quickchart {\n",
              "    background-color: var(--bg-color);\n",
              "    border: none;\n",
              "    border-radius: 50%;\n",
              "    cursor: pointer;\n",
              "    display: none;\n",
              "    fill: var(--fill-color);\n",
              "    height: 32px;\n",
              "    padding: 0;\n",
              "    width: 32px;\n",
              "  }\n",
              "\n",
              "  .colab-df-quickchart:hover {\n",
              "    background-color: var(--hover-bg-color);\n",
              "    box-shadow: 0 1px 2px rgba(60, 64, 67, 0.3), 0 1px 3px 1px rgba(60, 64, 67, 0.15);\n",
              "    fill: var(--button-hover-fill-color);\n",
              "  }\n",
              "\n",
              "  .colab-df-quickchart-complete:disabled,\n",
              "  .colab-df-quickchart-complete:disabled:hover {\n",
              "    background-color: var(--disabled-bg-color);\n",
              "    fill: var(--disabled-fill-color);\n",
              "    box-shadow: none;\n",
              "  }\n",
              "\n",
              "  .colab-df-spinner {\n",
              "    border: 2px solid var(--fill-color);\n",
              "    border-color: transparent;\n",
              "    border-bottom-color: var(--fill-color);\n",
              "    animation:\n",
              "      spin 1s steps(1) infinite;\n",
              "  }\n",
              "\n",
              "  @keyframes spin {\n",
              "    0% {\n",
              "      border-color: transparent;\n",
              "      border-bottom-color: var(--fill-color);\n",
              "      border-left-color: var(--fill-color);\n",
              "    }\n",
              "    20% {\n",
              "      border-color: transparent;\n",
              "      border-left-color: var(--fill-color);\n",
              "      border-top-color: var(--fill-color);\n",
              "    }\n",
              "    30% {\n",
              "      border-color: transparent;\n",
              "      border-left-color: var(--fill-color);\n",
              "      border-top-color: var(--fill-color);\n",
              "      border-right-color: var(--fill-color);\n",
              "    }\n",
              "    40% {\n",
              "      border-color: transparent;\n",
              "      border-right-color: var(--fill-color);\n",
              "      border-top-color: var(--fill-color);\n",
              "    }\n",
              "    60% {\n",
              "      border-color: transparent;\n",
              "      border-right-color: var(--fill-color);\n",
              "    }\n",
              "    80% {\n",
              "      border-color: transparent;\n",
              "      border-right-color: var(--fill-color);\n",
              "      border-bottom-color: var(--fill-color);\n",
              "    }\n",
              "    90% {\n",
              "      border-color: transparent;\n",
              "      border-bottom-color: var(--fill-color);\n",
              "    }\n",
              "  }\n",
              "</style>\n",
              "\n",
              "      <script>\n",
              "        async function quickchart(key) {\n",
              "          const quickchartButtonEl =\n",
              "            document.querySelector('#' + key + ' button');\n",
              "          quickchartButtonEl.disabled = true;  // To prevent multiple clicks.\n",
              "          quickchartButtonEl.classList.add('colab-df-spinner');\n",
              "          try {\n",
              "            const charts = await google.colab.kernel.invokeFunction(\n",
              "                'suggestCharts', [key], {});\n",
              "          } catch (error) {\n",
              "            console.error('Error during call to suggestCharts:', error);\n",
              "          }\n",
              "          quickchartButtonEl.classList.remove('colab-df-spinner');\n",
              "          quickchartButtonEl.classList.add('colab-df-quickchart-complete');\n",
              "        }\n",
              "        (() => {\n",
              "          let quickchartButtonEl =\n",
              "            document.querySelector('#df-297bffde-8a22-4f0f-9f44-e6a59965709a button');\n",
              "          quickchartButtonEl.style.display =\n",
              "            google.colab.kernel.accessAllowed ? 'block' : 'none';\n",
              "        })();\n",
              "      </script>\n",
              "    </div>\n",
              "\n",
              "    </div>\n",
              "  </div>\n"
            ],
            "application/vnd.google.colaboratory.intrinsic+json": {
              "type": "dataframe",
              "summary": "{\n  \"name\": \"display(importantes\",\n  \"rows\": 19,\n  \"fields\": [\n    {\n      \"column\": \"Columna\",\n      \"properties\": {\n        \"dtype\": \"string\",\n        \"num_unique_values\": 19,\n        \"samples\": [\n          \"Hours_Studied\",\n          \"Previous_Scores\",\n          \"Parental_Education_Level\"\n        ],\n        \"semantic_type\": \"\",\n        \"description\": \"\"\n      }\n    },\n    {\n      \"column\": \"Importancia\",\n      \"properties\": {\n        \"dtype\": \"number\",\n        \"std\": 0.057307116651043946,\n        \"min\": 0.0,\n        \"max\": 0.2036070855282198,\n        \"num_unique_values\": 17,\n        \"samples\": [\n          0.2036070855282198,\n          0.1931166328389145,\n          0.05663301537046311\n        ],\n        \"semantic_type\": \"\",\n        \"description\": \"\"\n      }\n    }\n  ]\n}"
            }
          },
          "metadata": {}
        }
      ]
    },
    {
      "cell_type": "code",
      "source": [
        "# Rango ajustable\n",
        "min_importancia = 0.01 # valor mínimo\n",
        "\n",
        "# Filtrado las columnas dentro del rango\n",
        "features_filtradas = importantes[\n",
        "    (importantes[\"Importancia\"] >= min_importancia)\n",
        "][\"Columna\"]\n",
        "\n",
        "# Filtrado el dataset original X\n",
        "X_filtrado = X[features_filtradas]\n",
        "\n",
        "display(X_filtrado.head())\n"
      ],
      "metadata": {
        "id": "-bHF3KzlndCA",
        "outputId": "24b34bc2-2148-4cfd-9a62-7eedb43be703",
        "colab": {
          "base_uri": "https://localhost:8080/",
          "height": 226
        }
      },
      "execution_count": null,
      "outputs": [
        {
          "output_type": "display_data",
          "data": {
            "text/plain": [
              "   Hours_Studied  Attendance  Parental_Involvement  Access_to_Resources  \\\n",
              "0             23          84                     1                    3   \n",
              "1             19          64                     1                    2   \n",
              "2             24          98                     2                    2   \n",
              "3             29          89                     1                    2   \n",
              "4             19          92                     2                    2   \n",
              "\n",
              "   Sleep_Hours  Previous_Scores  Motivation_Level  Tutoring_Sessions  \\\n",
              "0            7               73                 1                  0   \n",
              "1            8               59                 1                  2   \n",
              "2            7               91                 2                  2   \n",
              "3            8               98                 2                  1   \n",
              "4            6               65                 2                  3   \n",
              "\n",
              "   Family_Income  Teacher_Quality  Physical_Activity  \\\n",
              "0              1                2                  3   \n",
              "1              2                2                  4   \n",
              "2              2                2                  4   \n",
              "3              2                2                  4   \n",
              "4              2                3                  4   \n",
              "\n",
              "   Parental_Education_Level  Distance_from_Home  School_Type_Public  \\\n",
              "0                         1                   1                   1   \n",
              "1                         2                   2                   1   \n",
              "2                         3                   1                   1   \n",
              "3                         1                   2                   1   \n",
              "4                         2                   1                   1   \n",
              "\n",
              "   Learning_Disabilities_Yes  \n",
              "0                          0  \n",
              "1                          0  \n",
              "2                          0  \n",
              "3                          0  \n",
              "4                          0  "
            ],
            "text/html": [
              "\n",
              "  <div id=\"df-8e549814-7ce1-4e61-aee5-18c684fe2047\" class=\"colab-df-container\">\n",
              "    <div>\n",
              "<style scoped>\n",
              "    .dataframe tbody tr th:only-of-type {\n",
              "        vertical-align: middle;\n",
              "    }\n",
              "\n",
              "    .dataframe tbody tr th {\n",
              "        vertical-align: top;\n",
              "    }\n",
              "\n",
              "    .dataframe thead th {\n",
              "        text-align: right;\n",
              "    }\n",
              "</style>\n",
              "<table border=\"1\" class=\"dataframe\">\n",
              "  <thead>\n",
              "    <tr style=\"text-align: right;\">\n",
              "      <th></th>\n",
              "      <th>Hours_Studied</th>\n",
              "      <th>Attendance</th>\n",
              "      <th>Parental_Involvement</th>\n",
              "      <th>Access_to_Resources</th>\n",
              "      <th>Sleep_Hours</th>\n",
              "      <th>Previous_Scores</th>\n",
              "      <th>Motivation_Level</th>\n",
              "      <th>Tutoring_Sessions</th>\n",
              "      <th>Family_Income</th>\n",
              "      <th>Teacher_Quality</th>\n",
              "      <th>Physical_Activity</th>\n",
              "      <th>Parental_Education_Level</th>\n",
              "      <th>Distance_from_Home</th>\n",
              "      <th>School_Type_Public</th>\n",
              "      <th>Learning_Disabilities_Yes</th>\n",
              "    </tr>\n",
              "  </thead>\n",
              "  <tbody>\n",
              "    <tr>\n",
              "      <th>0</th>\n",
              "      <td>23</td>\n",
              "      <td>84</td>\n",
              "      <td>1</td>\n",
              "      <td>3</td>\n",
              "      <td>7</td>\n",
              "      <td>73</td>\n",
              "      <td>1</td>\n",
              "      <td>0</td>\n",
              "      <td>1</td>\n",
              "      <td>2</td>\n",
              "      <td>3</td>\n",
              "      <td>1</td>\n",
              "      <td>1</td>\n",
              "      <td>1</td>\n",
              "      <td>0</td>\n",
              "    </tr>\n",
              "    <tr>\n",
              "      <th>1</th>\n",
              "      <td>19</td>\n",
              "      <td>64</td>\n",
              "      <td>1</td>\n",
              "      <td>2</td>\n",
              "      <td>8</td>\n",
              "      <td>59</td>\n",
              "      <td>1</td>\n",
              "      <td>2</td>\n",
              "      <td>2</td>\n",
              "      <td>2</td>\n",
              "      <td>4</td>\n",
              "      <td>2</td>\n",
              "      <td>2</td>\n",
              "      <td>1</td>\n",
              "      <td>0</td>\n",
              "    </tr>\n",
              "    <tr>\n",
              "      <th>2</th>\n",
              "      <td>24</td>\n",
              "      <td>98</td>\n",
              "      <td>2</td>\n",
              "      <td>2</td>\n",
              "      <td>7</td>\n",
              "      <td>91</td>\n",
              "      <td>2</td>\n",
              "      <td>2</td>\n",
              "      <td>2</td>\n",
              "      <td>2</td>\n",
              "      <td>4</td>\n",
              "      <td>3</td>\n",
              "      <td>1</td>\n",
              "      <td>1</td>\n",
              "      <td>0</td>\n",
              "    </tr>\n",
              "    <tr>\n",
              "      <th>3</th>\n",
              "      <td>29</td>\n",
              "      <td>89</td>\n",
              "      <td>1</td>\n",
              "      <td>2</td>\n",
              "      <td>8</td>\n",
              "      <td>98</td>\n",
              "      <td>2</td>\n",
              "      <td>1</td>\n",
              "      <td>2</td>\n",
              "      <td>2</td>\n",
              "      <td>4</td>\n",
              "      <td>1</td>\n",
              "      <td>2</td>\n",
              "      <td>1</td>\n",
              "      <td>0</td>\n",
              "    </tr>\n",
              "    <tr>\n",
              "      <th>4</th>\n",
              "      <td>19</td>\n",
              "      <td>92</td>\n",
              "      <td>2</td>\n",
              "      <td>2</td>\n",
              "      <td>6</td>\n",
              "      <td>65</td>\n",
              "      <td>2</td>\n",
              "      <td>3</td>\n",
              "      <td>2</td>\n",
              "      <td>3</td>\n",
              "      <td>4</td>\n",
              "      <td>2</td>\n",
              "      <td>1</td>\n",
              "      <td>1</td>\n",
              "      <td>0</td>\n",
              "    </tr>\n",
              "  </tbody>\n",
              "</table>\n",
              "</div>\n",
              "    <div class=\"colab-df-buttons\">\n",
              "\n",
              "  <div class=\"colab-df-container\">\n",
              "    <button class=\"colab-df-convert\" onclick=\"convertToInteractive('df-8e549814-7ce1-4e61-aee5-18c684fe2047')\"\n",
              "            title=\"Convert this dataframe to an interactive table.\"\n",
              "            style=\"display:none;\">\n",
              "\n",
              "  <svg xmlns=\"http://www.w3.org/2000/svg\" height=\"24px\" viewBox=\"0 -960 960 960\">\n",
              "    <path d=\"M120-120v-720h720v720H120Zm60-500h600v-160H180v160Zm220 220h160v-160H400v160Zm0 220h160v-160H400v160ZM180-400h160v-160H180v160Zm440 0h160v-160H620v160ZM180-180h160v-160H180v160Zm440 0h160v-160H620v160Z\"/>\n",
              "  </svg>\n",
              "    </button>\n",
              "\n",
              "  <style>\n",
              "    .colab-df-container {\n",
              "      display:flex;\n",
              "      gap: 12px;\n",
              "    }\n",
              "\n",
              "    .colab-df-convert {\n",
              "      background-color: #E8F0FE;\n",
              "      border: none;\n",
              "      border-radius: 50%;\n",
              "      cursor: pointer;\n",
              "      display: none;\n",
              "      fill: #1967D2;\n",
              "      height: 32px;\n",
              "      padding: 0 0 0 0;\n",
              "      width: 32px;\n",
              "    }\n",
              "\n",
              "    .colab-df-convert:hover {\n",
              "      background-color: #E2EBFA;\n",
              "      box-shadow: 0px 1px 2px rgba(60, 64, 67, 0.3), 0px 1px 3px 1px rgba(60, 64, 67, 0.15);\n",
              "      fill: #174EA6;\n",
              "    }\n",
              "\n",
              "    .colab-df-buttons div {\n",
              "      margin-bottom: 4px;\n",
              "    }\n",
              "\n",
              "    [theme=dark] .colab-df-convert {\n",
              "      background-color: #3B4455;\n",
              "      fill: #D2E3FC;\n",
              "    }\n",
              "\n",
              "    [theme=dark] .colab-df-convert:hover {\n",
              "      background-color: #434B5C;\n",
              "      box-shadow: 0px 1px 3px 1px rgba(0, 0, 0, 0.15);\n",
              "      filter: drop-shadow(0px 1px 2px rgba(0, 0, 0, 0.3));\n",
              "      fill: #FFFFFF;\n",
              "    }\n",
              "  </style>\n",
              "\n",
              "    <script>\n",
              "      const buttonEl =\n",
              "        document.querySelector('#df-8e549814-7ce1-4e61-aee5-18c684fe2047 button.colab-df-convert');\n",
              "      buttonEl.style.display =\n",
              "        google.colab.kernel.accessAllowed ? 'block' : 'none';\n",
              "\n",
              "      async function convertToInteractive(key) {\n",
              "        const element = document.querySelector('#df-8e549814-7ce1-4e61-aee5-18c684fe2047');\n",
              "        const dataTable =\n",
              "          await google.colab.kernel.invokeFunction('convertToInteractive',\n",
              "                                                    [key], {});\n",
              "        if (!dataTable) return;\n",
              "\n",
              "        const docLinkHtml = 'Like what you see? Visit the ' +\n",
              "          '<a target=\"_blank\" href=https://colab.research.google.com/notebooks/data_table.ipynb>data table notebook</a>'\n",
              "          + ' to learn more about interactive tables.';\n",
              "        element.innerHTML = '';\n",
              "        dataTable['output_type'] = 'display_data';\n",
              "        await google.colab.output.renderOutput(dataTable, element);\n",
              "        const docLink = document.createElement('div');\n",
              "        docLink.innerHTML = docLinkHtml;\n",
              "        element.appendChild(docLink);\n",
              "      }\n",
              "    </script>\n",
              "  </div>\n",
              "\n",
              "\n",
              "    <div id=\"df-fc2708ec-9f62-4155-9b3f-43e1ff6bf0a9\">\n",
              "      <button class=\"colab-df-quickchart\" onclick=\"quickchart('df-fc2708ec-9f62-4155-9b3f-43e1ff6bf0a9')\"\n",
              "                title=\"Suggest charts\"\n",
              "                style=\"display:none;\">\n",
              "\n",
              "<svg xmlns=\"http://www.w3.org/2000/svg\" height=\"24px\"viewBox=\"0 0 24 24\"\n",
              "     width=\"24px\">\n",
              "    <g>\n",
              "        <path d=\"M19 3H5c-1.1 0-2 .9-2 2v14c0 1.1.9 2 2 2h14c1.1 0 2-.9 2-2V5c0-1.1-.9-2-2-2zM9 17H7v-7h2v7zm4 0h-2V7h2v10zm4 0h-2v-4h2v4z\"/>\n",
              "    </g>\n",
              "</svg>\n",
              "      </button>\n",
              "\n",
              "<style>\n",
              "  .colab-df-quickchart {\n",
              "      --bg-color: #E8F0FE;\n",
              "      --fill-color: #1967D2;\n",
              "      --hover-bg-color: #E2EBFA;\n",
              "      --hover-fill-color: #174EA6;\n",
              "      --disabled-fill-color: #AAA;\n",
              "      --disabled-bg-color: #DDD;\n",
              "  }\n",
              "\n",
              "  [theme=dark] .colab-df-quickchart {\n",
              "      --bg-color: #3B4455;\n",
              "      --fill-color: #D2E3FC;\n",
              "      --hover-bg-color: #434B5C;\n",
              "      --hover-fill-color: #FFFFFF;\n",
              "      --disabled-bg-color: #3B4455;\n",
              "      --disabled-fill-color: #666;\n",
              "  }\n",
              "\n",
              "  .colab-df-quickchart {\n",
              "    background-color: var(--bg-color);\n",
              "    border: none;\n",
              "    border-radius: 50%;\n",
              "    cursor: pointer;\n",
              "    display: none;\n",
              "    fill: var(--fill-color);\n",
              "    height: 32px;\n",
              "    padding: 0;\n",
              "    width: 32px;\n",
              "  }\n",
              "\n",
              "  .colab-df-quickchart:hover {\n",
              "    background-color: var(--hover-bg-color);\n",
              "    box-shadow: 0 1px 2px rgba(60, 64, 67, 0.3), 0 1px 3px 1px rgba(60, 64, 67, 0.15);\n",
              "    fill: var(--button-hover-fill-color);\n",
              "  }\n",
              "\n",
              "  .colab-df-quickchart-complete:disabled,\n",
              "  .colab-df-quickchart-complete:disabled:hover {\n",
              "    background-color: var(--disabled-bg-color);\n",
              "    fill: var(--disabled-fill-color);\n",
              "    box-shadow: none;\n",
              "  }\n",
              "\n",
              "  .colab-df-spinner {\n",
              "    border: 2px solid var(--fill-color);\n",
              "    border-color: transparent;\n",
              "    border-bottom-color: var(--fill-color);\n",
              "    animation:\n",
              "      spin 1s steps(1) infinite;\n",
              "  }\n",
              "\n",
              "  @keyframes spin {\n",
              "    0% {\n",
              "      border-color: transparent;\n",
              "      border-bottom-color: var(--fill-color);\n",
              "      border-left-color: var(--fill-color);\n",
              "    }\n",
              "    20% {\n",
              "      border-color: transparent;\n",
              "      border-left-color: var(--fill-color);\n",
              "      border-top-color: var(--fill-color);\n",
              "    }\n",
              "    30% {\n",
              "      border-color: transparent;\n",
              "      border-left-color: var(--fill-color);\n",
              "      border-top-color: var(--fill-color);\n",
              "      border-right-color: var(--fill-color);\n",
              "    }\n",
              "    40% {\n",
              "      border-color: transparent;\n",
              "      border-right-color: var(--fill-color);\n",
              "      border-top-color: var(--fill-color);\n",
              "    }\n",
              "    60% {\n",
              "      border-color: transparent;\n",
              "      border-right-color: var(--fill-color);\n",
              "    }\n",
              "    80% {\n",
              "      border-color: transparent;\n",
              "      border-right-color: var(--fill-color);\n",
              "      border-bottom-color: var(--fill-color);\n",
              "    }\n",
              "    90% {\n",
              "      border-color: transparent;\n",
              "      border-bottom-color: var(--fill-color);\n",
              "    }\n",
              "  }\n",
              "</style>\n",
              "\n",
              "      <script>\n",
              "        async function quickchart(key) {\n",
              "          const quickchartButtonEl =\n",
              "            document.querySelector('#' + key + ' button');\n",
              "          quickchartButtonEl.disabled = true;  // To prevent multiple clicks.\n",
              "          quickchartButtonEl.classList.add('colab-df-spinner');\n",
              "          try {\n",
              "            const charts = await google.colab.kernel.invokeFunction(\n",
              "                'suggestCharts', [key], {});\n",
              "          } catch (error) {\n",
              "            console.error('Error during call to suggestCharts:', error);\n",
              "          }\n",
              "          quickchartButtonEl.classList.remove('colab-df-spinner');\n",
              "          quickchartButtonEl.classList.add('colab-df-quickchart-complete');\n",
              "        }\n",
              "        (() => {\n",
              "          let quickchartButtonEl =\n",
              "            document.querySelector('#df-fc2708ec-9f62-4155-9b3f-43e1ff6bf0a9 button');\n",
              "          quickchartButtonEl.style.display =\n",
              "            google.colab.kernel.accessAllowed ? 'block' : 'none';\n",
              "        })();\n",
              "      </script>\n",
              "    </div>\n",
              "\n",
              "    </div>\n",
              "  </div>\n"
            ],
            "application/vnd.google.colaboratory.intrinsic+json": {
              "type": "dataframe",
              "summary": "{\n  \"name\": \"display(X_filtrado\",\n  \"rows\": 5,\n  \"fields\": [\n    {\n      \"column\": \"Hours_Studied\",\n      \"properties\": {\n        \"dtype\": \"number\",\n        \"std\": 4,\n        \"min\": 19,\n        \"max\": 29,\n        \"num_unique_values\": 4,\n        \"samples\": [\n          19,\n          29,\n          23\n        ],\n        \"semantic_type\": \"\",\n        \"description\": \"\"\n      }\n    },\n    {\n      \"column\": \"Attendance\",\n      \"properties\": {\n        \"dtype\": \"number\",\n        \"std\": 12,\n        \"min\": 64,\n        \"max\": 98,\n        \"num_unique_values\": 5,\n        \"samples\": [\n          64,\n          92,\n          98\n        ],\n        \"semantic_type\": \"\",\n        \"description\": \"\"\n      }\n    },\n    {\n      \"column\": \"Parental_Involvement\",\n      \"properties\": {\n        \"dtype\": \"number\",\n        \"std\": 0,\n        \"min\": 1,\n        \"max\": 2,\n        \"num_unique_values\": 2,\n        \"samples\": [\n          2,\n          1\n        ],\n        \"semantic_type\": \"\",\n        \"description\": \"\"\n      }\n    },\n    {\n      \"column\": \"Access_to_Resources\",\n      \"properties\": {\n        \"dtype\": \"number\",\n        \"std\": 0,\n        \"min\": 2,\n        \"max\": 3,\n        \"num_unique_values\": 2,\n        \"samples\": [\n          2,\n          3\n        ],\n        \"semantic_type\": \"\",\n        \"description\": \"\"\n      }\n    },\n    {\n      \"column\": \"Sleep_Hours\",\n      \"properties\": {\n        \"dtype\": \"number\",\n        \"std\": 0,\n        \"min\": 6,\n        \"max\": 8,\n        \"num_unique_values\": 3,\n        \"samples\": [\n          7,\n          8\n        ],\n        \"semantic_type\": \"\",\n        \"description\": \"\"\n      }\n    },\n    {\n      \"column\": \"Previous_Scores\",\n      \"properties\": {\n        \"dtype\": \"number\",\n        \"std\": 16,\n        \"min\": 59,\n        \"max\": 98,\n        \"num_unique_values\": 5,\n        \"samples\": [\n          59,\n          65\n        ],\n        \"semantic_type\": \"\",\n        \"description\": \"\"\n      }\n    },\n    {\n      \"column\": \"Motivation_Level\",\n      \"properties\": {\n        \"dtype\": \"number\",\n        \"std\": 0,\n        \"min\": 1,\n        \"max\": 2,\n        \"num_unique_values\": 2,\n        \"samples\": [\n          2,\n          1\n        ],\n        \"semantic_type\": \"\",\n        \"description\": \"\"\n      }\n    },\n    {\n      \"column\": \"Tutoring_Sessions\",\n      \"properties\": {\n        \"dtype\": \"number\",\n        \"std\": 1,\n        \"min\": 0,\n        \"max\": 3,\n        \"num_unique_values\": 4,\n        \"samples\": [\n          2,\n          3\n        ],\n        \"semantic_type\": \"\",\n        \"description\": \"\"\n      }\n    },\n    {\n      \"column\": \"Family_Income\",\n      \"properties\": {\n        \"dtype\": \"number\",\n        \"std\": 0,\n        \"min\": 1,\n        \"max\": 2,\n        \"num_unique_values\": 2,\n        \"samples\": [\n          2,\n          1\n        ],\n        \"semantic_type\": \"\",\n        \"description\": \"\"\n      }\n    },\n    {\n      \"column\": \"Teacher_Quality\",\n      \"properties\": {\n        \"dtype\": \"number\",\n        \"std\": 0,\n        \"min\": 2,\n        \"max\": 3,\n        \"num_unique_values\": 2,\n        \"samples\": [\n          3,\n          2\n        ],\n        \"semantic_type\": \"\",\n        \"description\": \"\"\n      }\n    },\n    {\n      \"column\": \"Physical_Activity\",\n      \"properties\": {\n        \"dtype\": \"number\",\n        \"std\": 0,\n        \"min\": 3,\n        \"max\": 4,\n        \"num_unique_values\": 2,\n        \"samples\": [\n          4,\n          3\n        ],\n        \"semantic_type\": \"\",\n        \"description\": \"\"\n      }\n    },\n    {\n      \"column\": \"Parental_Education_Level\",\n      \"properties\": {\n        \"dtype\": \"number\",\n        \"std\": 0,\n        \"min\": 1,\n        \"max\": 3,\n        \"num_unique_values\": 3,\n        \"samples\": [\n          1,\n          2\n        ],\n        \"semantic_type\": \"\",\n        \"description\": \"\"\n      }\n    },\n    {\n      \"column\": \"Distance_from_Home\",\n      \"properties\": {\n        \"dtype\": \"number\",\n        \"std\": 0,\n        \"min\": 1,\n        \"max\": 2,\n        \"num_unique_values\": 2,\n        \"samples\": [\n          2,\n          1\n        ],\n        \"semantic_type\": \"\",\n        \"description\": \"\"\n      }\n    },\n    {\n      \"column\": \"School_Type_Public\",\n      \"properties\": {\n        \"dtype\": \"number\",\n        \"std\": 0,\n        \"min\": 1,\n        \"max\": 1,\n        \"num_unique_values\": 1,\n        \"samples\": [\n          1\n        ],\n        \"semantic_type\": \"\",\n        \"description\": \"\"\n      }\n    },\n    {\n      \"column\": \"Learning_Disabilities_Yes\",\n      \"properties\": {\n        \"dtype\": \"number\",\n        \"std\": 0,\n        \"min\": 0,\n        \"max\": 0,\n        \"num_unique_values\": 1,\n        \"samples\": [\n          0\n        ],\n        \"semantic_type\": \"\",\n        \"description\": \"\"\n      }\n    }\n  ]\n}"
            }
          },
          "metadata": {}
        }
      ]
    },
    {
      "cell_type": "code",
      "source": [
        "X_train, X_test, y_train, y_test = train_test_split(\n",
        "    X_filtrado, y,\n",
        "    test_size=0.2,       # 80 train - 20 test\n",
        "    stratify=y,          # mantiene proporciones del desbalance\n",
        "    random_state=42\n",
        ")"
      ],
      "metadata": {
        "id": "YDLuA7lYo9iI"
      },
      "execution_count": null,
      "outputs": []
    },
    {
      "cell_type": "code",
      "source": [
        "grid, scores_folds, balanced_acc_final, mcc_final, report, cm, importantes = flujo_clasificacion(tree, param_grid, X_train, X_test, y_train, y_test)"
      ],
      "metadata": {
        "id": "Y8ESsUejoyZF"
      },
      "execution_count": null,
      "outputs": []
    },
    {
      "cell_type": "code",
      "source": [
        "# Evaluacion final del mejor modelo\n",
        "print(\"Evaluación final:\")\n",
        "print(\"Balanced Accuracy:\", round(balanced_acc_final, 4))\n",
        "print(\"Matthews Corrcoef:\", round(mcc_final, 4))\n",
        "print(\"\\nClassification Report:\")\n",
        "print(report)"
      ],
      "metadata": {
        "id": "BSvXW_K_pFId",
        "outputId": "111b5a08-96b3-41e3-b72a-6126a5868acb",
        "colab": {
          "base_uri": "https://localhost:8080/"
        }
      },
      "execution_count": null,
      "outputs": [
        {
          "output_type": "stream",
          "name": "stdout",
          "text": [
            "Evaluación final:\n",
            "Balanced Accuracy: 0.6126\n",
            "Matthews Corrcoef: 0.2565\n",
            "\n",
            "Classification Report:\n",
            "              precision    recall  f1-score   support\n",
            "\n",
            "       False       0.30      0.23      0.26        13\n",
            "        True       0.99      0.99      0.99      1263\n",
            "\n",
            "    accuracy                           0.99      1276\n",
            "   macro avg       0.65      0.61      0.63      1276\n",
            "weighted avg       0.99      0.99      0.99      1276\n",
            "\n"
          ]
        }
      ]
    },
    {
      "cell_type": "markdown",
      "source": [
        "## **Random Forest**"
      ],
      "metadata": {
        "id": "HaCwNrfn6DQi"
      }
    },
    {
      "cell_type": "code",
      "source": [
        "# Modelo base\n",
        "forest = RandomForestClassifier(random_state=42)\n",
        "\n",
        "# Espacio de hiperparámetros para el tuning\n",
        "param_grid = {\n",
        "    'n_estimators': [2, 5, 10, 50, 100], # numero de arboles a realizar\n",
        "    'max_depth': [2, 3, 5, 10, 15, 20, None]\n",
        "}"
      ],
      "metadata": {
        "id": "y6KwBvDmZBE-"
      },
      "execution_count": null,
      "outputs": []
    },
    {
      "cell_type": "code",
      "source": [
        "# Llamado de la función\n",
        "grid, scores_folds, balanced_acc_final, mcc_final, report, cm, importantes = flujo_clasificacion(forest, param_grid, X_train, X_test, y_train, y_test)"
      ],
      "metadata": {
        "id": "uPqeHyT9a-mj"
      },
      "execution_count": null,
      "outputs": []
    },
    {
      "cell_type": "code",
      "source": [
        "# Mejores hiperparametros\n",
        "print(\"Mejores hiperparámetros:\", grid.best_params_)\n",
        "print(\"Mejor balanced accuracy promedio:\", grid.best_score_)"
      ],
      "metadata": {
        "id": "ZcblBCe3bbJE",
        "outputId": "f25a8656-6084-4a8c-8674-4eb0eeb54a1e",
        "colab": {
          "base_uri": "https://localhost:8080/"
        }
      },
      "execution_count": null,
      "outputs": [
        {
          "output_type": "stream",
          "name": "stdout",
          "text": [
            "Mejores hiperparámetros: {'max_depth': 15, 'n_estimators': 2}\n",
            "Mejor balanced accuracy promedio: 0.690474103901966\n"
          ]
        }
      ]
    },
    {
      "cell_type": "code",
      "source": [
        "# Balanced accuracy de cada fold del mejor modelo encontrado\n",
        "print(\"Balanced Accuracy en cada fold del mejor modelo:\")\n",
        "for i, score in enumerate(scores_folds, start=1):\n",
        "    print(f\"Fold {i}: {score:.4f}\")\n",
        "\n",
        "print(\"\\nPromedio:\", scores_folds.mean().round(4), \"| Desviación estándar:\", scores_folds.std().round(4))"
      ],
      "metadata": {
        "id": "L-O_PJb1dQHI",
        "outputId": "b9a1032b-c9d8-487f-b9d9-56bdea1981b3",
        "colab": {
          "base_uri": "https://localhost:8080/"
        }
      },
      "execution_count": null,
      "outputs": [
        {
          "output_type": "stream",
          "name": "stdout",
          "text": [
            "Balanced Accuracy en cada fold del mejor modelo:\n",
            "Fold 1: 0.7179\n",
            "Fold 2: 0.6431\n",
            "Fold 3: 0.7881\n",
            "Fold 4: 0.5850\n",
            "Fold 5: 0.7184\n",
            "\n",
            "Promedio: 0.6905 | Desviación estándar: 0.0699\n"
          ]
        }
      ]
    },
    {
      "cell_type": "code",
      "source": [
        "# Evaluacion final del mejor modelo\n",
        "print(\"Evaluación final:\")\n",
        "print(\"Balanced Accuracy:\", round(balanced_acc_final, 4))\n",
        "print(\"Matthews Corrcoef:\", round(mcc_final, 4))\n",
        "print(\"\\nClassification Report:\")\n",
        "print(report)"
      ],
      "metadata": {
        "id": "5gmlKQ1idaqA",
        "outputId": "529bda43-edb6-4722-c092-b71bbaddc1c5",
        "colab": {
          "base_uri": "https://localhost:8080/"
        }
      },
      "execution_count": null,
      "outputs": [
        {
          "output_type": "stream",
          "name": "stdout",
          "text": [
            "Evaluación final:\n",
            "Balanced Accuracy: 0.6043\n",
            "Matthews Corrcoef: 0.1361\n",
            "\n",
            "Classification Report:\n",
            "              precision    recall  f1-score   support\n",
            "\n",
            "       False       0.10      0.23      0.14        13\n",
            "        True       0.99      0.98      0.98      1263\n",
            "\n",
            "    accuracy                           0.97      1276\n",
            "   macro avg       0.54      0.60      0.56      1276\n",
            "weighted avg       0.98      0.97      0.98      1276\n",
            "\n"
          ]
        }
      ]
    },
    {
      "cell_type": "code",
      "source": [
        "# Creacion de la matriz de confusión\n",
        "disp = ConfusionMatrixDisplay(\n",
        "    confusion_matrix=cm,\n",
        "    display_labels=[\"(0)\", \"(1)\"]\n",
        ")\n",
        "\n",
        "# Graficar\n",
        "fig, ax = plt.subplots(figsize=(5, 5))\n",
        "disp.plot(\n",
        "    cmap=\"Reds\",\n",
        "    values_format=\"d\",\n",
        "    ax=ax\n",
        ")\n",
        "plt.title(\"Matriz de Confusión - Modelo Final\")\n",
        "plt.show()"
      ],
      "metadata": {
        "id": "TOsGw7djdU_2",
        "outputId": "47360be8-04e4-43a5-b1b3-1b7734b64e1c",
        "colab": {
          "base_uri": "https://localhost:8080/",
          "height": 427
        }
      },
      "execution_count": null,
      "outputs": [
        {
          "output_type": "display_data",
          "data": {
            "text/plain": [
              "<Figure size 500x500 with 2 Axes>"
            ],
            "image/png": "[encoded data removed]"
          },
          "metadata": {}
        }
      ]
    },
    {
      "cell_type": "markdown",
      "source": [
        "## **Support Vector Machine** -- EN REVISIÓN"
      ],
      "metadata": {
        "id": "e274OXcj6Ptj"
      }
    },
    {
      "cell_type": "code",
      "source": [
        "# Modelo base\n",
        "svc = SVC()\n",
        "\n",
        "# Definición del grid de hiperparámetros\n",
        "param_grid = {\n",
        "    'kernel': ['rbf', 'poly', 'sigmoid'],  # los kernels que queremos probar\n",
        "}"
      ],
      "metadata": {
        "id": "uXkO32AjdpMw"
      },
      "execution_count": null,
      "outputs": []
    },
    {
      "cell_type": "code",
      "source": [
        "# Llamado de la función\n",
        "grid, scores_folds, balanced_acc_final, mcc_final, report, cm, importantes = flujo_clasificacion(svc, param_grid, X_train, X_test, y_train, y_test)"
      ],
      "metadata": {
        "id": "WyeodE_qeYvR",
        "outputId": "0a4add6a-1a44-4266-d238-c63feafe7981",
        "colab": {
          "base_uri": "https://localhost:8080/"
        }
      },
      "execution_count": null,
      "outputs": [
        {
          "output_type": "stream",
          "name": "stdout",
          "text": [
            "El modelo no tiene un atributo 'feature_importances_'.\n"
          ]
        }
      ]
    },
    {
      "cell_type": "code",
      "source": [
        "# Mejores hiperparametros\n",
        "print(\"Mejores hiperparámetros:\", grid.best_params_)\n",
        "print(\"Mejor balanced accuracy promedio:\", grid.best_score_)"
      ],
      "metadata": {
        "id": "3s38X12wgh7m",
        "outputId": "db4b3459-4c02-44b5-f361-cdd73456de83",
        "colab": {
          "base_uri": "https://localhost:8080/"
        }
      },
      "execution_count": null,
      "outputs": [
        {
          "output_type": "stream",
          "name": "stdout",
          "text": [
            "Mejores hiperparámetros: {'kernel': 'rbf'}\n",
            "Mejor balanced accuracy promedio: 0.5\n"
          ]
        }
      ]
    },
    {
      "cell_type": "code",
      "source": [
        "# Balanced accuracy de cada fold del mejor modelo encontrado\n",
        "print(\"Balanced Accuracy en cada fold del mejor modelo:\")\n",
        "for i, score in enumerate(scores_folds, start=1):\n",
        "    print(f\"Fold {i}: {score:.4f}\")\n",
        "\n",
        "print(\"\\nPromedio:\", scores_folds.mean().round(4), \"| Desviación estándar:\", scores_folds.std().round(4))"
      ],
      "metadata": {
        "id": "0MOJYWkMgmez",
        "outputId": "b8dae83a-ca75-4df6-db85-1a68f6893073",
        "colab": {
          "base_uri": "https://localhost:8080/"
        }
      },
      "execution_count": null,
      "outputs": [
        {
          "output_type": "stream",
          "name": "stdout",
          "text": [
            "Balanced Accuracy en cada fold del mejor modelo:\n",
            "Fold 1: 0.5000\n",
            "Fold 2: 0.5000\n",
            "Fold 3: 0.5000\n",
            "Fold 4: 0.5000\n",
            "Fold 5: 0.5000\n",
            "\n",
            "Promedio: 0.5 | Desviación estándar: 0.0\n"
          ]
        }
      ]
    },
    {
      "cell_type": "code",
      "source": [
        "# Evaluacion final del mejor modelo\n",
        "print(\"Evaluación final:\")\n",
        "print(\"Balanced Accuracy:\", round(balanced_acc_final, 4))\n",
        "print(\"Matthews Corrcoef:\", round(mcc_final, 4))\n",
        "print(\"\\nClassification Report:\")\n",
        "print(report)"
      ],
      "metadata": {
        "id": "4FyrraBHgpj8",
        "outputId": "0bb553d7-b5af-49af-9718-461a48b1d11e",
        "colab": {
          "base_uri": "https://localhost:8080/"
        }
      },
      "execution_count": null,
      "outputs": [
        {
          "output_type": "stream",
          "name": "stdout",
          "text": [
            "Evaluación final:\n",
            "Balanced Accuracy: 0.5\n",
            "Matthews Corrcoef: 0.0\n",
            "\n",
            "Classification Report:\n",
            "              precision    recall  f1-score   support\n",
            "\n",
            "       False       0.00      0.00      0.00        13\n",
            "        True       0.99      1.00      0.99      1263\n",
            "\n",
            "    accuracy                           0.99      1276\n",
            "   macro avg       0.49      0.50      0.50      1276\n",
            "weighted avg       0.98      0.99      0.98      1276\n",
            "\n"
          ]
        }
      ]
    },
    {
      "cell_type": "markdown",
      "source": [
        "# **Umbral de aprobados por puntaje mayor igual a *67***\n",
        "\n",
        "\n",
        "---\n"
      ],
      "metadata": {
        "id": "TZdV7QdBHmuC"
      }
    },
    {
      "cell_type": "code",
      "source": [
        "# Preparacion de del dataset\n",
        "\n",
        "# copia del DataFrame\n",
        "df_60 = df_encoded.copy()\n",
        "\n",
        "# Agregar la columna booleana de aprobados si tiene valor mayor igual a 70\n",
        "df_60['Aprobados'] = df_60['Exam_Score'] >= 67"
      ],
      "metadata": {
        "id": "ILDjKKKE7Dl1"
      },
      "execution_count": null,
      "outputs": []
    },
    {
      "cell_type": "code",
      "source": [
        "# @title Visualización de datos por categoría\n",
        "\n",
        "# Frecuencias por categoría\n",
        "categorias = df_60['Aprobados'].value_counts()\n",
        "\n",
        "# Colores para True y False\n",
        "colores = ['green' if valor else 'red' for valor in categorias.index]\n",
        "\n",
        "etiquetas = ['Aprobados' if valor else 'No Aprobados' for valor in categorias.index]\n",
        "plt.bar(etiquetas, categorias.values, color=colores)\n",
        "\n",
        "# Añadir los valores encima de cada barra\n",
        "for i, v in enumerate(categorias.values):\n",
        "    plt.text(i, v + 50, str(v), ha='center', fontweight='bold')  # el +50 es para que no se superponga\n",
        "\n",
        "# Títulos y etiquetas\n",
        "plt.title('Frecuencia de Aprobados y No Aprobados con un Umbral = 67 ')\n",
        "plt.xlabel('Aprobados_Reprobados')\n",
        "plt.ylabel('Frecuencia')\n",
        "\n",
        "plt.show()"
      ],
      "metadata": {
        "id": "XJP5yhEz7Fia",
        "outputId": "74610ee8-7140-4983-b08c-a9b878ca9bfa",
        "colab": {
          "base_uri": "https://localhost:8080/",
          "height": 472
        }
      },
      "execution_count": null,
      "outputs": [
        {
          "output_type": "display_data",
          "data": {
            "text/plain": [
              "<Figure size 640x480 with 1 Axes>"
            ],
            "image/png": "[encoded data removed]"
          },
          "metadata": {}
        }
      ]
    },
    {
      "cell_type": "markdown",
      "source": [
        "## **Gaussian Bayes**"
      ],
      "metadata": {
        "id": "9VpdhZARIOZA"
      }
    },
    {
      "cell_type": "markdown",
      "source": [
        "## **Decision Tree**"
      ],
      "metadata": {
        "id": "jh3RFM0mISxN"
      }
    },
    {
      "cell_type": "markdown",
      "source": [
        "## **Random Forest**"
      ],
      "metadata": {
        "id": "Wgkso7tLIUZJ"
      }
    },
    {
      "cell_type": "markdown",
      "source": [
        "## **Support Vector Machine**"
      ],
      "metadata": {
        "id": "PylOdAyaIYp4"
      }
    },
    {
      "cell_type": "markdown",
      "source": [
        "# **Umbral de aprobados por puntaje mayor igual a *70***\n",
        "\n",
        "---"
      ],
      "metadata": {
        "id": "mm5xMJJAHpRj"
      }
    },
    {
      "cell_type": "code",
      "source": [
        "# Preparacion de del dataset\n",
        "\n",
        "# copia del DataFrame\n",
        "df_60 = df_encoded.copy()\n",
        "\n",
        "# Agregar la columna booleana de aprobados si tiene valor mayor igual a 70\n",
        "df_60['Aprobados'] = df_60['Exam_Score'] >= 70"
      ],
      "metadata": {
        "id": "YND8jWYR65D6"
      },
      "execution_count": null,
      "outputs": []
    },
    {
      "cell_type": "markdown",
      "source": [
        "aurol"
      ],
      "metadata": {
        "id": "P0Cu4MRjSeHS"
      }
    },
    {
      "cell_type": "code",
      "source": [
        "# @title Visualización de datos por categoría\n",
        "\n",
        "# Frecuencias por categoría\n",
        "categorias = df_60['Aprobados'].value_counts()\n",
        "\n",
        "# Colores para True y False\n",
        "colores = ['green' if valor else 'red' for valor in categorias.index]\n",
        "\n",
        "etiquetas = ['Aprobados' if valor else 'No Aprobados' for valor in categorias.index]\n",
        "plt.bar(etiquetas, categorias.values, color=colores)\n",
        "\n",
        "# Añadir los valores encima de cada barra\n",
        "for i, v in enumerate(categorias.values):\n",
        "    plt.text(i, v + 50, str(v), ha='center', fontweight='bold')  # el +50 es para que no se superponga\n",
        "\n",
        "# Títulos y etiquetas\n",
        "plt.title('Frecuencia de Aprobados y No Aprobados con un Umbral = 70 ')\n",
        "plt.xlabel('Aprobados_Reprobados')\n",
        "plt.ylabel('Frecuencia')\n",
        "\n",
        "plt.show()"
      ],
      "metadata": {
        "id": "oAxT0H3k6-wT",
        "outputId": "48d369a9-7a3b-4af1-ead3-bbe934ed1f35",
        "colab": {
          "base_uri": "https://localhost:8080/",
          "height": 472
        },
        "cellView": "form"
      },
      "execution_count": null,
      "outputs": [
        {
          "output_type": "display_data",
          "data": {
            "text/plain": [
              "<Figure size 640x480 with 1 Axes>"
            ],
            "image/png": "[encoded data removed]"
          },
          "metadata": {}
        }
      ]
    },
    {
      "cell_type": "code",
      "source": [
        "#@title Primera partición de dataset para evaluar y evitar sobre entrenamiento\n",
        "X = df_60.drop(['Exam_Score','Aprobados'], axis=1)\n",
        "y = df_60['Aprobados']\n",
        "\n",
        "# Partición inicial Train/Test\n",
        "X_train, X_test, y_train, y_test = train_test_split(\n",
        "    X, y,\n",
        "    test_size=0.2,       # 80 train - 20 test\n",
        "    stratify=y,          # mantiene proporciones del desbalance\n",
        "    random_state=42\n",
        ")"
      ],
      "metadata": {
        "id": "At_Ba8g3zuSS",
        "cellView": "form"
      },
      "execution_count": null,
      "outputs": []
    },
    {
      "cell_type": "code",
      "source": [
        "# @title Función de clasificación\n",
        "def flujo_clasificacion(modelo, param_grid, X_train, X_test, y_train, y_test):\n",
        "\n",
        "  # Validación cruzada\n",
        "  cv = StratifiedKFold(n_splits=5, shuffle=True, random_state=42)\n",
        "\n",
        "  # Tuning con grid_search\n",
        "  grid = GridSearchCV(\n",
        "      estimator=modelo,\n",
        "      param_grid=param_grid,\n",
        "      cv=cv,\n",
        "      scoring='balanced_accuracy',\n",
        "      n_jobs=-1,\n",
        "      return_train_score=True\n",
        "  )\n",
        "\n",
        "  # Entrenamiento del GridSearch\n",
        "  grid.fit(X_train, y_train)\n",
        "\n",
        "  # Obtención del mejor modelo\n",
        "  mejor_modelo = grid.best_estimator_\n",
        "\n",
        "  # Metricas de cada fold del mejor modelo\n",
        "  scores_folds = cross_val_score(\n",
        "      mejor_modelo, X_train, y_train,\n",
        "      cv=cv,\n",
        "      scoring=make_scorer(balanced_accuracy_score)\n",
        "  )\n",
        "\n",
        "  # Entrenamiento del modelo fina con todo el x_train y evaluar con el test\n",
        "  mejor_modelo.fit(X_train, y_train)\n",
        "  y_pred = mejor_modelo.predict(X_test)\n",
        "\n",
        "  balanced_acc_final = balanced_accuracy_score(y_test, y_pred)\n",
        "  mcc_final = matthews_corrcoef(y_test, y_pred)\n",
        "\n",
        "  # Importancia de columnas\n",
        "  try: # manejo de error para el SVC\n",
        "    importantes = pd.DataFrame({\n",
        "        'Columna': X_train.columns,\n",
        "        'Importancia': mejor_modelo.feature_importances_\n",
        "    })\n",
        "  except AttributeError:\n",
        "    importantes = None\n",
        "    print(\"El modelo no tiene un atributo 'feature_importances_'.\")\n",
        "\n",
        "  # Calcular matriz de confusión\n",
        "  cm = confusion_matrix(y_test, y_pred)\n",
        "\n",
        "  return grid, scores_folds, balanced_acc_final, mcc_final, classification_report(y_test, y_pred, zero_division=0), cm, importantes"
      ],
      "metadata": {
        "cellView": "form",
        "id": "v5yROhVh0EU5"
      },
      "execution_count": null,
      "outputs": []
    },
    {
      "cell_type": "markdown",
      "source": [
        "## **Gaussian Bayes**"
      ],
      "metadata": {
        "id": "BTW-yy4YIO4C"
      }
    },
    {
      "cell_type": "code",
      "source": [
        "# Modelo base\n",
        "model = GaussianNB()\n",
        "\n",
        "# Validación cruzada con StratifiedKFold SOLO CON ENTRENAMIENTOS\n",
        "# Con 5 splits de organizacion\n",
        "cv = StratifiedKFold(n_splits=5, shuffle=True, random_state=42)\n",
        "\n",
        "# Obtencion de los resultados de la validación cruzada con metricas puntuales\n",
        "scores_folds = cross_val_score(\n",
        "    model, X_train, y_train,\n",
        "    cv=cv,\n",
        "    scoring=make_scorer(balanced_accuracy_score)\n",
        ")\n",
        "\n",
        "# Balanced accuracy de cada fold del mejor modelo encontrado\n",
        "print(\"Balanced Accuracy en cada fold del modelo:\")\n",
        "for i, score in enumerate(scores_folds, start=1):\n",
        "    print(f\"Fold {i}: {score:.4f}\")\n",
        "\n",
        "print(\"\\nPromedio:\", scores_folds.mean().round(4), \"| Desviación estándar:\", scores_folds.std().round(4))"
      ],
      "metadata": {
        "id": "s36T2Mf01Cn7",
        "outputId": "9f258995-a3c0-4487-fd89-d2c393b1d85e",
        "colab": {
          "base_uri": "https://localhost:8080/"
        }
      },
      "execution_count": null,
      "outputs": [
        {
          "output_type": "stream",
          "name": "stdout",
          "text": [
            "Balanced Accuracy en cada fold del modelo:\n",
            "Fold 1: 0.8591\n",
            "Fold 2: 0.8547\n",
            "Fold 3: 0.8684\n",
            "Fold 4: 0.8743\n",
            "Fold 5: 0.8841\n",
            "\n",
            "Promedio: 0.8681 | Desviación estándar: 0.0105\n"
          ]
        }
      ]
    },
    {
      "cell_type": "code",
      "source": [
        "# Entrenamiento del modelo fina con todo el x_train y evaluar con el test\n",
        "model.fit(X_train, y_train)\n",
        "y_pred = model.predict(X_test)\n",
        "\n",
        "balanced_acc_final = balanced_accuracy_score(y_test, y_pred)\n",
        "mcc_final = matthews_corrcoef(y_test, y_pred)\n",
        "\n",
        "# Calcular matriz de confusión\n",
        "cm = confusion_matrix(y_test, y_pred)\n",
        "tn, fp, fn, tp = cm.ravel()\n",
        "\n",
        "# Cálculo de especificidad\n",
        "specificity = tn / (tn + fp)\n",
        "\n",
        "# Calculo de precision\n",
        "precision = precision_score(y_test, y_pred)\n",
        "\n",
        "# Evaluacion final\n",
        "print(\"Evaluación final:\")\n",
        "print(\"Balanced Accuracy:\", round(balanced_acc_final, 4))\n",
        "print(\"Matthews Corrcoef:\", round(mcc_final, 4))\n",
        "print(\"\\nEspecificidad:\", round(specificity, 4))\n",
        "print(\"Precision:\", round(precision, 4))\n",
        "print(\"\\nClassification Report:\")\n",
        "print(classification_report(y_test, y_pred))"
      ],
      "metadata": {
        "id": "p4e0hSk-1HAZ",
        "outputId": "88c29e72-db7f-47e2-e6cd-cb01e59b4bb9",
        "colab": {
          "base_uri": "https://localhost:8080/"
        }
      },
      "execution_count": null,
      "outputs": [
        {
          "output_type": "stream",
          "name": "stdout",
          "text": [
            "Evaluación final:\n",
            "Balanced Accuracy: 0.8783\n",
            "Matthews Corrcoef: 0.8029\n",
            "\n",
            "Especificidad: 0.9781\n",
            "Precision: 0.9213\n",
            "\n",
            "Classification Report:\n",
            "              precision    recall  f1-score   support\n",
            "\n",
            "       False       0.93      0.98      0.95       960\n",
            "        True       0.92      0.78      0.84       316\n",
            "\n",
            "    accuracy                           0.93      1276\n",
            "   macro avg       0.93      0.88      0.90      1276\n",
            "weighted avg       0.93      0.93      0.93      1276\n",
            "\n"
          ]
        }
      ]
    },
    {
      "cell_type": "code",
      "source": [
        "# Creacion de la matriz de confusión\n",
        "disp = ConfusionMatrixDisplay(\n",
        "    confusion_matrix=cm,\n",
        "    display_labels=[\"(0)\", \"(1)\"]\n",
        ")\n",
        "\n",
        "# Graficar\n",
        "fig, ax = plt.subplots(figsize=(5, 5))\n",
        "disp.plot(\n",
        "    cmap=\"Reds\",\n",
        "    values_format=\"d\",\n",
        "    ax=ax\n",
        ")\n",
        "plt.title(\"Matriz de Confusión - Modelo Final\")\n",
        "plt.show()"
      ],
      "metadata": {
        "id": "aYiN4MJ91p-W",
        "outputId": "3dcde7fe-2366-40b8-9b50-52b567bfd200",
        "colab": {
          "base_uri": "https://localhost:8080/",
          "height": 427
        }
      },
      "execution_count": null,
      "outputs": [
        {
          "output_type": "display_data",
          "data": {
            "text/plain": [
              "<Figure size 500x500 with 2 Axes>"
            ],
            "image/png": "[encoded data removed]"
          },
          "metadata": {}
        }
      ]
    },
    {
      "cell_type": "markdown",
      "source": [
        "## **Decision Tree**"
      ],
      "metadata": {
        "id": "V_7OpvkSITDA"
      }
    },
    {
      "cell_type": "code",
      "source": [
        "# Modelo base\n",
        "tree = DecisionTreeClassifier(random_state=42)\n",
        "\n",
        "# Espacio de hiperparámetros para el tuning\n",
        "param_grid = {\n",
        "    'max_depth': [1, 2, 3, 5, 7, 10, 20, 30, 50, 100, None]\n",
        "}"
      ],
      "metadata": {
        "id": "43cOS0a43CeR"
      },
      "execution_count": null,
      "outputs": []
    },
    {
      "cell_type": "code",
      "source": [
        "# Llamado de la función\n",
        "grid, scores_folds, balanced_acc_final, mcc_final, report, cm, importantes = flujo_clasificacion(tree, param_grid, X_train, X_test, y_train, y_test)"
      ],
      "metadata": {
        "id": "jw96-gNt3YLI"
      },
      "execution_count": null,
      "outputs": []
    },
    {
      "cell_type": "code",
      "source": [
        "# Mejores hiperparametros\n",
        "print(\"Mejores hiperparámetros:\", grid.best_params_)\n",
        "print(\"Mejor balanced accuracy promedio:\", grid.best_score_)"
      ],
      "metadata": {
        "id": "VTH5KqhQ3hUz",
        "outputId": "9eccd21d-c914-4d96-f880-aad545c453d4",
        "colab": {
          "base_uri": "https://localhost:8080/"
        }
      },
      "execution_count": null,
      "outputs": [
        {
          "output_type": "stream",
          "name": "stdout",
          "text": [
            "Mejores hiperparámetros: {'max_depth': 10}\n",
            "Mejor balanced accuracy promedio: 0.8204017268771207\n"
          ]
        }
      ]
    },
    {
      "cell_type": "code",
      "source": [
        "# Balanced accuracy de cada fold del mejor modelo encontrado\n",
        "print(\"Balanced Accuracy en cada fold del mejor modelo:\")\n",
        "for i, score in enumerate(scores_folds, start=1):\n",
        "    print(f\"Fold {i}: {score:.4f}\")\n",
        "\n",
        "print(\"\\nPromedio:\", scores_folds.mean().round(4), \"| Desviación estándar:\", scores_folds.std().round(4))"
      ],
      "metadata": {
        "id": "uJ_vD-_u39DN",
        "outputId": "44c5d740-4599-41bf-d1e7-46c589a9dd9e",
        "colab": {
          "base_uri": "https://localhost:8080/"
        }
      },
      "execution_count": null,
      "outputs": [
        {
          "output_type": "stream",
          "name": "stdout",
          "text": [
            "Balanced Accuracy en cada fold del mejor modelo:\n",
            "Fold 1: 0.8076\n",
            "Fold 2: 0.8188\n",
            "Fold 3: 0.8192\n",
            "Fold 4: 0.8120\n",
            "Fold 5: 0.8443\n",
            "\n",
            "Promedio: 0.8204 | Desviación estándar: 0.0127\n"
          ]
        }
      ]
    },
    {
      "cell_type": "code",
      "source": [
        "# Evaluacion final del mejor modelo\n",
        "print(\"Evaluación final:\")\n",
        "print(\"Balanced Accuracy:\", round(balanced_acc_final, 4))\n",
        "print(\"Matthews Corrcoef:\", round(mcc_final, 4))\n",
        "print(\"\\nClassification Report:\")\n",
        "print(report)"
      ],
      "metadata": {
        "id": "mrutGmF9398W",
        "outputId": "4d0a092e-1c94-4b30-9637-b85aa5a41ceb",
        "colab": {
          "base_uri": "https://localhost:8080/"
        }
      },
      "execution_count": null,
      "outputs": [
        {
          "output_type": "stream",
          "name": "stdout",
          "text": [
            "Evaluación final:\n",
            "Balanced Accuracy: 0.818\n",
            "Matthews Corrcoef: 0.643\n",
            "\n",
            "Classification Report:\n",
            "              precision    recall  f1-score   support\n",
            "\n",
            "       False       0.91      0.92      0.91       960\n",
            "        True       0.74      0.72      0.73       316\n",
            "\n",
            "    accuracy                           0.87      1276\n",
            "   macro avg       0.83      0.82      0.82      1276\n",
            "weighted avg       0.87      0.87      0.87      1276\n",
            "\n"
          ]
        }
      ]
    },
    {
      "cell_type": "code",
      "source": [
        "# Creacion de la matriz de confusión\n",
        "disp = ConfusionMatrixDisplay(\n",
        "    confusion_matrix=cm,\n",
        "    display_labels=[\"(0)\", \"(1)\"]\n",
        ")\n",
        "\n",
        "# Graficar\n",
        "fig, ax = plt.subplots(figsize=(5, 5))\n",
        "disp.plot(\n",
        "    cmap=\"Reds\",\n",
        "    values_format=\"d\",\n",
        "    ax=ax\n",
        ")\n",
        "plt.title(\"Matriz de Confusión - Modelo Final\")\n",
        "plt.show()"
      ],
      "metadata": {
        "id": "JgsPVQ9Z4n2F",
        "outputId": "20bf3d50-014d-42e9-ea94-eeea16c176a2",
        "colab": {
          "base_uri": "https://localhost:8080/",
          "height": 427
        }
      },
      "execution_count": null,
      "outputs": [
        {
          "output_type": "display_data",
          "data": {
            "text/plain": [
              "<Figure size 500x500 with 2 Axes>"
            ],
            "image/png": "[encoded data removed]"
          },
          "metadata": {}
        }
      ]
    },
    {
      "cell_type": "markdown",
      "source": [
        "###**¿Todas mis columnas son importantes?**"
      ],
      "metadata": {
        "id": "qjRZ5H56415b"
      }
    },
    {
      "cell_type": "code",
      "source": [
        "display(importantes.sort_values(by='Importancia', ascending=False))\n",
        "importantes_copy = importantes.sort_values(by='Importancia', ascending=False).copy()"
      ],
      "metadata": {
        "id": "xbJLqGj84us7",
        "outputId": "a5a49642-b439-48b5-c89d-e744b5a20b6e",
        "colab": {
          "base_uri": "https://localhost:8080/",
          "height": 645
        }
      },
      "execution_count": null,
      "outputs": [
        {
          "output_type": "display_data",
          "data": {
            "text/plain": [
              "                           Columna  Importancia\n",
              "1                       Attendance     0.365878\n",
              "0                    Hours_Studied     0.230316\n",
              "5                  Previous_Scores     0.091561\n",
              "3              Access_to_Resources     0.059863\n",
              "7                Tutoring_Sessions     0.053239\n",
              "2             Parental_Involvement     0.043545\n",
              "12        Parental_Education_Level     0.031610\n",
              "11               Physical_Activity     0.020804\n",
              "10                  Peer_Influence     0.018085\n",
              "13              Distance_from_Home     0.016170\n",
              "9                  Teacher_Quality     0.014488\n",
              "6                 Motivation_Level     0.010470\n",
              "8                    Family_Income     0.010290\n",
              "4                      Sleep_Hours     0.008132\n",
              "18                     Gender_Male     0.007595\n",
              "16              School_Type_Public     0.007032\n",
              "14  Extracurricular_Activities_Yes     0.004850\n",
              "15             Internet_Access_Yes     0.003723\n",
              "17       Learning_Disabilities_Yes     0.002350"
            ],
            "text/html": [
              "\n",
              "  <div id=\"df-5758e0e0-ffef-4466-8c12-3b88ddc30266\" class=\"colab-df-container\">\n",
              "    <div>\n",
              "<style scoped>\n",
              "    .dataframe tbody tr th:only-of-type {\n",
              "        vertical-align: middle;\n",
              "    }\n",
              "\n",
              "    .dataframe tbody tr th {\n",
              "        vertical-align: top;\n",
              "    }\n",
              "\n",
              "    .dataframe thead th {\n",
              "        text-align: right;\n",
              "    }\n",
              "</style>\n",
              "<table border=\"1\" class=\"dataframe\">\n",
              "  <thead>\n",
              "    <tr style=\"text-align: right;\">\n",
              "      <th></th>\n",
              "      <th>Columna</th>\n",
              "      <th>Importancia</th>\n",
              "    </tr>\n",
              "  </thead>\n",
              "  <tbody>\n",
              "    <tr>\n",
              "      <th>1</th>\n",
              "      <td>Attendance</td>\n",
              "      <td>0.365878</td>\n",
              "    </tr>\n",
              "    <tr>\n",
              "      <th>0</th>\n",
              "      <td>Hours_Studied</td>\n",
              "      <td>0.230316</td>\n",
              "    </tr>\n",
              "    <tr>\n",
              "      <th>5</th>\n",
              "      <td>Previous_Scores</td>\n",
              "      <td>0.091561</td>\n",
              "    </tr>\n",
              "    <tr>\n",
              "      <th>3</th>\n",
              "      <td>Access_to_Resources</td>\n",
              "      <td>0.059863</td>\n",
              "    </tr>\n",
              "    <tr>\n",
              "      <th>7</th>\n",
              "      <td>Tutoring_Sessions</td>\n",
              "      <td>0.053239</td>\n",
              "    </tr>\n",
              "    <tr>\n",
              "      <th>2</th>\n",
              "      <td>Parental_Involvement</td>\n",
              "      <td>0.043545</td>\n",
              "    </tr>\n",
              "    <tr>\n",
              "      <th>12</th>\n",
              "      <td>Parental_Education_Level</td>\n",
              "      <td>0.031610</td>\n",
              "    </tr>\n",
              "    <tr>\n",
              "      <th>11</th>\n",
              "      <td>Physical_Activity</td>\n",
              "      <td>0.020804</td>\n",
              "    </tr>\n",
              "    <tr>\n",
              "      <th>10</th>\n",
              "      <td>Peer_Influence</td>\n",
              "      <td>0.018085</td>\n",
              "    </tr>\n",
              "    <tr>\n",
              "      <th>13</th>\n",
              "      <td>Distance_from_Home</td>\n",
              "      <td>0.016170</td>\n",
              "    </tr>\n",
              "    <tr>\n",
              "      <th>9</th>\n",
              "      <td>Teacher_Quality</td>\n",
              "      <td>0.014488</td>\n",
              "    </tr>\n",
              "    <tr>\n",
              "      <th>6</th>\n",
              "      <td>Motivation_Level</td>\n",
              "      <td>0.010470</td>\n",
              "    </tr>\n",
              "    <tr>\n",
              "      <th>8</th>\n",
              "      <td>Family_Income</td>\n",
              "      <td>0.010290</td>\n",
              "    </tr>\n",
              "    <tr>\n",
              "      <th>4</th>\n",
              "      <td>Sleep_Hours</td>\n",
              "      <td>0.008132</td>\n",
              "    </tr>\n",
              "    <tr>\n",
              "      <th>18</th>\n",
              "      <td>Gender_Male</td>\n",
              "      <td>0.007595</td>\n",
              "    </tr>\n",
              "    <tr>\n",
              "      <th>16</th>\n",
              "      <td>School_Type_Public</td>\n",
              "      <td>0.007032</td>\n",
              "    </tr>\n",
              "    <tr>\n",
              "      <th>14</th>\n",
              "      <td>Extracurricular_Activities_Yes</td>\n",
              "      <td>0.004850</td>\n",
              "    </tr>\n",
              "    <tr>\n",
              "      <th>15</th>\n",
              "      <td>Internet_Access_Yes</td>\n",
              "      <td>0.003723</td>\n",
              "    </tr>\n",
              "    <tr>\n",
              "      <th>17</th>\n",
              "      <td>Learning_Disabilities_Yes</td>\n",
              "      <td>0.002350</td>\n",
              "    </tr>\n",
              "  </tbody>\n",
              "</table>\n",
              "</div>\n",
              "    <div class=\"colab-df-buttons\">\n",
              "\n",
              "  <div class=\"colab-df-container\">\n",
              "    <button class=\"colab-df-convert\" onclick=\"convertToInteractive('df-5758e0e0-ffef-4466-8c12-3b88ddc30266')\"\n",
              "            title=\"Convert this dataframe to an interactive table.\"\n",
              "            style=\"display:none;\">\n",
              "\n",
              "  <svg xmlns=\"http://www.w3.org/2000/svg\" height=\"24px\" viewBox=\"0 -960 960 960\">\n",
              "    <path d=\"M120-120v-720h720v720H120Zm60-500h600v-160H180v160Zm220 220h160v-160H400v160Zm0 220h160v-160H400v160ZM180-400h160v-160H180v160Zm440 0h160v-160H620v160ZM180-180h160v-160H180v160Zm440 0h160v-160H620v160Z\"/>\n",
              "  </svg>\n",
              "    </button>\n",
              "\n",
              "  <style>\n",
              "    .colab-df-container {\n",
              "      display:flex;\n",
              "      gap: 12px;\n",
              "    }\n",
              "\n",
              "    .colab-df-convert {\n",
              "      background-color: #E8F0FE;\n",
              "      border: none;\n",
              "      border-radius: 50%;\n",
              "      cursor: pointer;\n",
              "      display: none;\n",
              "      fill: #1967D2;\n",
              "      height: 32px;\n",
              "      padding: 0 0 0 0;\n",
              "      width: 32px;\n",
              "    }\n",
              "\n",
              "    .colab-df-convert:hover {\n",
              "      background-color: #E2EBFA;\n",
              "      box-shadow: 0px 1px 2px rgba(60, 64, 67, 0.3), 0px 1px 3px 1px rgba(60, 64, 67, 0.15);\n",
              "      fill: #174EA6;\n",
              "    }\n",
              "\n",
              "    .colab-df-buttons div {\n",
              "      margin-bottom: 4px;\n",
              "    }\n",
              "\n",
              "    [theme=dark] .colab-df-convert {\n",
              "      background-color: #3B4455;\n",
              "      fill: #D2E3FC;\n",
              "    }\n",
              "\n",
              "    [theme=dark] .colab-df-convert:hover {\n",
              "      background-color: #434B5C;\n",
              "      box-shadow: 0px 1px 3px 1px rgba(0, 0, 0, 0.15);\n",
              "      filter: drop-shadow(0px 1px 2px rgba(0, 0, 0, 0.3));\n",
              "      fill: #FFFFFF;\n",
              "    }\n",
              "  </style>\n",
              "\n",
              "    <script>\n",
              "      const buttonEl =\n",
              "        document.querySelector('#df-5758e0e0-ffef-4466-8c12-3b88ddc30266 button.colab-df-convert');\n",
              "      buttonEl.style.display =\n",
              "        google.colab.kernel.accessAllowed ? 'block' : 'none';\n",
              "\n",
              "      async function convertToInteractive(key) {\n",
              "        const element = document.querySelector('#df-5758e0e0-ffef-4466-8c12-3b88ddc30266');\n",
              "        const dataTable =\n",
              "          await google.colab.kernel.invokeFunction('convertToInteractive',\n",
              "                                                    [key], {});\n",
              "        if (!dataTable) return;\n",
              "\n",
              "        const docLinkHtml = 'Like what you see? Visit the ' +\n",
              "          '<a target=\"_blank\" href=https://colab.research.google.com/notebooks/data_table.ipynb>data table notebook</a>'\n",
              "          + ' to learn more about interactive tables.';\n",
              "        element.innerHTML = '';\n",
              "        dataTable['output_type'] = 'display_data';\n",
              "        await google.colab.output.renderOutput(dataTable, element);\n",
              "        const docLink = document.createElement('div');\n",
              "        docLink.innerHTML = docLinkHtml;\n",
              "        element.appendChild(docLink);\n",
              "      }\n",
              "    </script>\n",
              "  </div>\n",
              "\n",
              "\n",
              "    <div id=\"df-d03cd556-ef12-49bc-9d00-a440b1e06f92\">\n",
              "      <button class=\"colab-df-quickchart\" onclick=\"quickchart('df-d03cd556-ef12-49bc-9d00-a440b1e06f92')\"\n",
              "                title=\"Suggest charts\"\n",
              "                style=\"display:none;\">\n",
              "\n",
              "<svg xmlns=\"http://www.w3.org/2000/svg\" height=\"24px\"viewBox=\"0 0 24 24\"\n",
              "     width=\"24px\">\n",
              "    <g>\n",
              "        <path d=\"M19 3H5c-1.1 0-2 .9-2 2v14c0 1.1.9 2 2 2h14c1.1 0 2-.9 2-2V5c0-1.1-.9-2-2-2zM9 17H7v-7h2v7zm4 0h-2V7h2v10zm4 0h-2v-4h2v4z\"/>\n",
              "    </g>\n",
              "</svg>\n",
              "      </button>\n",
              "\n",
              "<style>\n",
              "  .colab-df-quickchart {\n",
              "      --bg-color: #E8F0FE;\n",
              "      --fill-color: #1967D2;\n",
              "      --hover-bg-color: #E2EBFA;\n",
              "      --hover-fill-color: #174EA6;\n",
              "      --disabled-fill-color: #AAA;\n",
              "      --disabled-bg-color: #DDD;\n",
              "  }\n",
              "\n",
              "  [theme=dark] .colab-df-quickchart {\n",
              "      --bg-color: #3B4455;\n",
              "      --fill-color: #D2E3FC;\n",
              "      --hover-bg-color: #434B5C;\n",
              "      --hover-fill-color: #FFFFFF;\n",
              "      --disabled-bg-color: #3B4455;\n",
              "      --disabled-fill-color: #666;\n",
              "  }\n",
              "\n",
              "  .colab-df-quickchart {\n",
              "    background-color: var(--bg-color);\n",
              "    border: none;\n",
              "    border-radius: 50%;\n",
              "    cursor: pointer;\n",
              "    display: none;\n",
              "    fill: var(--fill-color);\n",
              "    height: 32px;\n",
              "    padding: 0;\n",
              "    width: 32px;\n",
              "  }\n",
              "\n",
              "  .colab-df-quickchart:hover {\n",
              "    background-color: var(--hover-bg-color);\n",
              "    box-shadow: 0 1px 2px rgba(60, 64, 67, 0.3), 0 1px 3px 1px rgba(60, 64, 67, 0.15);\n",
              "    fill: var(--button-hover-fill-color);\n",
              "  }\n",
              "\n",
              "  .colab-df-quickchart-complete:disabled,\n",
              "  .colab-df-quickchart-complete:disabled:hover {\n",
              "    background-color: var(--disabled-bg-color);\n",
              "    fill: var(--disabled-fill-color);\n",
              "    box-shadow: none;\n",
              "  }\n",
              "\n",
              "  .colab-df-spinner {\n",
              "    border: 2px solid var(--fill-color);\n",
              "    border-color: transparent;\n",
              "    border-bottom-color: var(--fill-color);\n",
              "    animation:\n",
              "      spin 1s steps(1) infinite;\n",
              "  }\n",
              "\n",
              "  @keyframes spin {\n",
              "    0% {\n",
              "      border-color: transparent;\n",
              "      border-bottom-color: var(--fill-color);\n",
              "      border-left-color: var(--fill-color);\n",
              "    }\n",
              "    20% {\n",
              "      border-color: transparent;\n",
              "      border-left-color: var(--fill-color);\n",
              "      border-top-color: var(--fill-color);\n",
              "    }\n",
              "    30% {\n",
              "      border-color: transparent;\n",
              "      border-left-color: var(--fill-color);\n",
              "      border-top-color: var(--fill-color);\n",
              "      border-right-color: var(--fill-color);\n",
              "    }\n",
              "    40% {\n",
              "      border-color: transparent;\n",
              "      border-right-color: var(--fill-color);\n",
              "      border-top-color: var(--fill-color);\n",
              "    }\n",
              "    60% {\n",
              "      border-color: transparent;\n",
              "      border-right-color: var(--fill-color);\n",
              "    }\n",
              "    80% {\n",
              "      border-color: transparent;\n",
              "      border-right-color: var(--fill-color);\n",
              "      border-bottom-color: var(--fill-color);\n",
              "    }\n",
              "    90% {\n",
              "      border-color: transparent;\n",
              "      border-bottom-color: var(--fill-color);\n",
              "    }\n",
              "  }\n",
              "</style>\n",
              "\n",
              "      <script>\n",
              "        async function quickchart(key) {\n",
              "          const quickchartButtonEl =\n",
              "            document.querySelector('#' + key + ' button');\n",
              "          quickchartButtonEl.disabled = true;  // To prevent multiple clicks.\n",
              "          quickchartButtonEl.classList.add('colab-df-spinner');\n",
              "          try {\n",
              "            const charts = await google.colab.kernel.invokeFunction(\n",
              "                'suggestCharts', [key], {});\n",
              "          } catch (error) {\n",
              "            console.error('Error during call to suggestCharts:', error);\n",
              "          }\n",
              "          quickchartButtonEl.classList.remove('colab-df-spinner');\n",
              "          quickchartButtonEl.classList.add('colab-df-quickchart-complete');\n",
              "        }\n",
              "        (() => {\n",
              "          let quickchartButtonEl =\n",
              "            document.querySelector('#df-d03cd556-ef12-49bc-9d00-a440b1e06f92 button');\n",
              "          quickchartButtonEl.style.display =\n",
              "            google.colab.kernel.accessAllowed ? 'block' : 'none';\n",
              "        })();\n",
              "      </script>\n",
              "    </div>\n",
              "\n",
              "    </div>\n",
              "  </div>\n"
            ],
            "application/vnd.google.colaboratory.intrinsic+json": {
              "type": "dataframe",
              "summary": "{\n  \"name\": \"importantes_copy = importantes\",\n  \"rows\": 19,\n  \"fields\": [\n    {\n      \"column\": \"Columna\",\n      \"properties\": {\n        \"dtype\": \"string\",\n        \"num_unique_values\": 19,\n        \"samples\": [\n          \"Attendance\",\n          \"Parental_Involvement\",\n          \"Motivation_Level\"\n        ],\n        \"semantic_type\": \"\",\n        \"description\": \"\"\n      }\n    },\n    {\n      \"column\": \"Importancia\",\n      \"properties\": {\n        \"dtype\": \"number\",\n        \"std\": 0.09238801490758439,\n        \"min\": 0.0023499098779222434,\n        \"max\": 0.3658777972960896,\n        \"num_unique_values\": 19,\n        \"samples\": [\n          0.3658777972960896,\n          0.043544799477313066,\n          0.010470103297481355\n        ],\n        \"semantic_type\": \"\",\n        \"description\": \"\"\n      }\n    }\n  ]\n}"
            }
          },
          "metadata": {}
        }
      ]
    },
    {
      "cell_type": "code",
      "source": [
        "# Rango ajustable\n",
        "min_importancia = 0.03 # valor mínimo\n",
        "\n",
        "# Filtrado las columnas dentro del rango\n",
        "features_filtradas = importantes_copy[\n",
        "    (importantes_copy[\"Importancia\"] >= min_importancia)\n",
        "][\"Columna\"]\n",
        "\n",
        "# Filtrado el dataset original X\n",
        "X_filtrado = X[features_filtradas].copy()\n",
        "\n",
        "display(X_filtrado.info())"
      ],
      "metadata": {
        "id": "J73jnjBS5C5F",
        "outputId": "19636c8f-ee7e-4dd1-f3f7-c7690e959d3e",
        "colab": {
          "base_uri": "https://localhost:8080/",
          "height": 277
        }
      },
      "execution_count": null,
      "outputs": [
        {
          "output_type": "stream",
          "name": "stdout",
          "text": [
            "<class 'pandas.core.frame.DataFrame'>\n",
            "Index: 6377 entries, 0 to 6606\n",
            "Data columns (total 7 columns):\n",
            " #   Column                    Non-Null Count  Dtype\n",
            "---  ------                    --------------  -----\n",
            " 0   Attendance                6377 non-null   int64\n",
            " 1   Hours_Studied             6377 non-null   int64\n",
            " 2   Previous_Scores           6377 non-null   int64\n",
            " 3   Access_to_Resources       6377 non-null   int64\n",
            " 4   Tutoring_Sessions         6377 non-null   int64\n",
            " 5   Parental_Involvement      6377 non-null   int64\n",
            " 6   Parental_Education_Level  6377 non-null   int64\n",
            "dtypes: int64(7)\n",
            "memory usage: 398.6 KB\n"
          ]
        },
        {
          "output_type": "display_data",
          "data": {
            "text/plain": [
              "None"
            ]
          },
          "metadata": {}
        }
      ]
    },
    {
      "cell_type": "code",
      "source": [
        "X_train, X_test, y_train, y_test = train_test_split(\n",
        "    X_filtrado, y,\n",
        "    test_size=0.1,       # 80 train - 20 test\n",
        "    stratify=y,          # mantiene proporciones del desbalance\n",
        "    random_state=42\n",
        ")"
      ],
      "metadata": {
        "id": "uvWY4YhM5YgI"
      },
      "execution_count": null,
      "outputs": []
    },
    {
      "cell_type": "code",
      "source": [
        "grid, scores_folds, balanced_acc_final, mcc_final, report, cm, importantes_2 = flujo_clasificacion(tree, param_grid, X_train, X_test, y_train, y_test)"
      ],
      "metadata": {
        "id": "PpRVQ0WV5ZIY"
      },
      "execution_count": null,
      "outputs": []
    },
    {
      "cell_type": "code",
      "source": [
        "# Evaluacion final del mejor modelo\n",
        "print(\"Evaluación final:\")\n",
        "print(\"Balanced Accuracy:\", round(balanced_acc_final, 4))\n",
        "print(\"Matthews Corrcoef:\", round(mcc_final, 4))\n",
        "print(\"\\nClassification Report:\")\n",
        "print(report)"
      ],
      "metadata": {
        "id": "GYcrFlol5dfU",
        "outputId": "4c1c5804-e067-491d-f5bb-de7aa78dde6c",
        "colab": {
          "base_uri": "https://localhost:8080/"
        }
      },
      "execution_count": null,
      "outputs": [
        {
          "output_type": "stream",
          "name": "stdout",
          "text": [
            "Evaluación final:\n",
            "Balanced Accuracy: 0.8392\n",
            "Matthews Corrcoef: 0.6713\n",
            "\n",
            "Classification Report:\n",
            "              precision    recall  f1-score   support\n",
            "\n",
            "       False       0.92      0.91      0.92       480\n",
            "        True       0.74      0.77      0.75       158\n",
            "\n",
            "    accuracy                           0.88       638\n",
            "   macro avg       0.83      0.84      0.84       638\n",
            "weighted avg       0.88      0.88      0.88       638\n",
            "\n"
          ]
        }
      ]
    },
    {
      "cell_type": "markdown",
      "source": [
        "## **Random Forest**"
      ],
      "metadata": {
        "id": "aCrTQVBkIawA"
      }
    },
    {
      "cell_type": "code",
      "source": [
        "# Modelo base\n",
        "forest = RandomForestClassifier(random_state=42)\n",
        "\n",
        "# Espacio de hiperparámetros para el tuning\n",
        "param_grid = {\n",
        "    'n_estimators': [2, 5, 10, 50, 100], # numero de arboles a realizar\n",
        "    'max_depth': [2, 3, 5, 10, 15, 20, None]\n",
        "}"
      ],
      "metadata": {
        "id": "cJzp-kL5AY1Z"
      },
      "execution_count": null,
      "outputs": []
    },
    {
      "cell_type": "code",
      "source": [
        "# Llamado de la función\n",
        "grid, scores_folds, balanced_acc_final, mcc_final, report, cm, importantes = flujo_clasificacion(forest, param_grid, X_train, X_test, y_train, y_test)"
      ],
      "metadata": {
        "id": "q6TuRai6AjNS"
      },
      "execution_count": null,
      "outputs": []
    },
    {
      "cell_type": "code",
      "source": [
        "# Mejores hiperparametros\n",
        "print(\"Mejores hiperparámetros:\", grid.best_params_)\n",
        "print(\"Mejor balanced accuracy promedio:\", grid.best_score_)"
      ],
      "metadata": {
        "id": "K3wluYiVAmHF",
        "outputId": "23a1ab77-9cac-4fd4-8ae0-20c0af7ac228",
        "colab": {
          "base_uri": "https://localhost:8080/"
        }
      },
      "execution_count": null,
      "outputs": [
        {
          "output_type": "stream",
          "name": "stdout",
          "text": [
            "Mejores hiperparámetros: {'max_depth': 20, 'n_estimators': 100}\n",
            "Mejor balanced accuracy promedio: 0.8476708634659882\n"
          ]
        }
      ]
    },
    {
      "cell_type": "code",
      "source": [
        "# Balanced accuracy de cada fold del mejor modelo encontrado\n",
        "print(\"Balanced Accuracy en cada fold del mejor modelo:\")\n",
        "for i, score in enumerate(scores_folds, start=1):\n",
        "    print(f\"Fold {i}: {score:.4f}\")\n",
        "\n",
        "print(\"\\nPromedio:\", scores_folds.mean().round(4), \"| Desviación estándar:\", scores_folds.std().round(4))"
      ],
      "metadata": {
        "id": "rUsVVyKLAp-N",
        "outputId": "d3712ff7-6eed-485b-bad2-e84362646551",
        "colab": {
          "base_uri": "https://localhost:8080/"
        }
      },
      "execution_count": null,
      "outputs": [
        {
          "output_type": "stream",
          "name": "stdout",
          "text": [
            "Balanced Accuracy en cada fold del mejor modelo:\n",
            "Fold 1: 0.8255\n",
            "Fold 2: 0.8335\n",
            "Fold 3: 0.8690\n",
            "Fold 4: 0.8381\n",
            "Fold 5: 0.8723\n",
            "\n",
            "Promedio: 0.8477 | Desviación estándar: 0.0192\n"
          ]
        }
      ]
    },
    {
      "cell_type": "code",
      "source": [
        "# Evaluacion final del mejor modelo\n",
        "print(\"Evaluación final:\")\n",
        "print(\"Balanced Accuracy:\", round(balanced_acc_final, 4))\n",
        "print(\"Matthews Corrcoef:\", round(mcc_final, 4))\n",
        "print(\"\\nClassification Report:\")\n",
        "print(report)"
      ],
      "metadata": {
        "id": "ROvUCYShAtXa",
        "outputId": "7128034b-2c56-44d8-9068-1022e8fc9003",
        "colab": {
          "base_uri": "https://localhost:8080/"
        }
      },
      "execution_count": null,
      "outputs": [
        {
          "output_type": "stream",
          "name": "stdout",
          "text": [
            "Evaluación final:\n",
            "Balanced Accuracy: 0.854\n",
            "Matthews Corrcoef: 0.7712\n",
            "\n",
            "Classification Report:\n",
            "              precision    recall  f1-score   support\n",
            "\n",
            "       False       0.92      0.98      0.95       960\n",
            "        True       0.92      0.73      0.81       316\n",
            "\n",
            "    accuracy                           0.92      1276\n",
            "   macro avg       0.92      0.85      0.88      1276\n",
            "weighted avg       0.92      0.92      0.91      1276\n",
            "\n"
          ]
        }
      ]
    },
    {
      "cell_type": "code",
      "source": [
        "# Creacion de la matriz de confusión\n",
        "disp = ConfusionMatrixDisplay(\n",
        "    confusion_matrix=cm,\n",
        "    display_labels=[\"(0)\", \"(1)\"]\n",
        ")\n",
        "\n",
        "# Graficar\n",
        "fig, ax = plt.subplots(figsize=(5, 5))\n",
        "disp.plot(\n",
        "    cmap=\"Reds\",\n",
        "    values_format=\"d\",\n",
        "    ax=ax\n",
        ")\n",
        "plt.title(\"Matriz de Confusión - Modelo Final\")\n",
        "plt.show()"
      ],
      "metadata": {
        "id": "BA4cC3pLA889",
        "outputId": "25883706-932f-4157-acfd-ced12a4662a4",
        "colab": {
          "base_uri": "https://localhost:8080/",
          "height": 427
        }
      },
      "execution_count": null,
      "outputs": [
        {
          "output_type": "display_data",
          "data": {
            "text/plain": [
              "<Figure size 500x500 with 2 Axes>"
            ],
            "image/png": "[encoded data removed]"
          },
          "metadata": {}
        }
      ]
    },
    {
      "cell_type": "markdown",
      "source": [
        "###**¿Todas mis columnas son importantes?**"
      ],
      "metadata": {
        "id": "2CtiNpz1BuOV"
      }
    },
    {
      "cell_type": "code",
      "source": [
        "display(importantes.sort_values(by='Importancia', ascending=False))\n",
        "importantes_copy = importantes.sort_values(by='Importancia', ascending=False).copy()"
      ],
      "metadata": {
        "id": "9-JRi4WZBt2Y",
        "outputId": "d9f8596a-3276-4dbc-9191-820d57c1ff2c",
        "colab": {
          "base_uri": "https://localhost:8080/",
          "height": 645
        }
      },
      "execution_count": null,
      "outputs": [
        {
          "output_type": "display_data",
          "data": {
            "text/plain": [
              "                           Columna  Importancia\n",
              "1                       Attendance     0.333274\n",
              "0                    Hours_Studied     0.208047\n",
              "5                  Previous_Scores     0.087303\n",
              "7                Tutoring_Sessions     0.040854\n",
              "3              Access_to_Resources     0.040728\n",
              "4                      Sleep_Hours     0.035892\n",
              "2             Parental_Involvement     0.031975\n",
              "11               Physical_Activity     0.030916\n",
              "12        Parental_Education_Level     0.025397\n",
              "8                    Family_Income     0.024935\n",
              "10                  Peer_Influence     0.024329\n",
              "6                 Motivation_Level     0.023523\n",
              "13              Distance_from_Home     0.020329\n",
              "9                  Teacher_Quality     0.019118\n",
              "14  Extracurricular_Activities_Yes     0.013610\n",
              "18                     Gender_Male     0.012438\n",
              "16              School_Type_Public     0.011296\n",
              "17       Learning_Disabilities_Yes     0.008538\n",
              "15             Internet_Access_Yes     0.007497"
            ],
            "text/html": [
              "\n",
              "  <div id=\"df-b731de79-7918-4c03-b160-2e76a0879b06\" class=\"colab-df-container\">\n",
              "    <div>\n",
              "<style scoped>\n",
              "    .dataframe tbody tr th:only-of-type {\n",
              "        vertical-align: middle;\n",
              "    }\n",
              "\n",
              "    .dataframe tbody tr th {\n",
              "        vertical-align: top;\n",
              "    }\n",
              "\n",
              "    .dataframe thead th {\n",
              "        text-align: right;\n",
              "    }\n",
              "</style>\n",
              "<table border=\"1\" class=\"dataframe\">\n",
              "  <thead>\n",
              "    <tr style=\"text-align: right;\">\n",
              "      <th></th>\n",
              "      <th>Columna</th>\n",
              "      <th>Importancia</th>\n",
              "    </tr>\n",
              "  </thead>\n",
              "  <tbody>\n",
              "    <tr>\n",
              "      <th>1</th>\n",
              "      <td>Attendance</td>\n",
              "      <td>0.333274</td>\n",
              "    </tr>\n",
              "    <tr>\n",
              "      <th>0</th>\n",
              "      <td>Hours_Studied</td>\n",
              "      <td>0.208047</td>\n",
              "    </tr>\n",
              "    <tr>\n",
              "      <th>5</th>\n",
              "      <td>Previous_Scores</td>\n",
              "      <td>0.087303</td>\n",
              "    </tr>\n",
              "    <tr>\n",
              "      <th>7</th>\n",
              "      <td>Tutoring_Sessions</td>\n",
              "      <td>0.040854</td>\n",
              "    </tr>\n",
              "    <tr>\n",
              "      <th>3</th>\n",
              "      <td>Access_to_Resources</td>\n",
              "      <td>0.040728</td>\n",
              "    </tr>\n",
              "    <tr>\n",
              "      <th>4</th>\n",
              "      <td>Sleep_Hours</td>\n",
              "      <td>0.035892</td>\n",
              "    </tr>\n",
              "    <tr>\n",
              "      <th>2</th>\n",
              "      <td>Parental_Involvement</td>\n",
              "      <td>0.031975</td>\n",
              "    </tr>\n",
              "    <tr>\n",
              "      <th>11</th>\n",
              "      <td>Physical_Activity</td>\n",
              "      <td>0.030916</td>\n",
              "    </tr>\n",
              "    <tr>\n",
              "      <th>12</th>\n",
              "      <td>Parental_Education_Level</td>\n",
              "      <td>0.025397</td>\n",
              "    </tr>\n",
              "    <tr>\n",
              "      <th>8</th>\n",
              "      <td>Family_Income</td>\n",
              "      <td>0.024935</td>\n",
              "    </tr>\n",
              "    <tr>\n",
              "      <th>10</th>\n",
              "      <td>Peer_Influence</td>\n",
              "      <td>0.024329</td>\n",
              "    </tr>\n",
              "    <tr>\n",
              "      <th>6</th>\n",
              "      <td>Motivation_Level</td>\n",
              "      <td>0.023523</td>\n",
              "    </tr>\n",
              "    <tr>\n",
              "      <th>13</th>\n",
              "      <td>Distance_from_Home</td>\n",
              "      <td>0.020329</td>\n",
              "    </tr>\n",
              "    <tr>\n",
              "      <th>9</th>\n",
              "      <td>Teacher_Quality</td>\n",
              "      <td>0.019118</td>\n",
              "    </tr>\n",
              "    <tr>\n",
              "      <th>14</th>\n",
              "      <td>Extracurricular_Activities_Yes</td>\n",
              "      <td>0.013610</td>\n",
              "    </tr>\n",
              "    <tr>\n",
              "      <th>18</th>\n",
              "      <td>Gender_Male</td>\n",
              "      <td>0.012438</td>\n",
              "    </tr>\n",
              "    <tr>\n",
              "      <th>16</th>\n",
              "      <td>School_Type_Public</td>\n",
              "      <td>0.011296</td>\n",
              "    </tr>\n",
              "    <tr>\n",
              "      <th>17</th>\n",
              "      <td>Learning_Disabilities_Yes</td>\n",
              "      <td>0.008538</td>\n",
              "    </tr>\n",
              "    <tr>\n",
              "      <th>15</th>\n",
              "      <td>Internet_Access_Yes</td>\n",
              "      <td>0.007497</td>\n",
              "    </tr>\n",
              "  </tbody>\n",
              "</table>\n",
              "</div>\n",
              "    <div class=\"colab-df-buttons\">\n",
              "\n",
              "  <div class=\"colab-df-container\">\n",
              "    <button class=\"colab-df-convert\" onclick=\"convertToInteractive('df-b731de79-7918-4c03-b160-2e76a0879b06')\"\n",
              "            title=\"Convert this dataframe to an interactive table.\"\n",
              "            style=\"display:none;\">\n",
              "\n",
              "  <svg xmlns=\"http://www.w3.org/2000/svg\" height=\"24px\" viewBox=\"0 -960 960 960\">\n",
              "    <path d=\"M120-120v-720h720v720H120Zm60-500h600v-160H180v160Zm220 220h160v-160H400v160Zm0 220h160v-160H400v160ZM180-400h160v-160H180v160Zm440 0h160v-160H620v160ZM180-180h160v-160H180v160Zm440 0h160v-160H620v160Z\"/>\n",
              "  </svg>\n",
              "    </button>\n",
              "\n",
              "  <style>\n",
              "    .colab-df-container {\n",
              "      display:flex;\n",
              "      gap: 12px;\n",
              "    }\n",
              "\n",
              "    .colab-df-convert {\n",
              "      background-color: #E8F0FE;\n",
              "      border: none;\n",
              "      border-radius: 50%;\n",
              "      cursor: pointer;\n",
              "      display: none;\n",
              "      fill: #1967D2;\n",
              "      height: 32px;\n",
              "      padding: 0 0 0 0;\n",
              "      width: 32px;\n",
              "    }\n",
              "\n",
              "    .colab-df-convert:hover {\n",
              "      background-color: #E2EBFA;\n",
              "      box-shadow: 0px 1px 2px rgba(60, 64, 67, 0.3), 0px 1px 3px 1px rgba(60, 64, 67, 0.15);\n",
              "      fill: #174EA6;\n",
              "    }\n",
              "\n",
              "    .colab-df-buttons div {\n",
              "      margin-bottom: 4px;\n",
              "    }\n",
              "\n",
              "    [theme=dark] .colab-df-convert {\n",
              "      background-color: #3B4455;\n",
              "      fill: #D2E3FC;\n",
              "    }\n",
              "\n",
              "    [theme=dark] .colab-df-convert:hover {\n",
              "      background-color: #434B5C;\n",
              "      box-shadow: 0px 1px 3px 1px rgba(0, 0, 0, 0.15);\n",
              "      filter: drop-shadow(0px 1px 2px rgba(0, 0, 0, 0.3));\n",
              "      fill: #FFFFFF;\n",
              "    }\n",
              "  </style>\n",
              "\n",
              "    <script>\n",
              "      const buttonEl =\n",
              "        document.querySelector('#df-b731de79-7918-4c03-b160-2e76a0879b06 button.colab-df-convert');\n",
              "      buttonEl.style.display =\n",
              "        google.colab.kernel.accessAllowed ? 'block' : 'none';\n",
              "\n",
              "      async function convertToInteractive(key) {\n",
              "        const element = document.querySelector('#df-b731de79-7918-4c03-b160-2e76a0879b06');\n",
              "        const dataTable =\n",
              "          await google.colab.kernel.invokeFunction('convertToInteractive',\n",
              "                                                    [key], {});\n",
              "        if (!dataTable) return;\n",
              "\n",
              "        const docLinkHtml = 'Like what you see? Visit the ' +\n",
              "          '<a target=\"_blank\" href=https://colab.research.google.com/notebooks/data_table.ipynb>data table notebook</a>'\n",
              "          + ' to learn more about interactive tables.';\n",
              "        element.innerHTML = '';\n",
              "        dataTable['output_type'] = 'display_data';\n",
              "        await google.colab.output.renderOutput(dataTable, element);\n",
              "        const docLink = document.createElement('div');\n",
              "        docLink.innerHTML = docLinkHtml;\n",
              "        element.appendChild(docLink);\n",
              "      }\n",
              "    </script>\n",
              "  </div>\n",
              "\n",
              "\n",
              "    <div id=\"df-ed89cf2d-4daf-40e0-9ddd-37001e7c8c6c\">\n",
              "      <button class=\"colab-df-quickchart\" onclick=\"quickchart('df-ed89cf2d-4daf-40e0-9ddd-37001e7c8c6c')\"\n",
              "                title=\"Suggest charts\"\n",
              "                style=\"display:none;\">\n",
              "\n",
              "<svg xmlns=\"http://www.w3.org/2000/svg\" height=\"24px\"viewBox=\"0 0 24 24\"\n",
              "     width=\"24px\">\n",
              "    <g>\n",
              "        <path d=\"M19 3H5c-1.1 0-2 .9-2 2v14c0 1.1.9 2 2 2h14c1.1 0 2-.9 2-2V5c0-1.1-.9-2-2-2zM9 17H7v-7h2v7zm4 0h-2V7h2v10zm4 0h-2v-4h2v4z\"/>\n",
              "    </g>\n",
              "</svg>\n",
              "      </button>\n",
              "\n",
              "<style>\n",
              "  .colab-df-quickchart {\n",
              "      --bg-color: #E8F0FE;\n",
              "      --fill-color: #1967D2;\n",
              "      --hover-bg-color: #E2EBFA;\n",
              "      --hover-fill-color: #174EA6;\n",
              "      --disabled-fill-color: #AAA;\n",
              "      --disabled-bg-color: #DDD;\n",
              "  }\n",
              "\n",
              "  [theme=dark] .colab-df-quickchart {\n",
              "      --bg-color: #3B4455;\n",
              "      --fill-color: #D2E3FC;\n",
              "      --hover-bg-color: #434B5C;\n",
              "      --hover-fill-color: #FFFFFF;\n",
              "      --disabled-bg-color: #3B4455;\n",
              "      --disabled-fill-color: #666;\n",
              "  }\n",
              "\n",
              "  .colab-df-quickchart {\n",
              "    background-color: var(--bg-color);\n",
              "    border: none;\n",
              "    border-radius: 50%;\n",
              "    cursor: pointer;\n",
              "    display: none;\n",
              "    fill: var(--fill-color);\n",
              "    height: 32px;\n",
              "    padding: 0;\n",
              "    width: 32px;\n",
              "  }\n",
              "\n",
              "  .colab-df-quickchart:hover {\n",
              "    background-color: var(--hover-bg-color);\n",
              "    box-shadow: 0 1px 2px rgba(60, 64, 67, 0.3), 0 1px 3px 1px rgba(60, 64, 67, 0.15);\n",
              "    fill: var(--button-hover-fill-color);\n",
              "  }\n",
              "\n",
              "  .colab-df-quickchart-complete:disabled,\n",
              "  .colab-df-quickchart-complete:disabled:hover {\n",
              "    background-color: var(--disabled-bg-color);\n",
              "    fill: var(--disabled-fill-color);\n",
              "    box-shadow: none;\n",
              "  }\n",
              "\n",
              "  .colab-df-spinner {\n",
              "    border: 2px solid var(--fill-color);\n",
              "    border-color: transparent;\n",
              "    border-bottom-color: var(--fill-color);\n",
              "    animation:\n",
              "      spin 1s steps(1) infinite;\n",
              "  }\n",
              "\n",
              "  @keyframes spin {\n",
              "    0% {\n",
              "      border-color: transparent;\n",
              "      border-bottom-color: var(--fill-color);\n",
              "      border-left-color: var(--fill-color);\n",
              "    }\n",
              "    20% {\n",
              "      border-color: transparent;\n",
              "      border-left-color: var(--fill-color);\n",
              "      border-top-color: var(--fill-color);\n",
              "    }\n",
              "    30% {\n",
              "      border-color: transparent;\n",
              "      border-left-color: var(--fill-color);\n",
              "      border-top-color: var(--fill-color);\n",
              "      border-right-color: var(--fill-color);\n",
              "    }\n",
              "    40% {\n",
              "      border-color: transparent;\n",
              "      border-right-color: var(--fill-color);\n",
              "      border-top-color: var(--fill-color);\n",
              "    }\n",
              "    60% {\n",
              "      border-color: transparent;\n",
              "      border-right-color: var(--fill-color);\n",
              "    }\n",
              "    80% {\n",
              "      border-color: transparent;\n",
              "      border-right-color: var(--fill-color);\n",
              "      border-bottom-color: var(--fill-color);\n",
              "    }\n",
              "    90% {\n",
              "      border-color: transparent;\n",
              "      border-bottom-color: var(--fill-color);\n",
              "    }\n",
              "  }\n",
              "</style>\n",
              "\n",
              "      <script>\n",
              "        async function quickchart(key) {\n",
              "          const quickchartButtonEl =\n",
              "            document.querySelector('#' + key + ' button');\n",
              "          quickchartButtonEl.disabled = true;  // To prevent multiple clicks.\n",
              "          quickchartButtonEl.classList.add('colab-df-spinner');\n",
              "          try {\n",
              "            const charts = await google.colab.kernel.invokeFunction(\n",
              "                'suggestCharts', [key], {});\n",
              "          } catch (error) {\n",
              "            console.error('Error during call to suggestCharts:', error);\n",
              "          }\n",
              "          quickchartButtonEl.classList.remove('colab-df-spinner');\n",
              "          quickchartButtonEl.classList.add('colab-df-quickchart-complete');\n",
              "        }\n",
              "        (() => {\n",
              "          let quickchartButtonEl =\n",
              "            document.querySelector('#df-ed89cf2d-4daf-40e0-9ddd-37001e7c8c6c button');\n",
              "          quickchartButtonEl.style.display =\n",
              "            google.colab.kernel.accessAllowed ? 'block' : 'none';\n",
              "        })();\n",
              "      </script>\n",
              "    </div>\n",
              "\n",
              "    </div>\n",
              "  </div>\n"
            ],
            "application/vnd.google.colaboratory.intrinsic+json": {
              "type": "dataframe",
              "summary": "{\n  \"name\": \"importantes_copy = importantes\",\n  \"rows\": 19,\n  \"fields\": [\n    {\n      \"column\": \"Columna\",\n      \"properties\": {\n        \"dtype\": \"string\",\n        \"num_unique_values\": 19,\n        \"samples\": [\n          \"Attendance\",\n          \"Sleep_Hours\",\n          \"Motivation_Level\"\n        ],\n        \"semantic_type\": \"\",\n        \"description\": \"\"\n      }\n    },\n    {\n      \"column\": \"Importancia\",\n      \"properties\": {\n        \"dtype\": \"number\",\n        \"std\": 0.08155677732881174,\n        \"min\": 0.0074974234276583476,\n        \"max\": 0.3332739113864349,\n        \"num_unique_values\": 19,\n        \"samples\": [\n          0.3332739113864349,\n          0.03589171415845545,\n          0.023523237628364706\n        ],\n        \"semantic_type\": \"\",\n        \"description\": \"\"\n      }\n    }\n  ]\n}"
            }
          },
          "metadata": {}
        }
      ]
    },
    {
      "cell_type": "code",
      "source": [
        "# Rango ajustable\n",
        "min_importancia = 0.01 # valor mínimo\n",
        "\n",
        "# Filtrado las columnas dentro del rango\n",
        "features_filtradas = importantes_copy[\n",
        "    (importantes_copy[\"Importancia\"] >= min_importancia)\n",
        "][\"Columna\"]\n",
        "\n",
        "# Filtrado el dataset original X\n",
        "X_filtrado = X[features_filtradas].copy()\n",
        "\n",
        "display(X_filtrado.info())"
      ],
      "metadata": {
        "id": "-4lJr60iBzft",
        "outputId": "196c59d1-a3ec-45cb-b47b-8098a0e30d40",
        "colab": {
          "base_uri": "https://localhost:8080/",
          "height": 451
        }
      },
      "execution_count": null,
      "outputs": [
        {
          "output_type": "stream",
          "name": "stdout",
          "text": [
            "<class 'pandas.core.frame.DataFrame'>\n",
            "Index: 6377 entries, 0 to 6606\n",
            "Data columns (total 17 columns):\n",
            " #   Column                          Non-Null Count  Dtype\n",
            "---  ------                          --------------  -----\n",
            " 0   Attendance                      6377 non-null   int64\n",
            " 1   Hours_Studied                   6377 non-null   int64\n",
            " 2   Previous_Scores                 6377 non-null   int64\n",
            " 3   Tutoring_Sessions               6377 non-null   int64\n",
            " 4   Access_to_Resources             6377 non-null   int64\n",
            " 5   Sleep_Hours                     6377 non-null   int64\n",
            " 6   Parental_Involvement            6377 non-null   int64\n",
            " 7   Physical_Activity               6377 non-null   int64\n",
            " 8   Parental_Education_Level        6377 non-null   int64\n",
            " 9   Family_Income                   6377 non-null   int64\n",
            " 10  Peer_Influence                  6377 non-null   int64\n",
            " 11  Motivation_Level                6377 non-null   int64\n",
            " 12  Distance_from_Home              6377 non-null   int64\n",
            " 13  Teacher_Quality                 6377 non-null   int64\n",
            " 14  Extracurricular_Activities_Yes  6377 non-null   int64\n",
            " 15  Gender_Male                     6377 non-null   int64\n",
            " 16  School_Type_Public              6377 non-null   int64\n",
            "dtypes: int64(17)\n",
            "memory usage: 896.8 KB\n"
          ]
        },
        {
          "output_type": "display_data",
          "data": {
            "text/plain": [
              "None"
            ]
          },
          "metadata": {}
        }
      ]
    },
    {
      "cell_type": "code",
      "source": [
        "X_train, X_test, y_train, y_test = train_test_split(\n",
        "    X_filtrado, y,\n",
        "    test_size=0.1,       # 80 train - 20 test\n",
        "    stratify=y,          # mantiene proporciones del desbalance\n",
        "    random_state=42\n",
        ")"
      ],
      "metadata": {
        "id": "0Xtryo8eB8c8"
      },
      "execution_count": null,
      "outputs": []
    },
    {
      "cell_type": "code",
      "source": [
        "grid, scores_folds, balanced_acc_final, mcc_final, report, cm, importantes_2 = flujo_clasificacion(forest, param_grid, X_train, X_test, y_train, y_test)"
      ],
      "metadata": {
        "id": "SwcnU0PcB8wT"
      },
      "execution_count": null,
      "outputs": []
    },
    {
      "cell_type": "code",
      "source": [
        "# Evaluacion final del mejor modelo\n",
        "print(\"Evaluación final:\")\n",
        "print(\"Balanced Accuracy:\", round(balanced_acc_final, 4))\n",
        "print(\"Matthews Corrcoef:\", round(mcc_final, 4))\n",
        "print(\"\\nClassification Report:\")\n",
        "print(report)"
      ],
      "metadata": {
        "id": "CL7gndoxB9An",
        "outputId": "4ef357e5-7170-42e0-97c6-207730be3bf0",
        "colab": {
          "base_uri": "https://localhost:8080/"
        }
      },
      "execution_count": null,
      "outputs": [
        {
          "output_type": "stream",
          "name": "stdout",
          "text": [
            "Evaluación final:\n",
            "Balanced Accuracy: 0.864\n",
            "Matthews Corrcoef: 0.7966\n",
            "\n",
            "Classification Report:\n",
            "              precision    recall  f1-score   support\n",
            "\n",
            "       False       0.92      0.99      0.95       480\n",
            "        True       0.95      0.74      0.83       158\n",
            "\n",
            "    accuracy                           0.93       638\n",
            "   macro avg       0.94      0.86      0.89       638\n",
            "weighted avg       0.93      0.93      0.92       638\n",
            "\n"
          ]
        }
      ]
    },
    {
      "cell_type": "markdown",
      "source": [
        "## **Support Vector Machine**"
      ],
      "metadata": {
        "id": "nZteMwX7IY97"
      }
    },
    {
      "cell_type": "code",
      "source": [
        "# Modelo base\n",
        "svc = SVC()\n",
        "\n",
        "# Definición del grid de hiperparámetros\n",
        "param_grid = {\n",
        "    'kernel': ['rbf', 'poly', 'sigmoid'],  # los kernels que queremos probar\n",
        "    'gamma': ['scale', 'auto', 0.001, 0.01, 0.1, 1]\n",
        "}"
      ],
      "metadata": {
        "id": "-5q7kXCqDYRj"
      },
      "execution_count": null,
      "outputs": []
    },
    {
      "cell_type": "code",
      "source": [
        "# Llamado de la función\n",
        "grid, scores_folds, balanced_acc_final, mcc_final, report, cm, importantes = flujo_clasificacion(svc, param_grid, X_train, X_test, y_train, y_test)"
      ],
      "metadata": {
        "id": "KhyorOVADiPF"
      },
      "execution_count": null,
      "outputs": []
    },
    {
      "cell_type": "code",
      "source": [
        "# Mejores hiperparametros\n",
        "print(\"Mejores hiperparámetros:\", grid.best_params_)\n",
        "print(\"Mejor balanced accuracy promedio:\", grid.best_score_)"
      ],
      "metadata": {
        "id": "p36g4knmDlQ2"
      },
      "execution_count": null,
      "outputs": []
    },
    {
      "cell_type": "code",
      "source": [
        "# Balanced accuracy de cada fold del mejor modelo encontrado\n",
        "print(\"Balanced Accuracy en cada fold del mejor modelo:\")\n",
        "for i, score in enumerate(scores_folds, start=1):\n",
        "    print(f\"Fold {i}: {score:.4f}\")\n",
        "\n",
        "print(\"\\nPromedio:\", scores_folds.mean().round(4), \"| Desviación estándar:\", scores_folds.std().round(4))"
      ],
      "metadata": {
        "id": "7HGPSB9GDnsH"
      },
      "execution_count": null,
      "outputs": []
    },
    {
      "cell_type": "code",
      "source": [
        "# Evaluacion final del mejor modelo\n",
        "print(\"Evaluación final:\")\n",
        "print(\"Balanced Accuracy:\", round(balanced_acc_final, 4))\n",
        "print(\"Matthews Corrcoef:\", round(mcc_final, 4))\n",
        "print(\"\\nClassification Report:\")\n",
        "print(report)"
      ],
      "metadata": {
        "id": "cuEzk3cdDqOX",
        "outputId": "99aa2ea6-f666-49ce-d4c3-8c4be2581b17",
        "colab": {
          "base_uri": "https://localhost:8080/"
        }
      },
      "execution_count": null,
      "outputs": [
        {
          "output_type": "stream",
          "name": "stdout",
          "text": [
            "Evaluación final:\n",
            "Balanced Accuracy: 0.8763\n",
            "Matthews Corrcoef: 0.7743\n",
            "\n",
            "Classification Report:\n",
            "              precision    recall  f1-score   support\n",
            "\n",
            "       False       0.93      0.96      0.95       960\n",
            "        True       0.86      0.79      0.83       316\n",
            "\n",
            "    accuracy                           0.92      1276\n",
            "   macro avg       0.90      0.88      0.89      1276\n",
            "weighted avg       0.92      0.92      0.92      1276\n",
            "\n"
          ]
        }
      ]
    },
    {
      "cell_type": "markdown",
      "source": [
        "# **Regresión**\n",
        "\n",
        "---"
      ],
      "metadata": {
        "id": "At-gpETbNr3Z"
      }
    },
    {
      "cell_type": "code",
      "source": [
        "#@title Primera partición de dataset para evaluar y evitar sobre entrenamiento\n",
        "\n",
        "# Copia del DataFrame\n",
        "df_r = df_encoded.copy()\n",
        "\n",
        "# Variables predictoras (todas menos Exam_Score)\n",
        "X = df_r.drop(['Exam_Score'], axis=1)\n",
        "\n",
        "# Variable objetivo\n",
        "y = df_r['Exam_Score']\n",
        "\n",
        "# Partición inicial Train/Test\n",
        "X_train, X_test, y_train, y_test = train_test_split(\n",
        "    X, y,\n",
        "    test_size=0.2,       # 80% train - 20% test\n",
        "    random_state=42\n",
        ")\n"
      ],
      "metadata": {
        "id": "TscYnj8_OEwl"
      },
      "execution_count": 5,
      "outputs": []
    },
    {
      "cell_type": "code",
      "source": [
        "# @title Función de regresion\n",
        "def flujo_regresion(modelo, param_grid, score, X_train, X_test, y_train, y_test):\n",
        "\n",
        "  # Validación cruzada\n",
        "  cv = KFold(n_splits=5, shuffle=True, random_state=42)\n",
        "\n",
        "  # Tuning con grid_search\n",
        "  grid = GridSearchCV(\n",
        "      estimator=modelo,\n",
        "      param_grid=param_grid,\n",
        "      cv=cv,\n",
        "      scoring= score,\n",
        "      n_jobs=-1,\n",
        "      return_train_score=True\n",
        "  )\n",
        "\n",
        "  # Entrenamiento del GridSearch\n",
        "  grid.fit(X_train, y_train)\n",
        "\n",
        "  # Obtención del mejor modelo\n",
        "  mejor_modelo = grid.best_estimator_\n",
        "\n",
        "  # Metricas de cada fold del mejor modelo\n",
        "  scores_folds = cross_val_score(\n",
        "      mejor_modelo, X_train, y_train,\n",
        "      cv=cv,\n",
        "      scoring= score\n",
        "  )\n",
        "\n",
        "  # Entrenamiento del modelo fina con todo el x_train y evaluar con el test\n",
        "  mejor_modelo.fit(X_train, y_train)\n",
        "  y_pred = mejor_modelo.predict(X_test)\n",
        "\n",
        "  absolte_error = mean_absolute_error(y_test, y_pred)\n",
        "  mean_squared = mean_squared_error(y_test, y_pred)\n",
        "\n",
        "  # Importancia de columnas\n",
        "  try: # manejo de error para el SVC\n",
        "    importantes = pd.DataFrame({\n",
        "        'Columna': X_train.columns,\n",
        "        'Importancia': mejor_modelo.feature_importances_\n",
        "    })\n",
        "  except AttributeError:\n",
        "    importantes = None\n",
        "    print(\"El modelo no tiene un atributo 'feature_importances_'.\")\n",
        "\n",
        "  return grid, scores_folds, absolte_error, mean_squared, importantes, y_pred"
      ],
      "metadata": {
        "id": "vpvIjRD2SZ-b",
        "cellView": "form"
      },
      "execution_count": 55,
      "outputs": []
    },
    {
      "cell_type": "markdown",
      "source": [
        "## **Decision Tree**"
      ],
      "metadata": {
        "id": "d8rhdaqISChS"
      }
    },
    {
      "cell_type": "code",
      "source": [
        "# Modelo base\n",
        "tree = DecisionTreeRegressor(random_state=42)\n",
        "\n",
        "# Espacio de hiperparámetros para el tuning\n",
        "param_grid = {\n",
        "    'max_depth': [1, 2, 3, 5, 7, 10, 20, 30, 50, 100, None]\n",
        "}"
      ],
      "metadata": {
        "id": "MeoUwj975SeC"
      },
      "execution_count": 56,
      "outputs": []
    },
    {
      "cell_type": "code",
      "source": [
        "# Metrica de mejora del modelo\n",
        "score = make_scorer(mean_absolute_error, greater_is_better=False)\n",
        "# Llamado de la función\n",
        "grid, scores_folds, absolte_error, mean_squared, importantes, y_pred = flujo_regresion(tree, param_grid, score, X_train, X_test, y_train, y_test)"
      ],
      "metadata": {
        "id": "L_Axixls5nmQ"
      },
      "execution_count": 57,
      "outputs": []
    },
    {
      "cell_type": "code",
      "source": [
        "# Mejores hiperparametros\n",
        "print(\"Mejores hiperparámetros:\", grid.best_params_)\n",
        "print(\"Mejor evaluación promedio:\", -grid.best_score_)"
      ],
      "metadata": {
        "id": "hSu_IdXa88U7",
        "outputId": "02701a42-c1f8-4dd4-dac8-e941cf928845",
        "colab": {
          "base_uri": "https://localhost:8080/"
        }
      },
      "execution_count": 58,
      "outputs": [
        {
          "output_type": "stream",
          "name": "stdout",
          "text": [
            "Mejores hiperparámetros: {'max_depth': 7}\n",
            "Mejor evaluación promedio: 1.6375252192037189\n"
          ]
        }
      ]
    },
    {
      "cell_type": "code",
      "source": [
        "# Evaluaciónde cada fold del mejor modelo encontrado\n",
        "print(\"Evaluación en cada fold del mejor modelo:\")\n",
        "for i, score in enumerate(scores_folds, start=1):\n",
        "    print(f\"Fold {i}: {-score:.4f}\")\n",
        "\n",
        "print(\"\\nPromedio:\", -scores_folds.mean().round(4), \"| Desviación estándar:\", scores_folds.std().round(4))"
      ],
      "metadata": {
        "id": "3ypZJJTp9qUb",
        "outputId": "1a7a6622-fbce-4f90-929a-8498d4d77e87",
        "colab": {
          "base_uri": "https://localhost:8080/"
        }
      },
      "execution_count": 59,
      "outputs": [
        {
          "output_type": "stream",
          "name": "stdout",
          "text": [
            "Evaluación en cada fold del mejor modelo:\n",
            "Fold 1: 1.5219\n",
            "Fold 2: 1.6387\n",
            "Fold 3: 1.6293\n",
            "Fold 4: 1.6559\n",
            "Fold 5: 1.7418\n",
            "\n",
            "Promedio: 1.6375 | Desviación estándar: 0.0702\n"
          ]
        }
      ]
    },
    {
      "cell_type": "code",
      "source": [
        "# Evaluacion final del mejor modelo\n",
        "print(\"Evaluación final:\")\n",
        "print(\"MAE:\", round(absolte_error, 4))\n",
        "print(\"MSE:\", round(mean_squared, 4))"
      ],
      "metadata": {
        "id": "KBZSAYhF9y26",
        "outputId": "c4f82929-d157-43f7-ddc3-c332530d60ed",
        "colab": {
          "base_uri": "https://localhost:8080/"
        }
      },
      "execution_count": 60,
      "outputs": [
        {
          "output_type": "stream",
          "name": "stdout",
          "text": [
            "Evaluación final:\n",
            "MAE: 1.6944\n",
            "MSE: 9.7758\n"
          ]
        }
      ]
    },
    {
      "cell_type": "markdown",
      "source": [
        "###**¿Todas mis columnas son importantes?**"
      ],
      "metadata": {
        "id": "1zyiFodaAyfp"
      }
    },
    {
      "cell_type": "code",
      "source": [
        "display(importantes.sort_values(by='Importancia', ascending=False))\n",
        "importantes_copy = importantes.sort_values(by='Importancia', ascending=False).copy()"
      ],
      "metadata": {
        "id": "LEXcRDCiAyJW",
        "outputId": "ccb17074-83f7-4661-9987-490f8ccf73f8",
        "colab": {
          "base_uri": "https://localhost:8080/",
          "height": 645
        }
      },
      "execution_count": 70,
      "outputs": [
        {
          "output_type": "display_data",
          "data": {
            "text/plain": [
              "                           Columna  Importancia\n",
              "1                       Attendance     0.504710\n",
              "0                    Hours_Studied     0.310297\n",
              "5                  Previous_Scores     0.043296\n",
              "2             Parental_Involvement     0.039106\n",
              "3              Access_to_Resources     0.022036\n",
              "4                      Sleep_Hours     0.016808\n",
              "11               Physical_Activity     0.014197\n",
              "7                Tutoring_Sessions     0.013558\n",
              "13              Distance_from_Home     0.009088\n",
              "8                    Family_Income     0.009040\n",
              "16              School_Type_Public     0.005939\n",
              "12        Parental_Education_Level     0.005503\n",
              "6                 Motivation_Level     0.002506\n",
              "9                  Teacher_Quality     0.001840\n",
              "10                  Peer_Influence     0.001616\n",
              "18                     Gender_Male     0.000461\n",
              "14  Extracurricular_Activities_Yes     0.000000\n",
              "15             Internet_Access_Yes     0.000000\n",
              "17       Learning_Disabilities_Yes     0.000000"
            ],
            "text/html": [
              "\n",
              "  <div id=\"df-d1b9485c-1f4c-4006-af42-1fd6ba75e437\" class=\"colab-df-container\">\n",
              "    <div>\n",
              "<style scoped>\n",
              "    .dataframe tbody tr th:only-of-type {\n",
              "        vertical-align: middle;\n",
              "    }\n",
              "\n",
              "    .dataframe tbody tr th {\n",
              "        vertical-align: top;\n",
              "    }\n",
              "\n",
              "    .dataframe thead th {\n",
              "        text-align: right;\n",
              "    }\n",
              "</style>\n",
              "<table border=\"1\" class=\"dataframe\">\n",
              "  <thead>\n",
              "    <tr style=\"text-align: right;\">\n",
              "      <th></th>\n",
              "      <th>Columna</th>\n",
              "      <th>Importancia</th>\n",
              "    </tr>\n",
              "  </thead>\n",
              "  <tbody>\n",
              "    <tr>\n",
              "      <th>1</th>\n",
              "      <td>Attendance</td>\n",
              "      <td>0.504710</td>\n",
              "    </tr>\n",
              "    <tr>\n",
              "      <th>0</th>\n",
              "      <td>Hours_Studied</td>\n",
              "      <td>0.310297</td>\n",
              "    </tr>\n",
              "    <tr>\n",
              "      <th>5</th>\n",
              "      <td>Previous_Scores</td>\n",
              "      <td>0.043296</td>\n",
              "    </tr>\n",
              "    <tr>\n",
              "      <th>2</th>\n",
              "      <td>Parental_Involvement</td>\n",
              "      <td>0.039106</td>\n",
              "    </tr>\n",
              "    <tr>\n",
              "      <th>3</th>\n",
              "      <td>Access_to_Resources</td>\n",
              "      <td>0.022036</td>\n",
              "    </tr>\n",
              "    <tr>\n",
              "      <th>4</th>\n",
              "      <td>Sleep_Hours</td>\n",
              "      <td>0.016808</td>\n",
              "    </tr>\n",
              "    <tr>\n",
              "      <th>11</th>\n",
              "      <td>Physical_Activity</td>\n",
              "      <td>0.014197</td>\n",
              "    </tr>\n",
              "    <tr>\n",
              "      <th>7</th>\n",
              "      <td>Tutoring_Sessions</td>\n",
              "      <td>0.013558</td>\n",
              "    </tr>\n",
              "    <tr>\n",
              "      <th>13</th>\n",
              "      <td>Distance_from_Home</td>\n",
              "      <td>0.009088</td>\n",
              "    </tr>\n",
              "    <tr>\n",
              "      <th>8</th>\n",
              "      <td>Family_Income</td>\n",
              "      <td>0.009040</td>\n",
              "    </tr>\n",
              "    <tr>\n",
              "      <th>16</th>\n",
              "      <td>School_Type_Public</td>\n",
              "      <td>0.005939</td>\n",
              "    </tr>\n",
              "    <tr>\n",
              "      <th>12</th>\n",
              "      <td>Parental_Education_Level</td>\n",
              "      <td>0.005503</td>\n",
              "    </tr>\n",
              "    <tr>\n",
              "      <th>6</th>\n",
              "      <td>Motivation_Level</td>\n",
              "      <td>0.002506</td>\n",
              "    </tr>\n",
              "    <tr>\n",
              "      <th>9</th>\n",
              "      <td>Teacher_Quality</td>\n",
              "      <td>0.001840</td>\n",
              "    </tr>\n",
              "    <tr>\n",
              "      <th>10</th>\n",
              "      <td>Peer_Influence</td>\n",
              "      <td>0.001616</td>\n",
              "    </tr>\n",
              "    <tr>\n",
              "      <th>18</th>\n",
              "      <td>Gender_Male</td>\n",
              "      <td>0.000461</td>\n",
              "    </tr>\n",
              "    <tr>\n",
              "      <th>14</th>\n",
              "      <td>Extracurricular_Activities_Yes</td>\n",
              "      <td>0.000000</td>\n",
              "    </tr>\n",
              "    <tr>\n",
              "      <th>15</th>\n",
              "      <td>Internet_Access_Yes</td>\n",
              "      <td>0.000000</td>\n",
              "    </tr>\n",
              "    <tr>\n",
              "      <th>17</th>\n",
              "      <td>Learning_Disabilities_Yes</td>\n",
              "      <td>0.000000</td>\n",
              "    </tr>\n",
              "  </tbody>\n",
              "</table>\n",
              "</div>\n",
              "    <div class=\"colab-df-buttons\">\n",
              "\n",
              "  <div class=\"colab-df-container\">\n",
              "    <button class=\"colab-df-convert\" onclick=\"convertToInteractive('df-d1b9485c-1f4c-4006-af42-1fd6ba75e437')\"\n",
              "            title=\"Convert this dataframe to an interactive table.\"\n",
              "            style=\"display:none;\">\n",
              "\n",
              "  <svg xmlns=\"http://www.w3.org/2000/svg\" height=\"24px\" viewBox=\"0 -960 960 960\">\n",
              "    <path d=\"M120-120v-720h720v720H120Zm60-500h600v-160H180v160Zm220 220h160v-160H400v160Zm0 220h160v-160H400v160ZM180-400h160v-160H180v160Zm440 0h160v-160H620v160ZM180-180h160v-160H180v160Zm440 0h160v-160H620v160Z\"/>\n",
              "  </svg>\n",
              "    </button>\n",
              "\n",
              "  <style>\n",
              "    .colab-df-container {\n",
              "      display:flex;\n",
              "      gap: 12px;\n",
              "    }\n",
              "\n",
              "    .colab-df-convert {\n",
              "      background-color: #E8F0FE;\n",
              "      border: none;\n",
              "      border-radius: 50%;\n",
              "      cursor: pointer;\n",
              "      display: none;\n",
              "      fill: #1967D2;\n",
              "      height: 32px;\n",
              "      padding: 0 0 0 0;\n",
              "      width: 32px;\n",
              "    }\n",
              "\n",
              "    .colab-df-convert:hover {\n",
              "      background-color: #E2EBFA;\n",
              "      box-shadow: 0px 1px 2px rgba(60, 64, 67, 0.3), 0px 1px 3px 1px rgba(60, 64, 67, 0.15);\n",
              "      fill: #174EA6;\n",
              "    }\n",
              "\n",
              "    .colab-df-buttons div {\n",
              "      margin-bottom: 4px;\n",
              "    }\n",
              "\n",
              "    [theme=dark] .colab-df-convert {\n",
              "      background-color: #3B4455;\n",
              "      fill: #D2E3FC;\n",
              "    }\n",
              "\n",
              "    [theme=dark] .colab-df-convert:hover {\n",
              "      background-color: #434B5C;\n",
              "      box-shadow: 0px 1px 3px 1px rgba(0, 0, 0, 0.15);\n",
              "      filter: drop-shadow(0px 1px 2px rgba(0, 0, 0, 0.3));\n",
              "      fill: #FFFFFF;\n",
              "    }\n",
              "  </style>\n",
              "\n",
              "    <script>\n",
              "      const buttonEl =\n",
              "        document.querySelector('#df-d1b9485c-1f4c-4006-af42-1fd6ba75e437 button.colab-df-convert');\n",
              "      buttonEl.style.display =\n",
              "        google.colab.kernel.accessAllowed ? 'block' : 'none';\n",
              "\n",
              "      async function convertToInteractive(key) {\n",
              "        const element = document.querySelector('#df-d1b9485c-1f4c-4006-af42-1fd6ba75e437');\n",
              "        const dataTable =\n",
              "          await google.colab.kernel.invokeFunction('convertToInteractive',\n",
              "                                                    [key], {});\n",
              "        if (!dataTable) return;\n",
              "\n",
              "        const docLinkHtml = 'Like what you see? Visit the ' +\n",
              "          '<a target=\"_blank\" href=https://colab.research.google.com/notebooks/data_table.ipynb>data table notebook</a>'\n",
              "          + ' to learn more about interactive tables.';\n",
              "        element.innerHTML = '';\n",
              "        dataTable['output_type'] = 'display_data';\n",
              "        await google.colab.output.renderOutput(dataTable, element);\n",
              "        const docLink = document.createElement('div');\n",
              "        docLink.innerHTML = docLinkHtml;\n",
              "        element.appendChild(docLink);\n",
              "      }\n",
              "    </script>\n",
              "  </div>\n",
              "\n",
              "\n",
              "    <div id=\"df-0eadbaf3-a4d1-486e-bbb4-1365ff467d09\">\n",
              "      <button class=\"colab-df-quickchart\" onclick=\"quickchart('df-0eadbaf3-a4d1-486e-bbb4-1365ff467d09')\"\n",
              "                title=\"Suggest charts\"\n",
              "                style=\"display:none;\">\n",
              "\n",
              "<svg xmlns=\"http://www.w3.org/2000/svg\" height=\"24px\"viewBox=\"0 0 24 24\"\n",
              "     width=\"24px\">\n",
              "    <g>\n",
              "        <path d=\"M19 3H5c-1.1 0-2 .9-2 2v14c0 1.1.9 2 2 2h14c1.1 0 2-.9 2-2V5c0-1.1-.9-2-2-2zM9 17H7v-7h2v7zm4 0h-2V7h2v10zm4 0h-2v-4h2v4z\"/>\n",
              "    </g>\n",
              "</svg>\n",
              "      </button>\n",
              "\n",
              "<style>\n",
              "  .colab-df-quickchart {\n",
              "      --bg-color: #E8F0FE;\n",
              "      --fill-color: #1967D2;\n",
              "      --hover-bg-color: #E2EBFA;\n",
              "      --hover-fill-color: #174EA6;\n",
              "      --disabled-fill-color: #AAA;\n",
              "      --disabled-bg-color: #DDD;\n",
              "  }\n",
              "\n",
              "  [theme=dark] .colab-df-quickchart {\n",
              "      --bg-color: #3B4455;\n",
              "      --fill-color: #D2E3FC;\n",
              "      --hover-bg-color: #434B5C;\n",
              "      --hover-fill-color: #FFFFFF;\n",
              "      --disabled-bg-color: #3B4455;\n",
              "      --disabled-fill-color: #666;\n",
              "  }\n",
              "\n",
              "  .colab-df-quickchart {\n",
              "    background-color: var(--bg-color);\n",
              "    border: none;\n",
              "    border-radius: 50%;\n",
              "    cursor: pointer;\n",
              "    display: none;\n",
              "    fill: var(--fill-color);\n",
              "    height: 32px;\n",
              "    padding: 0;\n",
              "    width: 32px;\n",
              "  }\n",
              "\n",
              "  .colab-df-quickchart:hover {\n",
              "    background-color: var(--hover-bg-color);\n",
              "    box-shadow: 0 1px 2px rgba(60, 64, 67, 0.3), 0 1px 3px 1px rgba(60, 64, 67, 0.15);\n",
              "    fill: var(--button-hover-fill-color);\n",
              "  }\n",
              "\n",
              "  .colab-df-quickchart-complete:disabled,\n",
              "  .colab-df-quickchart-complete:disabled:hover {\n",
              "    background-color: var(--disabled-bg-color);\n",
              "    fill: var(--disabled-fill-color);\n",
              "    box-shadow: none;\n",
              "  }\n",
              "\n",
              "  .colab-df-spinner {\n",
              "    border: 2px solid var(--fill-color);\n",
              "    border-color: transparent;\n",
              "    border-bottom-color: var(--fill-color);\n",
              "    animation:\n",
              "      spin 1s steps(1) infinite;\n",
              "  }\n",
              "\n",
              "  @keyframes spin {\n",
              "    0% {\n",
              "      border-color: transparent;\n",
              "      border-bottom-color: var(--fill-color);\n",
              "      border-left-color: var(--fill-color);\n",
              "    }\n",
              "    20% {\n",
              "      border-color: transparent;\n",
              "      border-left-color: var(--fill-color);\n",
              "      border-top-color: var(--fill-color);\n",
              "    }\n",
              "    30% {\n",
              "      border-color: transparent;\n",
              "      border-left-color: var(--fill-color);\n",
              "      border-top-color: var(--fill-color);\n",
              "      border-right-color: var(--fill-color);\n",
              "    }\n",
              "    40% {\n",
              "      border-color: transparent;\n",
              "      border-right-color: var(--fill-color);\n",
              "      border-top-color: var(--fill-color);\n",
              "    }\n",
              "    60% {\n",
              "      border-color: transparent;\n",
              "      border-right-color: var(--fill-color);\n",
              "    }\n",
              "    80% {\n",
              "      border-color: transparent;\n",
              "      border-right-color: var(--fill-color);\n",
              "      border-bottom-color: var(--fill-color);\n",
              "    }\n",
              "    90% {\n",
              "      border-color: transparent;\n",
              "      border-bottom-color: var(--fill-color);\n",
              "    }\n",
              "  }\n",
              "</style>\n",
              "\n",
              "      <script>\n",
              "        async function quickchart(key) {\n",
              "          const quickchartButtonEl =\n",
              "            document.querySelector('#' + key + ' button');\n",
              "          quickchartButtonEl.disabled = true;  // To prevent multiple clicks.\n",
              "          quickchartButtonEl.classList.add('colab-df-spinner');\n",
              "          try {\n",
              "            const charts = await google.colab.kernel.invokeFunction(\n",
              "                'suggestCharts', [key], {});\n",
              "          } catch (error) {\n",
              "            console.error('Error during call to suggestCharts:', error);\n",
              "          }\n",
              "          quickchartButtonEl.classList.remove('colab-df-spinner');\n",
              "          quickchartButtonEl.classList.add('colab-df-quickchart-complete');\n",
              "        }\n",
              "        (() => {\n",
              "          let quickchartButtonEl =\n",
              "            document.querySelector('#df-0eadbaf3-a4d1-486e-bbb4-1365ff467d09 button');\n",
              "          quickchartButtonEl.style.display =\n",
              "            google.colab.kernel.accessAllowed ? 'block' : 'none';\n",
              "        })();\n",
              "      </script>\n",
              "    </div>\n",
              "\n",
              "    </div>\n",
              "  </div>\n"
            ],
            "application/vnd.google.colaboratory.intrinsic+json": {
              "type": "dataframe",
              "summary": "{\n  \"name\": \"importantes_copy = importantes\",\n  \"rows\": 19,\n  \"fields\": [\n    {\n      \"column\": \"Columna\",\n      \"properties\": {\n        \"dtype\": \"string\",\n        \"num_unique_values\": 19,\n        \"samples\": [\n          \"Attendance\",\n          \"Sleep_Hours\",\n          \"Parental_Education_Level\"\n        ],\n        \"semantic_type\": \"\",\n        \"description\": \"\"\n      }\n    },\n    {\n      \"column\": \"Importancia\",\n      \"properties\": {\n        \"dtype\": \"number\",\n        \"std\": 0.12978281262414737,\n        \"min\": 0.0,\n        \"max\": 0.5047096652979509,\n        \"num_unique_values\": 17,\n        \"samples\": [\n          0.5047096652979509,\n          0.3102974105729541,\n          0.01680753396495697\n        ],\n        \"semantic_type\": \"\",\n        \"description\": \"\"\n      }\n    }\n  ]\n}"
            }
          },
          "metadata": {}
        }
      ]
    },
    {
      "cell_type": "code",
      "source": [
        "# Rango ajustable\n",
        "min_importancia = 0.02 # valor mínimo\n",
        "\n",
        "# Filtrado las columnas dentro del rango\n",
        "features_filtradas = importantes_copy[\n",
        "    (importantes_copy[\"Importancia\"] >= min_importancia)\n",
        "][\"Columna\"]\n",
        "\n",
        "# Filtrado el dataset original X\n",
        "X_filtrado = X[features_filtradas].copy()\n",
        "\n",
        "display(X_filtrado.info())"
      ],
      "metadata": {
        "id": "gtJGXNWGA2sL",
        "outputId": "db0f7477-5a22-4af7-805b-b43c5726bea1",
        "colab": {
          "base_uri": "https://localhost:8080/",
          "height": 243
        }
      },
      "execution_count": 110,
      "outputs": [
        {
          "output_type": "stream",
          "name": "stdout",
          "text": [
            "<class 'pandas.core.frame.DataFrame'>\n",
            "Index: 6377 entries, 0 to 6606\n",
            "Data columns (total 5 columns):\n",
            " #   Column                Non-Null Count  Dtype\n",
            "---  ------                --------------  -----\n",
            " 0   Attendance            6377 non-null   int64\n",
            " 1   Hours_Studied         6377 non-null   int64\n",
            " 2   Previous_Scores       6377 non-null   int64\n",
            " 3   Parental_Involvement  6377 non-null   int64\n",
            " 4   Access_to_Resources   6377 non-null   int64\n",
            "dtypes: int64(5)\n",
            "memory usage: 298.9 KB\n"
          ]
        },
        {
          "output_type": "display_data",
          "data": {
            "text/plain": [
              "None"
            ]
          },
          "metadata": {}
        }
      ]
    },
    {
      "cell_type": "code",
      "source": [
        "X_train, X_test, y_train, y_test = train_test_split(\n",
        "    X_filtrado, y,\n",
        "    test_size=0.2,\n",
        "    random_state=42\n",
        ")"
      ],
      "metadata": {
        "id": "3migtCjJA-ni"
      },
      "execution_count": 111,
      "outputs": []
    },
    {
      "cell_type": "code",
      "source": [
        "score2 = make_scorer(mean_absolute_error, greater_is_better=False)\n",
        "grid, scores_folds, absolte_error, mean_squared, importantes2, y_pred = flujo_regresion(tree, param_grid, score2, X_train, X_test, y_train, y_test)"
      ],
      "metadata": {
        "id": "lUNHA3Y_BBmV"
      },
      "execution_count": 112,
      "outputs": []
    },
    {
      "cell_type": "code",
      "source": [
        "# Evaluacion final del mejor modelo\n",
        "print(\"Evaluación final:\")\n",
        "print(\"MAE:\", round(absolte_error, 4))\n",
        "print(\"MSE:\", round(mean_squared, 4))"
      ],
      "metadata": {
        "id": "bzQrxnV4BIdS",
        "outputId": "85a8d72a-0f00-4e08-fd25-663a8d5fbaf4",
        "colab": {
          "base_uri": "https://localhost:8080/"
        }
      },
      "execution_count": 113,
      "outputs": [
        {
          "output_type": "stream",
          "name": "stdout",
          "text": [
            "Evaluación final:\n",
            "MAE: 1.6321\n",
            "MSE: 8.4604\n"
          ]
        }
      ]
    },
    {
      "cell_type": "code",
      "source": [
        "plt.figure(figsize=(6,6))\n",
        "plt.scatter(y_test, y_pred, alpha=0.6, color='teal')\n",
        "plt.plot([y_test.min(), y_test.max()],\n",
        "         [y_test.min(), y_test.max()],\n",
        "         'r--', lw=2)  # línea ideal (predicción perfecta)\n",
        "\n",
        "plt.xlabel(\"Valores reales (y_test)\")\n",
        "plt.ylabel(\"Predicciones (y_pred)\")\n",
        "plt.title(\"Comparación: valores reales vs predichos\")\n",
        "plt.grid(True)\n",
        "plt.show()\n"
      ],
      "metadata": {
        "id": "lw0oWK5uDkZy",
        "outputId": "8e8c9847-d13f-4b0a-e118-df2165d77a29",
        "colab": {
          "base_uri": "https://localhost:8080/",
          "height": 565
        }
      },
      "execution_count": 118,
      "outputs": [
        {
          "output_type": "display_data",
          "data": {
            "text/plain": [
              "<Figure size 600x600 with 1 Axes>"
            ],
            "image/png": "[encoded data removed]"
          },
          "metadata": {}
        }
      ]
    },
    {
      "cell_type": "markdown",
      "source": [
        "## **Random Forest**"
      ],
      "metadata": {
        "id": "OO2SFdtOSDFf"
      }
    },
    {
      "cell_type": "markdown",
      "source": [
        "## **Support Vector Machine**"
      ],
      "metadata": {
        "id": "UKZysYUzSRBg"
      }
    }
  ]
}